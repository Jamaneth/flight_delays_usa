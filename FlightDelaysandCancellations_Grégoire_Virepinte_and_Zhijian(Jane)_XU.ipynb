{
 "cells": [
  {
   "cell_type": "markdown",
   "metadata": {
    "nbpresent": {
     "id": "2e79b67e-54af-4355-a4f7-501a84ba97ab"
    }
   },
   "source": [
    "# Flight delays and cancellations\n",
    "\n",
    "\n",
    "### Student 1 (first half presentation)\n",
    "Name : Zhijian (Jane) Xu\n",
    "<br>Group : intermediate\n",
    "### Student 2 (second half presentation)\n",
    "Name : Grégoire Virepinte\n",
    "<br>Group : intermediate\n",
    "### Data name : Flight Delays and Cancellations\n",
    "### Data URL : https://www.kaggle.com/usdot/flight-delays\n",
    "Note: another, more presentable version for this notebook is available here https://plot.ly/~janeXU/21/flight-delays-and-cancellations-authors/\n",
    "\n",
    "### Short summary of the project and datasource :\n",
    "The data was collected and published by the DOT's Bureau of Transportation Statistics. It provides information about every domestic flight operated by large carriers in the United States in 2015, and tracks their performance.\n",
    "\n",
    "Our aim in this document will be to explore this data, identify which factors will result in a larger amount of delay upon arrival, and eventually attempt to predict how likely it is that a flight will be late or not based on all the prior information that we can find."
   ]
  },
  {
   "cell_type": "markdown",
   "metadata": {
    "nbpresent": {
     "id": "3c91fb7c-2c5c-4265-93c0-6f7dc15a6db1"
    }
   },
   "source": [
    "### Aims : \n",
    "Our aim in this document will be:\n",
    "- To explore this data,\n",
    "- To identify which factors will result in a larger amount of delay upon arrival,\n",
    "- And, eventually, to attempt to predict how likely it is that a flight will be late or not based on all the prior information that we can find."
   ]
  },
  {
   "cell_type": "markdown",
   "metadata": {
    "nbpresent": {
     "id": "99276576-3e6a-413f-b4f1-4649967250d4"
    }
   },
   "source": [
    " "
   ]
  },
  {
   "cell_type": "code",
   "execution_count": 1,
   "metadata": {
    "nbpresent": {
     "id": "33552f86-364d-4321-add5-157f2a0656b5"
    }
   },
   "outputs": [
    {
     "name": "stderr",
     "output_type": "stream",
     "text": [
      "C:\\Users\\Grégoire\\Anaconda3\\lib\\site-packages\\sklearn\\cross_validation.py:41: DeprecationWarning:\n",
      "\n",
      "This module was deprecated in version 0.18 in favor of the model_selection module into which all the refactored classes and functions are moved. Also note that the interface of the new CV iterators are different from that of this module. This module will be removed in 0.20.\n",
      "\n"
     ]
    }
   ],
   "source": [
    "import numpy as np\n",
    "import pandas as pd\n",
    "import matplotlib\n",
    "import matplotlib.pyplot as plt\n",
    "import scipy\n",
    "import scipy.stats as stats\n",
    "import time\n",
    "import sklearn\n",
    "import urllib\n",
    "\n",
    "import plotly.plotly as py\n",
    "import plotly.tools as tls\n",
    "import plotly.graph_objs as go \n",
    "import plotly.figure_factory as ff\n",
    "\n",
    "from sklearn.preprocessing import OneHotEncoder\n",
    "from scipy import sparse \n",
    "from sklearn.linear_model import LogisticRegression\n",
    "from sklearn.cross_validation import train_test_split\n",
    "from sklearn.preprocessing import StandardScaler\n",
    "from sklearn.metrics import confusion_matrix\n",
    "from sklearn.metrics import roc_auc_score\n",
    "from sklearn.metrics import roc_curve\n",
    "\n",
    "%matplotlib inline"
   ]
  },
  {
   "cell_type": "code",
   "execution_count": 2,
   "metadata": {
    "collapsed": true,
    "nbpresent": {
     "id": "ba28e0bc-3211-4999-ac60-1276dab0bf4b"
    }
   },
   "outputs": [],
   "source": [
    "# set token to plotly\n",
    "tls.set_credentials_file(username='janeXU', api_key='ya6M3F6zUuNKBO9MYgRR')"
   ]
  },
  {
   "cell_type": "markdown",
   "metadata": {
    "nbpresent": {
     "id": "08ee1807-997d-444d-88ce-04796900355e"
    }
   },
   "source": [
    "### Download\n",
    "We initially downloaded the dataset from Kaggle. However, since we need to be authentified to download a dataset on Kaggle, we could not download it directly from there on Python.\n",
    "\n",
    "Instead, we used a workaround:\n",
    "- We downloaded the data from Kaggle manually,\n",
    "- We uploaded it onto a Github directory,\n",
    "- We downloaded it again, this time directly on Python.\n",
    "\n",
    "However, one of the files was too big to be uploaded directly on Github (> 500 MB, while the limit on Github is 100 MB), so we split this file into several chunks before uploading every separate chunk onto Github."
   ]
  },
  {
   "cell_type": "code",
   "execution_count": 3,
   "metadata": {
    "collapsed": true,
    "nbpresent": {
     "id": "e5176a0a-c148-46ab-85ef-ee9aa297501a"
    }
   },
   "outputs": [],
   "source": [
    "## Downloading the files ##\n",
    "## This step might take a while (take two or three minutes, depending on the computer and the internet environment ) ##\n",
    "\n",
    "file_names = ['airlines.csv'] + ['flights' + str(i) + '.csv' for i in range(1, 13)] + ['airports.csv']\n",
    "# Definition of the name of the files we download\n",
    "\n",
    "urllib.request.urlretrieve(\"https://github.com/Jamaneth/flight_delays_usa/raw/master/airlines.csv\", file_names[0])\n",
    "urllib.request.urlretrieve(\"https://github.com/Jamaneth/flight_delays_usa/raw/master/airports.csv\", file_names[-1])\n",
    "\n",
    "airlines = pd.read_table(file_names[0], sep = ',')\n",
    "airports = pd.read_table(file_names[-1], sep = ',')\n",
    "\n",
    "urllib.request.urlretrieve(\"https://github.com/Jamaneth/flight_delays_usa/raw/master/flights1.csv\", file_names[1])\n",
    "\n",
    "# To import the biggest document (flights), we start by uploading the first file separately (flight1),\n",
    "# and then we add every other chunk to that initial file in order to restore our initial dataset.\n",
    "flights = pd.read_table(file_names[1], sep = ',')\n",
    "\n",
    "for ind in range(2, 13):\n",
    "    \n",
    "    urllib.request.urlretrieve(\"https://github.com/Jamaneth/flight_delays_usa/raw/master/flights\"\\\n",
    "                               + str(ind) + \".csv\", file_names[ind])\n",
    "    \n",
    "    flights = flights.append(pd.read_table(file_names[ind], sep = ','), ignore_index = True)\n",
    "    # The ignore_index variable is set to True, which means that the index does not loop back to 1\n",
    "    # for every chunk that we add"
   ]
  },
  {
   "cell_type": "markdown",
   "metadata": {
    "nbpresent": {
     "id": "9d3741bd-7a0c-4fb3-aa7f-b41888d7ddfd"
    }
   },
   "source": [
    "# 1. Description of the database\n",
    "\n",
    "Our main dataset is contained in the file `flights.csv`.\n",
    "\n",
    "The other two files (`airlines.csv` and `airports.csv`) are very small databases that give us more details about some variables in our dataset:\n",
    "- `airlines.csv` allows us to retrieve the full name of the airlines, given their IATA code (two letters),\n",
    "- `airports.csv` allows us to find the full name of every airport, the city in which it is located (along with its state and country), and its latitude and longitude."
   ]
  },
  {
   "cell_type": "code",
   "execution_count": 4,
   "metadata": {
    "nbpresent": {
     "id": "5ad99c0c-6f89-49ed-bd0d-cd4e71770957"
    }
   },
   "outputs": [
    {
     "name": "stdout",
     "output_type": "stream",
     "text": [
      "The dimension of the dataframe airlines is (14, 2)\n"
     ]
    },
    {
     "data": {
      "text/html": [
       "<div>\n",
       "<style>\n",
       "    .dataframe thead tr:only-child th {\n",
       "        text-align: right;\n",
       "    }\n",
       "\n",
       "    .dataframe thead th {\n",
       "        text-align: left;\n",
       "    }\n",
       "\n",
       "    .dataframe tbody tr th {\n",
       "        vertical-align: top;\n",
       "    }\n",
       "</style>\n",
       "<table border=\"1\" class=\"dataframe\">\n",
       "  <thead>\n",
       "    <tr style=\"text-align: right;\">\n",
       "      <th></th>\n",
       "      <th>IATA_CODE</th>\n",
       "      <th>AIRLINE</th>\n",
       "    </tr>\n",
       "  </thead>\n",
       "  <tbody>\n",
       "    <tr>\n",
       "      <th>0</th>\n",
       "      <td>UA</td>\n",
       "      <td>United Air Lines Inc.</td>\n",
       "    </tr>\n",
       "    <tr>\n",
       "      <th>1</th>\n",
       "      <td>AA</td>\n",
       "      <td>American Airlines Inc.</td>\n",
       "    </tr>\n",
       "    <tr>\n",
       "      <th>2</th>\n",
       "      <td>US</td>\n",
       "      <td>US Airways Inc.</td>\n",
       "    </tr>\n",
       "    <tr>\n",
       "      <th>3</th>\n",
       "      <td>F9</td>\n",
       "      <td>Frontier Airlines Inc.</td>\n",
       "    </tr>\n",
       "    <tr>\n",
       "      <th>4</th>\n",
       "      <td>B6</td>\n",
       "      <td>JetBlue Airways</td>\n",
       "    </tr>\n",
       "    <tr>\n",
       "      <th>5</th>\n",
       "      <td>OO</td>\n",
       "      <td>Skywest Airlines Inc.</td>\n",
       "    </tr>\n",
       "    <tr>\n",
       "      <th>6</th>\n",
       "      <td>AS</td>\n",
       "      <td>Alaska Airlines Inc.</td>\n",
       "    </tr>\n",
       "    <tr>\n",
       "      <th>7</th>\n",
       "      <td>NK</td>\n",
       "      <td>Spirit Air Lines</td>\n",
       "    </tr>\n",
       "    <tr>\n",
       "      <th>8</th>\n",
       "      <td>WN</td>\n",
       "      <td>Southwest Airlines Co.</td>\n",
       "    </tr>\n",
       "    <tr>\n",
       "      <th>9</th>\n",
       "      <td>DL</td>\n",
       "      <td>Delta Air Lines Inc.</td>\n",
       "    </tr>\n",
       "    <tr>\n",
       "      <th>10</th>\n",
       "      <td>EV</td>\n",
       "      <td>Atlantic Southeast Airlines</td>\n",
       "    </tr>\n",
       "    <tr>\n",
       "      <th>11</th>\n",
       "      <td>HA</td>\n",
       "      <td>Hawaiian Airlines Inc.</td>\n",
       "    </tr>\n",
       "    <tr>\n",
       "      <th>12</th>\n",
       "      <td>MQ</td>\n",
       "      <td>American Eagle Airlines Inc.</td>\n",
       "    </tr>\n",
       "    <tr>\n",
       "      <th>13</th>\n",
       "      <td>VX</td>\n",
       "      <td>Virgin America</td>\n",
       "    </tr>\n",
       "  </tbody>\n",
       "</table>\n",
       "</div>"
      ],
      "text/plain": [
       "   IATA_CODE                       AIRLINE\n",
       "0         UA         United Air Lines Inc.\n",
       "1         AA        American Airlines Inc.\n",
       "2         US               US Airways Inc.\n",
       "3         F9        Frontier Airlines Inc.\n",
       "4         B6               JetBlue Airways\n",
       "5         OO         Skywest Airlines Inc.\n",
       "6         AS          Alaska Airlines Inc.\n",
       "7         NK              Spirit Air Lines\n",
       "8         WN        Southwest Airlines Co.\n",
       "9         DL          Delta Air Lines Inc.\n",
       "10        EV   Atlantic Southeast Airlines\n",
       "11        HA        Hawaiian Airlines Inc.\n",
       "12        MQ  American Eagle Airlines Inc.\n",
       "13        VX                Virgin America"
      ]
     },
     "execution_count": 4,
     "metadata": {},
     "output_type": "execute_result"
    }
   ],
   "source": [
    "print ('The dimension of the dataframe airlines is' , airlines.shape)\n",
    "airlines"
   ]
  },
  {
   "cell_type": "code",
   "execution_count": 5,
   "metadata": {
    "nbpresent": {
     "id": "8d6ef136-b7fe-4c39-8e47-2724ed634583"
    }
   },
   "outputs": [
    {
     "name": "stdout",
     "output_type": "stream",
     "text": [
      "The dimension of the dataframe airports is (322, 7)\n"
     ]
    },
    {
     "data": {
      "text/html": [
       "<div>\n",
       "<style>\n",
       "    .dataframe thead tr:only-child th {\n",
       "        text-align: right;\n",
       "    }\n",
       "\n",
       "    .dataframe thead th {\n",
       "        text-align: left;\n",
       "    }\n",
       "\n",
       "    .dataframe tbody tr th {\n",
       "        vertical-align: top;\n",
       "    }\n",
       "</style>\n",
       "<table border=\"1\" class=\"dataframe\">\n",
       "  <thead>\n",
       "    <tr style=\"text-align: right;\">\n",
       "      <th></th>\n",
       "      <th>IATA_CODE</th>\n",
       "      <th>AIRPORT</th>\n",
       "      <th>CITY</th>\n",
       "      <th>STATE</th>\n",
       "      <th>COUNTRY</th>\n",
       "      <th>LATITUDE</th>\n",
       "      <th>LONGITUDE</th>\n",
       "    </tr>\n",
       "  </thead>\n",
       "  <tbody>\n",
       "    <tr>\n",
       "      <th>0</th>\n",
       "      <td>ABE</td>\n",
       "      <td>Lehigh Valley International Airport</td>\n",
       "      <td>Allentown</td>\n",
       "      <td>PA</td>\n",
       "      <td>USA</td>\n",
       "      <td>40.65236</td>\n",
       "      <td>-75.44040</td>\n",
       "    </tr>\n",
       "    <tr>\n",
       "      <th>1</th>\n",
       "      <td>ABI</td>\n",
       "      <td>Abilene Regional Airport</td>\n",
       "      <td>Abilene</td>\n",
       "      <td>TX</td>\n",
       "      <td>USA</td>\n",
       "      <td>32.41132</td>\n",
       "      <td>-99.68190</td>\n",
       "    </tr>\n",
       "    <tr>\n",
       "      <th>2</th>\n",
       "      <td>ABQ</td>\n",
       "      <td>Albuquerque International Sunport</td>\n",
       "      <td>Albuquerque</td>\n",
       "      <td>NM</td>\n",
       "      <td>USA</td>\n",
       "      <td>35.04022</td>\n",
       "      <td>-106.60919</td>\n",
       "    </tr>\n",
       "    <tr>\n",
       "      <th>3</th>\n",
       "      <td>ABR</td>\n",
       "      <td>Aberdeen Regional Airport</td>\n",
       "      <td>Aberdeen</td>\n",
       "      <td>SD</td>\n",
       "      <td>USA</td>\n",
       "      <td>45.44906</td>\n",
       "      <td>-98.42183</td>\n",
       "    </tr>\n",
       "    <tr>\n",
       "      <th>4</th>\n",
       "      <td>ABY</td>\n",
       "      <td>Southwest Georgia Regional Airport</td>\n",
       "      <td>Albany</td>\n",
       "      <td>GA</td>\n",
       "      <td>USA</td>\n",
       "      <td>31.53552</td>\n",
       "      <td>-84.19447</td>\n",
       "    </tr>\n",
       "  </tbody>\n",
       "</table>\n",
       "</div>"
      ],
      "text/plain": [
       "  IATA_CODE                              AIRPORT         CITY STATE COUNTRY  \\\n",
       "0       ABE  Lehigh Valley International Airport    Allentown    PA     USA   \n",
       "1       ABI             Abilene Regional Airport      Abilene    TX     USA   \n",
       "2       ABQ    Albuquerque International Sunport  Albuquerque    NM     USA   \n",
       "3       ABR            Aberdeen Regional Airport     Aberdeen    SD     USA   \n",
       "4       ABY   Southwest Georgia Regional Airport       Albany    GA     USA   \n",
       "\n",
       "   LATITUDE  LONGITUDE  \n",
       "0  40.65236  -75.44040  \n",
       "1  32.41132  -99.68190  \n",
       "2  35.04022 -106.60919  \n",
       "3  45.44906  -98.42183  \n",
       "4  31.53552  -84.19447  "
      ]
     },
     "execution_count": 5,
     "metadata": {},
     "output_type": "execute_result"
    }
   ],
   "source": [
    "print ('The dimension of the dataframe airports is' , airports.shape)\n",
    "airports[:5]"
   ]
  },
  {
   "cell_type": "code",
   "execution_count": 6,
   "metadata": {
    "nbpresent": {
     "id": "ca31ea3c-fbb8-4e9b-b306-f6fc3e4860b5"
    }
   },
   "outputs": [
    {
     "name": "stdout",
     "output_type": "stream",
     "text": [
      "The dimension of the dataframe flights is (5819079, 31)\n"
     ]
    },
    {
     "data": {
      "text/html": [
       "<div>\n",
       "<style>\n",
       "    .dataframe thead tr:only-child th {\n",
       "        text-align: right;\n",
       "    }\n",
       "\n",
       "    .dataframe thead th {\n",
       "        text-align: left;\n",
       "    }\n",
       "\n",
       "    .dataframe tbody tr th {\n",
       "        vertical-align: top;\n",
       "    }\n",
       "</style>\n",
       "<table border=\"1\" class=\"dataframe\">\n",
       "  <thead>\n",
       "    <tr style=\"text-align: right;\">\n",
       "      <th></th>\n",
       "      <th>YEAR</th>\n",
       "      <th>MONTH</th>\n",
       "      <th>DAY</th>\n",
       "      <th>DAY_OF_WEEK</th>\n",
       "      <th>AIRLINE</th>\n",
       "      <th>FLIGHT_NUMBER</th>\n",
       "      <th>TAIL_NUMBER</th>\n",
       "      <th>ORIGIN_AIRPORT</th>\n",
       "      <th>DESTINATION_AIRPORT</th>\n",
       "      <th>SCHEDULED_DEPARTURE</th>\n",
       "      <th>...</th>\n",
       "      <th>ARRIVAL_TIME</th>\n",
       "      <th>ARRIVAL_DELAY</th>\n",
       "      <th>DIVERTED</th>\n",
       "      <th>CANCELLED</th>\n",
       "      <th>CANCELLATION_REASON</th>\n",
       "      <th>AIR_SYSTEM_DELAY</th>\n",
       "      <th>SECURITY_DELAY</th>\n",
       "      <th>AIRLINE_DELAY</th>\n",
       "      <th>LATE_AIRCRAFT_DELAY</th>\n",
       "      <th>WEATHER_DELAY</th>\n",
       "    </tr>\n",
       "  </thead>\n",
       "  <tbody>\n",
       "    <tr>\n",
       "      <th>0</th>\n",
       "      <td>2015</td>\n",
       "      <td>1</td>\n",
       "      <td>1</td>\n",
       "      <td>4</td>\n",
       "      <td>AS</td>\n",
       "      <td>98</td>\n",
       "      <td>N407AS</td>\n",
       "      <td>ANC</td>\n",
       "      <td>SEA</td>\n",
       "      <td>5</td>\n",
       "      <td>...</td>\n",
       "      <td>408.0</td>\n",
       "      <td>-22.0</td>\n",
       "      <td>0</td>\n",
       "      <td>0</td>\n",
       "      <td>NaN</td>\n",
       "      <td>NaN</td>\n",
       "      <td>NaN</td>\n",
       "      <td>NaN</td>\n",
       "      <td>NaN</td>\n",
       "      <td>NaN</td>\n",
       "    </tr>\n",
       "    <tr>\n",
       "      <th>1</th>\n",
       "      <td>2015</td>\n",
       "      <td>1</td>\n",
       "      <td>1</td>\n",
       "      <td>4</td>\n",
       "      <td>AA</td>\n",
       "      <td>2336</td>\n",
       "      <td>N3KUAA</td>\n",
       "      <td>LAX</td>\n",
       "      <td>PBI</td>\n",
       "      <td>10</td>\n",
       "      <td>...</td>\n",
       "      <td>741.0</td>\n",
       "      <td>-9.0</td>\n",
       "      <td>0</td>\n",
       "      <td>0</td>\n",
       "      <td>NaN</td>\n",
       "      <td>NaN</td>\n",
       "      <td>NaN</td>\n",
       "      <td>NaN</td>\n",
       "      <td>NaN</td>\n",
       "      <td>NaN</td>\n",
       "    </tr>\n",
       "    <tr>\n",
       "      <th>2</th>\n",
       "      <td>2015</td>\n",
       "      <td>1</td>\n",
       "      <td>1</td>\n",
       "      <td>4</td>\n",
       "      <td>US</td>\n",
       "      <td>840</td>\n",
       "      <td>N171US</td>\n",
       "      <td>SFO</td>\n",
       "      <td>CLT</td>\n",
       "      <td>20</td>\n",
       "      <td>...</td>\n",
       "      <td>811.0</td>\n",
       "      <td>5.0</td>\n",
       "      <td>0</td>\n",
       "      <td>0</td>\n",
       "      <td>NaN</td>\n",
       "      <td>NaN</td>\n",
       "      <td>NaN</td>\n",
       "      <td>NaN</td>\n",
       "      <td>NaN</td>\n",
       "      <td>NaN</td>\n",
       "    </tr>\n",
       "    <tr>\n",
       "      <th>3</th>\n",
       "      <td>2015</td>\n",
       "      <td>1</td>\n",
       "      <td>1</td>\n",
       "      <td>4</td>\n",
       "      <td>AA</td>\n",
       "      <td>258</td>\n",
       "      <td>N3HYAA</td>\n",
       "      <td>LAX</td>\n",
       "      <td>MIA</td>\n",
       "      <td>20</td>\n",
       "      <td>...</td>\n",
       "      <td>756.0</td>\n",
       "      <td>-9.0</td>\n",
       "      <td>0</td>\n",
       "      <td>0</td>\n",
       "      <td>NaN</td>\n",
       "      <td>NaN</td>\n",
       "      <td>NaN</td>\n",
       "      <td>NaN</td>\n",
       "      <td>NaN</td>\n",
       "      <td>NaN</td>\n",
       "    </tr>\n",
       "    <tr>\n",
       "      <th>4</th>\n",
       "      <td>2015</td>\n",
       "      <td>1</td>\n",
       "      <td>1</td>\n",
       "      <td>4</td>\n",
       "      <td>AS</td>\n",
       "      <td>135</td>\n",
       "      <td>N527AS</td>\n",
       "      <td>SEA</td>\n",
       "      <td>ANC</td>\n",
       "      <td>25</td>\n",
       "      <td>...</td>\n",
       "      <td>259.0</td>\n",
       "      <td>-21.0</td>\n",
       "      <td>0</td>\n",
       "      <td>0</td>\n",
       "      <td>NaN</td>\n",
       "      <td>NaN</td>\n",
       "      <td>NaN</td>\n",
       "      <td>NaN</td>\n",
       "      <td>NaN</td>\n",
       "      <td>NaN</td>\n",
       "    </tr>\n",
       "    <tr>\n",
       "      <th>5</th>\n",
       "      <td>2015</td>\n",
       "      <td>1</td>\n",
       "      <td>1</td>\n",
       "      <td>4</td>\n",
       "      <td>DL</td>\n",
       "      <td>806</td>\n",
       "      <td>N3730B</td>\n",
       "      <td>SFO</td>\n",
       "      <td>MSP</td>\n",
       "      <td>25</td>\n",
       "      <td>...</td>\n",
       "      <td>610.0</td>\n",
       "      <td>8.0</td>\n",
       "      <td>0</td>\n",
       "      <td>0</td>\n",
       "      <td>NaN</td>\n",
       "      <td>NaN</td>\n",
       "      <td>NaN</td>\n",
       "      <td>NaN</td>\n",
       "      <td>NaN</td>\n",
       "      <td>NaN</td>\n",
       "    </tr>\n",
       "    <tr>\n",
       "      <th>6</th>\n",
       "      <td>2015</td>\n",
       "      <td>1</td>\n",
       "      <td>1</td>\n",
       "      <td>4</td>\n",
       "      <td>NK</td>\n",
       "      <td>612</td>\n",
       "      <td>N635NK</td>\n",
       "      <td>LAS</td>\n",
       "      <td>MSP</td>\n",
       "      <td>25</td>\n",
       "      <td>...</td>\n",
       "      <td>509.0</td>\n",
       "      <td>-17.0</td>\n",
       "      <td>0</td>\n",
       "      <td>0</td>\n",
       "      <td>NaN</td>\n",
       "      <td>NaN</td>\n",
       "      <td>NaN</td>\n",
       "      <td>NaN</td>\n",
       "      <td>NaN</td>\n",
       "      <td>NaN</td>\n",
       "    </tr>\n",
       "    <tr>\n",
       "      <th>7</th>\n",
       "      <td>2015</td>\n",
       "      <td>1</td>\n",
       "      <td>1</td>\n",
       "      <td>4</td>\n",
       "      <td>US</td>\n",
       "      <td>2013</td>\n",
       "      <td>N584UW</td>\n",
       "      <td>LAX</td>\n",
       "      <td>CLT</td>\n",
       "      <td>30</td>\n",
       "      <td>...</td>\n",
       "      <td>753.0</td>\n",
       "      <td>-10.0</td>\n",
       "      <td>0</td>\n",
       "      <td>0</td>\n",
       "      <td>NaN</td>\n",
       "      <td>NaN</td>\n",
       "      <td>NaN</td>\n",
       "      <td>NaN</td>\n",
       "      <td>NaN</td>\n",
       "      <td>NaN</td>\n",
       "    </tr>\n",
       "    <tr>\n",
       "      <th>8</th>\n",
       "      <td>2015</td>\n",
       "      <td>1</td>\n",
       "      <td>1</td>\n",
       "      <td>4</td>\n",
       "      <td>AA</td>\n",
       "      <td>1112</td>\n",
       "      <td>N3LAAA</td>\n",
       "      <td>SFO</td>\n",
       "      <td>DFW</td>\n",
       "      <td>30</td>\n",
       "      <td>...</td>\n",
       "      <td>532.0</td>\n",
       "      <td>-13.0</td>\n",
       "      <td>0</td>\n",
       "      <td>0</td>\n",
       "      <td>NaN</td>\n",
       "      <td>NaN</td>\n",
       "      <td>NaN</td>\n",
       "      <td>NaN</td>\n",
       "      <td>NaN</td>\n",
       "      <td>NaN</td>\n",
       "    </tr>\n",
       "    <tr>\n",
       "      <th>9</th>\n",
       "      <td>2015</td>\n",
       "      <td>1</td>\n",
       "      <td>1</td>\n",
       "      <td>4</td>\n",
       "      <td>DL</td>\n",
       "      <td>1173</td>\n",
       "      <td>N826DN</td>\n",
       "      <td>LAS</td>\n",
       "      <td>ATL</td>\n",
       "      <td>30</td>\n",
       "      <td>...</td>\n",
       "      <td>656.0</td>\n",
       "      <td>-15.0</td>\n",
       "      <td>0</td>\n",
       "      <td>0</td>\n",
       "      <td>NaN</td>\n",
       "      <td>NaN</td>\n",
       "      <td>NaN</td>\n",
       "      <td>NaN</td>\n",
       "      <td>NaN</td>\n",
       "      <td>NaN</td>\n",
       "    </tr>\n",
       "  </tbody>\n",
       "</table>\n",
       "<p>10 rows × 31 columns</p>\n",
       "</div>"
      ],
      "text/plain": [
       "   YEAR  MONTH  DAY  DAY_OF_WEEK AIRLINE  FLIGHT_NUMBER TAIL_NUMBER  \\\n",
       "0  2015      1    1            4      AS             98      N407AS   \n",
       "1  2015      1    1            4      AA           2336      N3KUAA   \n",
       "2  2015      1    1            4      US            840      N171US   \n",
       "3  2015      1    1            4      AA            258      N3HYAA   \n",
       "4  2015      1    1            4      AS            135      N527AS   \n",
       "5  2015      1    1            4      DL            806      N3730B   \n",
       "6  2015      1    1            4      NK            612      N635NK   \n",
       "7  2015      1    1            4      US           2013      N584UW   \n",
       "8  2015      1    1            4      AA           1112      N3LAAA   \n",
       "9  2015      1    1            4      DL           1173      N826DN   \n",
       "\n",
       "  ORIGIN_AIRPORT DESTINATION_AIRPORT  SCHEDULED_DEPARTURE      ...        \\\n",
       "0            ANC                 SEA                    5      ...         \n",
       "1            LAX                 PBI                   10      ...         \n",
       "2            SFO                 CLT                   20      ...         \n",
       "3            LAX                 MIA                   20      ...         \n",
       "4            SEA                 ANC                   25      ...         \n",
       "5            SFO                 MSP                   25      ...         \n",
       "6            LAS                 MSP                   25      ...         \n",
       "7            LAX                 CLT                   30      ...         \n",
       "8            SFO                 DFW                   30      ...         \n",
       "9            LAS                 ATL                   30      ...         \n",
       "\n",
       "   ARRIVAL_TIME  ARRIVAL_DELAY  DIVERTED  CANCELLED  CANCELLATION_REASON  \\\n",
       "0         408.0          -22.0         0          0                  NaN   \n",
       "1         741.0           -9.0         0          0                  NaN   \n",
       "2         811.0            5.0         0          0                  NaN   \n",
       "3         756.0           -9.0         0          0                  NaN   \n",
       "4         259.0          -21.0         0          0                  NaN   \n",
       "5         610.0            8.0         0          0                  NaN   \n",
       "6         509.0          -17.0         0          0                  NaN   \n",
       "7         753.0          -10.0         0          0                  NaN   \n",
       "8         532.0          -13.0         0          0                  NaN   \n",
       "9         656.0          -15.0         0          0                  NaN   \n",
       "\n",
       "   AIR_SYSTEM_DELAY  SECURITY_DELAY  AIRLINE_DELAY  LATE_AIRCRAFT_DELAY  \\\n",
       "0               NaN             NaN            NaN                  NaN   \n",
       "1               NaN             NaN            NaN                  NaN   \n",
       "2               NaN             NaN            NaN                  NaN   \n",
       "3               NaN             NaN            NaN                  NaN   \n",
       "4               NaN             NaN            NaN                  NaN   \n",
       "5               NaN             NaN            NaN                  NaN   \n",
       "6               NaN             NaN            NaN                  NaN   \n",
       "7               NaN             NaN            NaN                  NaN   \n",
       "8               NaN             NaN            NaN                  NaN   \n",
       "9               NaN             NaN            NaN                  NaN   \n",
       "\n",
       "   WEATHER_DELAY  \n",
       "0            NaN  \n",
       "1            NaN  \n",
       "2            NaN  \n",
       "3            NaN  \n",
       "4            NaN  \n",
       "5            NaN  \n",
       "6            NaN  \n",
       "7            NaN  \n",
       "8            NaN  \n",
       "9            NaN  \n",
       "\n",
       "[10 rows x 31 columns]"
      ]
     },
     "execution_count": 6,
     "metadata": {},
     "output_type": "execute_result"
    }
   ],
   "source": [
    "print ('The dimension of the dataframe flights is' , flights.shape)\n",
    "flights[:10]"
   ]
  },
  {
   "cell_type": "markdown",
   "metadata": {
    "nbpresent": {
     "id": "f9ae93b3-39cd-4e7c-aa15-1e35cb427412"
    }
   },
   "source": [
    "In this dataset, we have information about 5,819,079 flights that took place in the United States in 2015, for 31 variables."
   ]
  },
  {
   "cell_type": "code",
   "execution_count": 7,
   "metadata": {
    "nbpresent": {
     "id": "e547c76f-868a-43e5-a539-763f575fd275"
    }
   },
   "outputs": [
    {
     "data": {
      "text/plain": [
       "Index(['YEAR', 'MONTH', 'DAY', 'DAY_OF_WEEK', 'AIRLINE', 'FLIGHT_NUMBER',\n",
       "       'TAIL_NUMBER', 'ORIGIN_AIRPORT', 'DESTINATION_AIRPORT',\n",
       "       'SCHEDULED_DEPARTURE', 'DEPARTURE_TIME', 'DEPARTURE_DELAY', 'TAXI_OUT',\n",
       "       'WHEELS_OFF', 'SCHEDULED_TIME', 'ELAPSED_TIME', 'AIR_TIME', 'DISTANCE',\n",
       "       'WHEELS_ON', 'TAXI_IN', 'SCHEDULED_ARRIVAL', 'ARRIVAL_TIME',\n",
       "       'ARRIVAL_DELAY', 'DIVERTED', 'CANCELLED', 'CANCELLATION_REASON',\n",
       "       'AIR_SYSTEM_DELAY', 'SECURITY_DELAY', 'AIRLINE_DELAY',\n",
       "       'LATE_AIRCRAFT_DELAY', 'WEATHER_DELAY'],\n",
       "      dtype='object')"
      ]
     },
     "execution_count": 7,
     "metadata": {},
     "output_type": "execute_result"
    }
   ],
   "source": [
    "flights.columns"
   ]
  },
  {
   "cell_type": "markdown",
   "metadata": {
    "nbpresent": {
     "id": "2ccd2a24-5411-4af3-a7f2-19adc06edd2c"
    }
   },
   "source": [
    "The `flights` dataset, which is going to be our main dataset, includes three variables that refer to the other two datasets: `AIRLINE`, `ORIGIN_AIRPORT`, and `DESTINATION_AIRPORT`.\n",
    "\n",
    "The airlines and airports seem to be stored in `flights` as IATA codes: for this reason, we set the index of `airports` and `airlines` as `IATA_CODE`."
   ]
  },
  {
   "cell_type": "code",
   "execution_count": 8,
   "metadata": {
    "collapsed": true,
    "nbpresent": {
     "id": "e4911b3a-f234-4cea-b583-4901122dd117"
    }
   },
   "outputs": [],
   "source": [
    "# Set indexes for the other databases\n",
    "airlines.set_index('IATA_CODE', inplace = True)\n",
    "airports.set_index('IATA_CODE', inplace = True)"
   ]
  },
  {
   "cell_type": "markdown",
   "metadata": {
    "nbpresent": {
     "id": "64fb14fc-bc30-4d70-b678-1b943e7bc8fd"
    }
   },
   "source": [
    "## 1.1. More information about the variables in the `flights` database\n",
    "\n",
    "A source for some of this information can be found <a href = \"https://www.transtats.bts.gov/Oneway.asp?Field_Desc=Specifies%20The%20Reason%20For%20Cancellation&Field_Type=Char&Sel_Cat=CANCELLATION_CODE&Lookup_Table=L_CANCELLATION&Sel_Var=Cancelled&Sel_Stat=Sum&Data_Type=CAT&Percent_Flag=0&Display_Flag=0\">here</a>.\n",
    "\n",
    "### 1.1.1. YEAR, MONTH, DAY\n",
    "Self-explanatory.\n",
    "\n",
    "### 1.1.2. DAY_OF_WEEK\n",
    "A number from 1 to 7. 1 corresponds to Monday, 2 corresponds to Tuesday...\n",
    "\n",
    "### 1.1.3. AIRLINE\n",
    "One of fourteen airlines (the full names of which can be found in the spreadsheet `airlines.csv`).\n",
    "\n",
    "### 1.1.4. FLIGHT_NUMBER\n",
    "Self-explanatory.\n",
    "\n",
    "### 1.1.5. TAIL_NUMBER\n",
    "An identifier that is unique for every aircraft.\n",
    "\n",
    "### 1.1.6. ORIGIN_AIRPORT, DESTINATION_AIRPORT\n",
    "The full names can be found in the spreadsheet called `airports.csv`.\n",
    "\n",
    "### 1.1.7. SCHEDULED_DEPARTURE, DEPARTURE_TIME\n",
    "Note: the time was not stored in a very clean way. The values take the form of a number with four digits: the first two digits give the hour (hh)(modulo 2400), and the other two give the minutes (mm).\n",
    "For example, a value of `5` in `SCHEDULED_DEPARTURE` means that the departure was actually scheduled at 00:05.\n",
    "\n",
    "### 1.1.8. DEPARTURE_DELAY\n",
    "Difference between DEPARTURE_TIME and SCHEDULED_DEPARTURE. Can be negative if the plane leaves before schedule.\n",
    "\n",
    "### 1.1.9. TAXI_OUT\n",
    "Amount of time between when the airplane leaves the gate and when it takes off. This value is given in minutes.\n",
    "\n",
    "### 1.1.10. WHEELS_OFF\n",
    "Time at which the plane takes off. The value is stored as four digits (hhmm), as for `SCHEDULED_DEPARTURE` and `DEPARTURE_TIME`.\n",
    "\n",
    "Note: `WHEELS_OFF` = `DEPARTURE_TIME` + `TAXI_OUT` (modulo 2400).\n",
    "\n",
    "### 1.1.11. SCHEDULED_TIME, ELAPSED_TIME, AIR_TIME\n",
    "- `SCHEDULED_TIME`: expected duration of the flight. This takes into account the taxi-out and the taxi-in.\n",
    "- `ELAPSED_TIME`: actual duration of the flight. This also takes into account the taxi-out and the taxi-in.\n",
    "- `AIR_TIME`: this is the amount of time during which the plane was *actually* flying.\n",
    "\n",
    "The values are given in minutes.\n",
    "\n",
    "### 1.1.12. WHEELS_ON\n",
    "Time at which the plane lands (format: hhmm).\n",
    "\n",
    "**NOTE: This includes the time difference between the two airports.**\n",
    "\n",
    "### 1.1.13. TAXI_IN\n",
    "Similar to `TAXI_OUT`.\n",
    "\n",
    "### 1.1.14. SCHEDULED_ARRIVAL, ARRIVAL_TIME\n",
    "Again, the format is (hhmm).\n",
    "\n",
    "### 1.1.15. ARRIVAL DELAY\n",
    "`ARRIVAL_DELAY` = `ARRIVAL_TIME` - `SCHEDULED_ARRIVAL`.\n",
    "\n",
    "This is the delay on arrival, and the variable that we will be trying to predict. Note that it may be negative if the plane lands early.\n",
    "\n",
    "### 1.1.16. DIVERTED, CANCELLED\n",
    "They take the value 1 if the plane has respectively been diverted or cancelled, and 0 otherwise.\n",
    "\n",
    "### 1.1.17. CANCELLATION_REASONS\n",
    "The values for this variable can take the values \"A\", \"B\", \"C\", or \"D\". They correspond to the following code:\n",
    "- A: Carrier. The cause of the cancellation or delay was due to circumstances within the airline's control (e.g. maintenance or crew problems, aircraft cleaning, baggage loading, fueling, etc.).\n",
    "- B: Weather. Significant meteorological conditions (actual or forecasted) that, in the judgment of the carrier, delays or prevents the operation of a flight such as tornado, blizzard or hurricane.\n",
    "- C: National Air System. Delays and cancellations attributable to the national aviation system that refer to a broad set of conditions, such as non-extreme weather conditions, airport operations, heavy traffic volume, and air traffic control.\n",
    "- D: Security. Delays or cancellations caused by evacuation of a terminal or concourse, re-boarding of aircraft because of security breach, inoperative screening equipment and/or long lines in excess of 29 minutes at screening areas.\n",
    "\n",
    "### 1.1.18. AIR_SYSTEM_DELAY, SECURITY_DELAY, AIRLINE_DELAY, LATE_AIRCRAFT_DELAY, WEATHER_DELAY\n",
    "Those five variables give five possible explanations for the delay, and the amount of delay caused by each reason in minutes."
   ]
  },
  {
   "cell_type": "markdown",
   "metadata": {
    "nbpresent": {
     "id": "d0e122d1-7c2b-47f1-911b-6a14b81e6875"
    }
   },
   "source": [
    "# 2. Explore and filter the data"
   ]
  },
  {
   "cell_type": "markdown",
   "metadata": {
    "nbpresent": {
     "id": "9509fc3e-00ac-4c41-be10-a155f8e73a89"
    }
   },
   "source": [
    "## 2.1. Dealing with the missing values\n",
    "\n",
    "### 2.1.1. Checking the missing data"
   ]
  },
  {
   "cell_type": "code",
   "execution_count": 9,
   "metadata": {
    "nbpresent": {
     "id": "e3261167-8a20-4d4d-ba10-8806a7573ad9"
    },
    "scrolled": true
   },
   "outputs": [
    {
     "name": "stdout",
     "output_type": "stream",
     "text": [
      "0 missing values are detected in the column YEAR\n",
      "0 missing values are detected in the column MONTH\n",
      "0 missing values are detected in the column DAY\n",
      "0 missing values are detected in the column DAY_OF_WEEK\n",
      "0 missing values are detected in the column AIRLINE\n",
      "0 missing values are detected in the column FLIGHT_NUMBER\n",
      "14721 missing values are detected in the column TAIL_NUMBER\n",
      "0 missing values are detected in the column ORIGIN_AIRPORT\n",
      "0 missing values are detected in the column DESTINATION_AIRPORT\n",
      "0 missing values are detected in the column SCHEDULED_DEPARTURE\n",
      "86153 missing values are detected in the column DEPARTURE_TIME\n",
      "86153 missing values are detected in the column DEPARTURE_DELAY\n",
      "89047 missing values are detected in the column TAXI_OUT\n",
      "89047 missing values are detected in the column WHEELS_OFF\n",
      "6 missing values are detected in the column SCHEDULED_TIME\n",
      "105071 missing values are detected in the column ELAPSED_TIME\n",
      "105071 missing values are detected in the column AIR_TIME\n",
      "0 missing values are detected in the column DISTANCE\n",
      "92513 missing values are detected in the column WHEELS_ON\n",
      "92513 missing values are detected in the column TAXI_IN\n",
      "0 missing values are detected in the column SCHEDULED_ARRIVAL\n",
      "92513 missing values are detected in the column ARRIVAL_TIME\n",
      "105071 missing values are detected in the column ARRIVAL_DELAY\n",
      "0 missing values are detected in the column DIVERTED\n",
      "0 missing values are detected in the column CANCELLED\n",
      "5729195 missing values are detected in the column CANCELLATION_REASON\n",
      "4755640 missing values are detected in the column AIR_SYSTEM_DELAY\n",
      "4755640 missing values are detected in the column SECURITY_DELAY\n",
      "4755640 missing values are detected in the column AIRLINE_DELAY\n",
      "4755640 missing values are detected in the column LATE_AIRCRAFT_DELAY\n",
      "4755640 missing values are detected in the column WEATHER_DELAY\n"
     ]
    }
   ],
   "source": [
    "# Add code which gives all the missing values for each column\n",
    "for col in flights:\n",
    "    print (\"%d missing values are detected in the column %s\" \n",
    "           % (flights[col].isnull().sum().sum(), col))"
   ]
  },
  {
   "cell_type": "markdown",
   "metadata": {
    "nbpresent": {
     "id": "48565cbd-56bd-4e1c-83a3-cf75537836dc"
    }
   },
   "source": [
    "We note two things:\n",
    "- There is no missing data in the **flight schedule information**, which includes FLIGHT_NUMBER, ORIGIN_AIRPORT, DESTINATION_AIRPORT, DESTINATION_AIRPORT, DISTANCE, SCHEDULED_DEPARTURE, SCHEDULED_ARRIVAL, DIVERTED, CANCELLED as well as the date YEAR, MONTH, DAY, DAY_OF_WEEK.\n",
    "- There is, however, missing data for other such variables as `TAIL_NUMBER`, `DEPARTURE_TIME`, `DEPARTURE_DELAY`, `ARRIVAL_TIME`, or `ARRIVAL_DELAY`.\n",
    "\n",
    "This may be because of the flights that were cancelled or diverted: since those flights never took off or did not land in the right airport, there is no reason for them to have that information – because in those cases, these categories do not apply.\n",
    "\n",
    "As a consequence, we are going to check the missing data for all flights that were not diverted or cancelled."
   ]
  },
  {
   "cell_type": "markdown",
   "metadata": {
    "nbpresent": {
     "id": "5f8c0a43-dcc5-4bc4-beec-557bde2a4be2"
    }
   },
   "source": [
    "### 2.1.2. Missing data due to cancelled and diverted flights "
   ]
  },
  {
   "cell_type": "code",
   "execution_count": 10,
   "metadata": {
    "nbpresent": {
     "id": "f7d20e2f-45be-4955-88f3-6ae73a5b66d2"
    }
   },
   "outputs": [
    {
     "name": "stdout",
     "output_type": "stream",
     "text": [
      "0 missing values are detected in the column YEAR\n",
      "0 missing values are detected in the column MONTH\n",
      "0 missing values are detected in the column DAY\n",
      "0 missing values are detected in the column DAY_OF_WEEK\n",
      "0 missing values are detected in the column AIRLINE\n",
      "0 missing values are detected in the column FLIGHT_NUMBER\n",
      "0 missing values are detected in the column TAIL_NUMBER\n",
      "0 missing values are detected in the column ORIGIN_AIRPORT\n",
      "0 missing values are detected in the column DESTINATION_AIRPORT\n",
      "0 missing values are detected in the column SCHEDULED_DEPARTURE\n",
      "0 missing values are detected in the column DEPARTURE_TIME\n",
      "0 missing values are detected in the column DEPARTURE_DELAY\n",
      "0 missing values are detected in the column TAXI_OUT\n",
      "0 missing values are detected in the column WHEELS_OFF\n",
      "0 missing values are detected in the column SCHEDULED_TIME\n",
      "0 missing values are detected in the column ELAPSED_TIME\n",
      "0 missing values are detected in the column AIR_TIME\n",
      "0 missing values are detected in the column DISTANCE\n",
      "0 missing values are detected in the column WHEELS_ON\n",
      "0 missing values are detected in the column TAXI_IN\n",
      "0 missing values are detected in the column SCHEDULED_ARRIVAL\n",
      "0 missing values are detected in the column ARRIVAL_TIME\n",
      "0 missing values are detected in the column ARRIVAL_DELAY\n",
      "0 missing values are detected in the column DIVERTED\n",
      "0 missing values are detected in the column CANCELLED\n",
      "5714008 missing values are detected in the column CANCELLATION_REASON\n",
      "4650569 missing values are detected in the column AIR_SYSTEM_DELAY\n",
      "4650569 missing values are detected in the column SECURITY_DELAY\n",
      "4650569 missing values are detected in the column AIRLINE_DELAY\n",
      "4650569 missing values are detected in the column LATE_AIRCRAFT_DELAY\n",
      "4650569 missing values are detected in the column WEATHER_DELAY\n"
     ]
    }
   ],
   "source": [
    "# Add code which gives all the missing values for each column after filtering out the diverted and cancelled flights\n",
    "for col in flights[(flights.CANCELLED == 0) & (flights.DIVERTED == 0)]:\n",
    "    print (\"%d missing values are detected in the column %s\" \n",
    "           % (flights[(flights.CANCELLED == 0) & (flights.DIVERTED == 0)][col].isnull().sum().sum(), col))"
   ]
  },
  {
   "cell_type": "markdown",
   "metadata": {
    "nbpresent": {
     "id": "c0f36f46-edd9-441a-8aa1-7b0b209dc582"
    }
   },
   "source": [
    "We can see that when we filter out the diverted and the cancelled flights, there is no more missing data for most columns (except `CANCELLATION_REASON`, `AIR_SYSTEM_DELAY`, `SECURITY_DELAY`, `AIRLINE_DELAY`, `LATE_AIRCRAFT_DELAY` and `WEATHER_DELAY`), which was in line with our expectations."
   ]
  },
  {
   "cell_type": "code",
   "execution_count": 11,
   "metadata": {
    "nbpresent": {
     "id": "17706bbd-8e4f-44fc-a915-7d2626c23428"
    }
   },
   "outputs": [
    {
     "name": "stdout",
     "output_type": "stream",
     "text": [
      "The number of cancelled flights is 89884.0\n",
      "The number of cancellation reasons is 89884\n"
     ]
    }
   ],
   "source": [
    "#the number of cancelled flights\n",
    "print(\"The number of cancelled flights is \" + str(flights.shape[0]*np.mean(flights.CANCELLED)))\n",
    "#the number of cancellation reasons \n",
    "print(\"The number of cancellation reasons is \" + str(flights.shape[0]-flights.CANCELLATION_REASON.isnull().sum().sum()))"
   ]
  },
  {
   "cell_type": "markdown",
   "metadata": {
    "nbpresent": {
     "id": "73293818-0146-4ab9-8711-dd510f1b0cf0"
    }
   },
   "source": [
    "We find that the number of cancelled flights and the number of cancellation reasons is exactly the same, suggesting that only the cancelled flights have cancellatin reasons, which is reasonable.\n"
   ]
  },
  {
   "cell_type": "markdown",
   "metadata": {
    "nbpresent": {
     "id": "4effd43f-1888-44d4-9997-40f9118e09f2"
    }
   },
   "source": [
    "### 2.1.3. Definition of a delay and missing data due to low delays\n",
    "The dataset seems to consider that a plane is delayed when it lands 15 minutes or more after its scheduled time, since we do not get a detailled explanation for any delay smaller than 15 minutes.\n",
    "\n",
    "Indeed, if we try to find the maximum delay for which there is a missing value in the column `AIR_SYSTEM_DELAY`, we find that:"
   ]
  },
  {
   "cell_type": "code",
   "execution_count": 12,
   "metadata": {
    "nbpresent": {
     "id": "d6fb25de-855d-44ec-95e8-0f3438ccba98"
    }
   },
   "outputs": [
    {
     "data": {
      "text/plain": [
       "14.0"
      ]
     },
     "execution_count": 12,
     "metadata": {},
     "output_type": "execute_result"
    }
   ],
   "source": [
    "max(flights.ARRIVAL_DELAY[pd.isnull(flights.AIR_SYSTEM_DELAY)])"
   ]
  },
  {
   "cell_type": "markdown",
   "metadata": {
    "nbpresent": {
     "id": "e02a73e9-abea-4ffa-ba55-7b85829755ff"
    }
   },
   "source": [
    "And conversely, if we try to find the smallest delay for which there is a detailled explanation, we find that:"
   ]
  },
  {
   "cell_type": "code",
   "execution_count": 13,
   "metadata": {
    "nbpresent": {
     "id": "5e536b61-25c8-4284-895f-3140a68fd122"
    }
   },
   "outputs": [
    {
     "data": {
      "text/plain": [
       "15.0"
      ]
     },
     "execution_count": 13,
     "metadata": {},
     "output_type": "execute_result"
    }
   ],
   "source": [
    "min(flights.ARRIVAL_DELAY[pd.isnull(flights.AIR_SYSTEM_DELAY) == False])"
   ]
  },
  {
   "cell_type": "markdown",
   "metadata": {
    "nbpresent": {
     "id": "732d79c3-f029-4e80-8622-2bdb039e3cc3"
    }
   },
   "source": [
    "This suggests that the creators of the dataset considered that **a plane is delayed if and only if it lands 15 minutes after its scheduled time**. For the sake of consistency, we will keep this same definition for the rest of this document.     \n",
    "\n",
    "Additionally, we use our definition of delay to explore the missing values in delay reasons break down. We check the number of the delayed flights (by our definition) is equal to the number of reason for delay breakdown, indicating that all delayed flights have  their delay reasons."
   ]
  },
  {
   "cell_type": "code",
   "execution_count": 14,
   "metadata": {
    "nbpresent": {
     "id": "5dc87e7d-2de0-4254-bb0b-95adf415460e"
    }
   },
   "outputs": [
    {
     "name": "stdout",
     "output_type": "stream",
     "text": [
      "1063439\n",
      "1063439\n"
     ]
    }
   ],
   "source": [
    "#the number of delayed flights\n",
    "print (flights['ARRIVAL_DELAY'][flights['ARRIVAL_DELAY'] >= 15].count())\n",
    "#the number of delay reasons breakdown\n",
    "print (flights.shape[0] - flights.AIR_SYSTEM_DELAY.isnull().sum().sum())"
   ]
  },
  {
   "cell_type": "code",
   "execution_count": 15,
   "metadata": {
    "nbpresent": {
     "id": "b497c5f1-9b5b-4d3d-999f-e120c8731b00"
    }
   },
   "outputs": [
    {
     "data": {
      "text/plain": [
       "CANCELLED\n",
       "0    1063439\n",
       "1          0\n",
       "Name: AIR_SYSTEM_DELAY, dtype: int64"
      ]
     },
     "execution_count": 15,
     "metadata": {},
     "output_type": "execute_result"
    }
   ],
   "source": [
    "# Cancelled data does not have delay break down \n",
    "flights.groupby(['CANCELLED'])['AIR_SYSTEM_DELAY'].count()"
   ]
  },
  {
   "cell_type": "code",
   "execution_count": 16,
   "metadata": {
    "nbpresent": {
     "id": "c1c443d7-93b5-42c1-bef1-1c0991b6d5b2"
    }
   },
   "outputs": [
    {
     "data": {
      "text/plain": [
       "DIVERTED\n",
       "0    1063439\n",
       "1          0\n",
       "Name: AIR_SYSTEM_DELAY, dtype: int64"
      ]
     },
     "execution_count": 16,
     "metadata": {},
     "output_type": "execute_result"
    }
   ],
   "source": [
    "# Diverted data does not have delay break down\n",
    "flights.groupby(['DIVERTED'])['AIR_SYSTEM_DELAY'].count()"
   ]
  },
  {
   "cell_type": "markdown",
   "metadata": {
    "nbpresent": {
     "id": "d836eede-ff31-4ebd-ada4-44cf8a9b1e5f"
    }
   },
   "source": [
    "## 2.2. An initial filter of the data\n",
    "\n",
    "### 2.2.1. An overview of the less crucial variables\n",
    "- The column `YEAR` is redundant, since every single flight has taken place in 2015: it does not add any information at all.\n",
    "- `TAIL_NUMBER`: this variable identifies the exact plane that has been used for a specific flight. Since this is not a very descriptive variable, we may discard it.\n",
    "- `WHEELS_OFF` and `WHEELS_ON`: this information in particular seems to be redundant. This does not have an explanatory value in itself, given that we already have `DEPARTURE_TIME` and `ARRIVAL_TIME`, plus the actual duration of the flight.\n",
    "- `TAXI_IN` and `TAXI_OUT`\n",
    "- `DIVERTED`, `CANCELLED` and `CANCELLATION_REASON`: our aim in this document is to study the arrival delay of airplanes. For this reason, we have to filter the cancelled and diverted flights out of the dataset - in which case those three variables do not carry any more information and we notice that the cancelled and diverted flights are not caused from the delays from the dataset. "
   ]
  },
  {
   "cell_type": "code",
   "execution_count": 17,
   "metadata": {
    "collapsed": true,
    "nbpresent": {
     "id": "5cb27d30-fd2f-4a5d-ad4a-d38d0aa9bae3"
    }
   },
   "outputs": [],
   "source": [
    "# Reduce the number of variables\n",
    "\n",
    "flights = flights.drop(['YEAR', 'TAIL_NUMBER', 'WHEELS_OFF', 'WHEELS_ON', 'TAXI_IN', 'TAXI_OUT'], axis = 1)\n",
    "\n",
    "# Filter the numebr of observations \n",
    "\n",
    "flights = flights.query('CANCELLED == 0 & DIVERTED == 0')\n",
    "\n",
    "flights = flights.drop(['CANCELLED', 'CANCELLATION_REASON', 'DIVERTED'], axis = 1)"
   ]
  },
  {
   "cell_type": "code",
   "execution_count": 18,
   "metadata": {
    "nbpresent": {
     "id": "7152b98d-4175-460a-8c35-c583c3bda660"
    }
   },
   "outputs": [
    {
     "data": {
      "text/plain": [
       "(5714008, 22)"
      ]
     },
     "execution_count": 18,
     "metadata": {},
     "output_type": "execute_result"
    }
   ],
   "source": [
    "flights.shape"
   ]
  },
  {
   "cell_type": "markdown",
   "metadata": {
    "nbpresent": {
     "id": "6005266d-fc44-4cd6-9dfc-99f6917012f1"
    }
   },
   "source": [
    "### 2.2.2. Consistency of the data format: the case of the October airports\n",
    "By exploring the data a bit, we notice that the airport codes for `ORIGIN_AIRPORT` and `DESTINATION_AIRPORT` are not consistent. Most of the times, they follow the standard established in the file `airport.csv`. However, for all flights that have taken off in October, the airports are designed by a five-digit code."
   ]
  },
  {
   "cell_type": "code",
   "execution_count": 19,
   "metadata": {
    "nbpresent": {
     "id": "dbf0f436-3894-43df-a50b-443724cbf66c"
    }
   },
   "outputs": [
    {
     "data": {
      "text/plain": [
       "4385712    14747\n",
       "4385713    14771\n",
       "4385714    12889\n",
       "4385715    12892\n",
       "4385716    14771\n",
       "4385717    14771\n",
       "4385718    12892\n",
       "4385719    14869\n",
       "4385720    12892\n",
       "4385721    12892\n",
       "Name: ORIGIN_AIRPORT, dtype: object"
      ]
     },
     "execution_count": 19,
     "metadata": {},
     "output_type": "execute_result"
    }
   ],
   "source": [
    "flights[flights.MONTH == 10].ORIGIN_AIRPORT[:10]"
   ]
  },
  {
   "cell_type": "code",
   "execution_count": 20,
   "metadata": {
    "nbpresent": {
     "id": "40a60e12-23d4-4aed-b8ff-8cee21b44e7b"
    }
   },
   "outputs": [
    {
     "data": {
      "text/plain": [
       "4385712    11298\n",
       "4385713    13487\n",
       "4385714    13487\n",
       "4385715    13303\n",
       "4385716    11057\n",
       "4385717    13930\n",
       "4385718    13930\n",
       "4385719    11057\n",
       "4385720    11298\n",
       "4385721    13487\n",
       "Name: DESTINATION_AIRPORT, dtype: object"
      ]
     },
     "execution_count": 20,
     "metadata": {},
     "output_type": "execute_result"
    }
   ],
   "source": [
    "flights[flights.MONTH == 10].DESTINATION_AIRPORT[:10]"
   ]
  },
  {
   "cell_type": "markdown",
   "metadata": {
    "nbpresent": {
     "id": "2bc190b7-28e9-4e7c-9086-16af49346393"
    }
   },
   "source": [
    "Those codes are not included in the `airports` nomenclature: therefore, in this current state, they are similar to missing data. However, in this section, we are going to attempt to infer those codes based on the information that is already contained in the database. The aim will be to map every 5-digit code to a known IATA code.\n",
    "\n",
    "The idea to solve this problem will be to identify regular flights that happen all year long between the same origin airport and the same destination airport. We identify those flights based on two pieces of information:\n",
    "- Their flight number,\n",
    "- Their scheduled time.\n",
    "\n",
    "Indeed, even though the flight number is not precise enough, we find that the combination (FLIGHT_NUMBER, SCHEDULED_TIME) is often precise enough to identify a specific flight.\n",
    "\n",
    "To give an example, if we filter the database to keep only the flights with flight number 2342 and scheduled departure time 11:59 pm, we find:"
   ]
  },
  {
   "cell_type": "code",
   "execution_count": 21,
   "metadata": {
    "nbpresent": {
     "id": "a07a5c97-fd0a-4cfe-b05d-dadd62b87c5a"
    }
   },
   "outputs": [
    {
     "data": {
      "text/html": [
       "<div>\n",
       "<style>\n",
       "    .dataframe thead tr:only-child th {\n",
       "        text-align: right;\n",
       "    }\n",
       "\n",
       "    .dataframe thead th {\n",
       "        text-align: left;\n",
       "    }\n",
       "\n",
       "    .dataframe tbody tr th {\n",
       "        vertical-align: top;\n",
       "    }\n",
       "</style>\n",
       "<table border=\"1\" class=\"dataframe\">\n",
       "  <thead>\n",
       "    <tr style=\"text-align: right;\">\n",
       "      <th></th>\n",
       "      <th>MONTH</th>\n",
       "      <th>DAY</th>\n",
       "      <th>DAY_OF_WEEK</th>\n",
       "      <th>AIRLINE</th>\n",
       "      <th>FLIGHT_NUMBER</th>\n",
       "      <th>ORIGIN_AIRPORT</th>\n",
       "      <th>DESTINATION_AIRPORT</th>\n",
       "      <th>SCHEDULED_DEPARTURE</th>\n",
       "      <th>DEPARTURE_TIME</th>\n",
       "      <th>DEPARTURE_DELAY</th>\n",
       "      <th>...</th>\n",
       "      <th>AIR_TIME</th>\n",
       "      <th>DISTANCE</th>\n",
       "      <th>SCHEDULED_ARRIVAL</th>\n",
       "      <th>ARRIVAL_TIME</th>\n",
       "      <th>ARRIVAL_DELAY</th>\n",
       "      <th>AIR_SYSTEM_DELAY</th>\n",
       "      <th>SECURITY_DELAY</th>\n",
       "      <th>AIRLINE_DELAY</th>\n",
       "      <th>LATE_AIRCRAFT_DELAY</th>\n",
       "      <th>WEATHER_DELAY</th>\n",
       "    </tr>\n",
       "  </thead>\n",
       "  <tbody>\n",
       "    <tr>\n",
       "      <th>2453335</th>\n",
       "      <td>6</td>\n",
       "      <td>4</td>\n",
       "      <td>4</td>\n",
       "      <td>AA</td>\n",
       "      <td>2342</td>\n",
       "      <td>DEN</td>\n",
       "      <td>MIA</td>\n",
       "      <td>2359</td>\n",
       "      <td>21.0</td>\n",
       "      <td>22.0</td>\n",
       "      <td>...</td>\n",
       "      <td>201.0</td>\n",
       "      <td>1709</td>\n",
       "      <td>550</td>\n",
       "      <td>558.0</td>\n",
       "      <td>8.0</td>\n",
       "      <td>NaN</td>\n",
       "      <td>NaN</td>\n",
       "      <td>NaN</td>\n",
       "      <td>NaN</td>\n",
       "      <td>NaN</td>\n",
       "    </tr>\n",
       "    <tr>\n",
       "      <th>2470602</th>\n",
       "      <td>6</td>\n",
       "      <td>5</td>\n",
       "      <td>5</td>\n",
       "      <td>AA</td>\n",
       "      <td>2342</td>\n",
       "      <td>DEN</td>\n",
       "      <td>MIA</td>\n",
       "      <td>2359</td>\n",
       "      <td>26.0</td>\n",
       "      <td>27.0</td>\n",
       "      <td>...</td>\n",
       "      <td>201.0</td>\n",
       "      <td>1709</td>\n",
       "      <td>550</td>\n",
       "      <td>614.0</td>\n",
       "      <td>24.0</td>\n",
       "      <td>0.0</td>\n",
       "      <td>0.0</td>\n",
       "      <td>4.0</td>\n",
       "      <td>20.0</td>\n",
       "      <td>0.0</td>\n",
       "    </tr>\n",
       "    <tr>\n",
       "      <th>2484842</th>\n",
       "      <td>6</td>\n",
       "      <td>6</td>\n",
       "      <td>6</td>\n",
       "      <td>AA</td>\n",
       "      <td>2342</td>\n",
       "      <td>DEN</td>\n",
       "      <td>MIA</td>\n",
       "      <td>2359</td>\n",
       "      <td>2359.0</td>\n",
       "      <td>0.0</td>\n",
       "      <td>...</td>\n",
       "      <td>201.0</td>\n",
       "      <td>1709</td>\n",
       "      <td>550</td>\n",
       "      <td>537.0</td>\n",
       "      <td>-13.0</td>\n",
       "      <td>NaN</td>\n",
       "      <td>NaN</td>\n",
       "      <td>NaN</td>\n",
       "      <td>NaN</td>\n",
       "      <td>NaN</td>\n",
       "    </tr>\n",
       "    <tr>\n",
       "      <th>2501514</th>\n",
       "      <td>6</td>\n",
       "      <td>7</td>\n",
       "      <td>7</td>\n",
       "      <td>AA</td>\n",
       "      <td>2342</td>\n",
       "      <td>DEN</td>\n",
       "      <td>MIA</td>\n",
       "      <td>2359</td>\n",
       "      <td>2359.0</td>\n",
       "      <td>0.0</td>\n",
       "      <td>...</td>\n",
       "      <td>199.0</td>\n",
       "      <td>1709</td>\n",
       "      <td>550</td>\n",
       "      <td>539.0</td>\n",
       "      <td>-11.0</td>\n",
       "      <td>NaN</td>\n",
       "      <td>NaN</td>\n",
       "      <td>NaN</td>\n",
       "      <td>NaN</td>\n",
       "      <td>NaN</td>\n",
       "    </tr>\n",
       "    <tr>\n",
       "      <th>2518830</th>\n",
       "      <td>6</td>\n",
       "      <td>8</td>\n",
       "      <td>1</td>\n",
       "      <td>AA</td>\n",
       "      <td>2342</td>\n",
       "      <td>DEN</td>\n",
       "      <td>MIA</td>\n",
       "      <td>2359</td>\n",
       "      <td>1.0</td>\n",
       "      <td>2.0</td>\n",
       "      <td>...</td>\n",
       "      <td>195.0</td>\n",
       "      <td>1709</td>\n",
       "      <td>550</td>\n",
       "      <td>532.0</td>\n",
       "      <td>-18.0</td>\n",
       "      <td>NaN</td>\n",
       "      <td>NaN</td>\n",
       "      <td>NaN</td>\n",
       "      <td>NaN</td>\n",
       "      <td>NaN</td>\n",
       "    </tr>\n",
       "    <tr>\n",
       "      <th>2535952</th>\n",
       "      <td>6</td>\n",
       "      <td>9</td>\n",
       "      <td>2</td>\n",
       "      <td>AA</td>\n",
       "      <td>2342</td>\n",
       "      <td>DEN</td>\n",
       "      <td>MIA</td>\n",
       "      <td>2359</td>\n",
       "      <td>6.0</td>\n",
       "      <td>7.0</td>\n",
       "      <td>...</td>\n",
       "      <td>202.0</td>\n",
       "      <td>1709</td>\n",
       "      <td>550</td>\n",
       "      <td>546.0</td>\n",
       "      <td>-4.0</td>\n",
       "      <td>NaN</td>\n",
       "      <td>NaN</td>\n",
       "      <td>NaN</td>\n",
       "      <td>NaN</td>\n",
       "      <td>NaN</td>\n",
       "    </tr>\n",
       "    <tr>\n",
       "      <th>2553116</th>\n",
       "      <td>6</td>\n",
       "      <td>10</td>\n",
       "      <td>3</td>\n",
       "      <td>AA</td>\n",
       "      <td>2342</td>\n",
       "      <td>DEN</td>\n",
       "      <td>MIA</td>\n",
       "      <td>2359</td>\n",
       "      <td>2356.0</td>\n",
       "      <td>-3.0</td>\n",
       "      <td>...</td>\n",
       "      <td>211.0</td>\n",
       "      <td>1709</td>\n",
       "      <td>550</td>\n",
       "      <td>549.0</td>\n",
       "      <td>-1.0</td>\n",
       "      <td>NaN</td>\n",
       "      <td>NaN</td>\n",
       "      <td>NaN</td>\n",
       "      <td>NaN</td>\n",
       "      <td>NaN</td>\n",
       "    </tr>\n",
       "    <tr>\n",
       "      <th>2570503</th>\n",
       "      <td>6</td>\n",
       "      <td>11</td>\n",
       "      <td>4</td>\n",
       "      <td>AA</td>\n",
       "      <td>2342</td>\n",
       "      <td>DEN</td>\n",
       "      <td>MIA</td>\n",
       "      <td>2359</td>\n",
       "      <td>45.0</td>\n",
       "      <td>46.0</td>\n",
       "      <td>...</td>\n",
       "      <td>220.0</td>\n",
       "      <td>1709</td>\n",
       "      <td>550</td>\n",
       "      <td>645.0</td>\n",
       "      <td>55.0</td>\n",
       "      <td>9.0</td>\n",
       "      <td>0.0</td>\n",
       "      <td>46.0</td>\n",
       "      <td>0.0</td>\n",
       "      <td>0.0</td>\n",
       "    </tr>\n",
       "    <tr>\n",
       "      <th>2587941</th>\n",
       "      <td>6</td>\n",
       "      <td>12</td>\n",
       "      <td>5</td>\n",
       "      <td>AA</td>\n",
       "      <td>2342</td>\n",
       "      <td>DEN</td>\n",
       "      <td>MIA</td>\n",
       "      <td>2359</td>\n",
       "      <td>2358.0</td>\n",
       "      <td>-1.0</td>\n",
       "      <td>...</td>\n",
       "      <td>213.0</td>\n",
       "      <td>1709</td>\n",
       "      <td>550</td>\n",
       "      <td>547.0</td>\n",
       "      <td>-3.0</td>\n",
       "      <td>NaN</td>\n",
       "      <td>NaN</td>\n",
       "      <td>NaN</td>\n",
       "      <td>NaN</td>\n",
       "      <td>NaN</td>\n",
       "    </tr>\n",
       "    <tr>\n",
       "      <th>2602725</th>\n",
       "      <td>6</td>\n",
       "      <td>13</td>\n",
       "      <td>6</td>\n",
       "      <td>AA</td>\n",
       "      <td>2342</td>\n",
       "      <td>DEN</td>\n",
       "      <td>MIA</td>\n",
       "      <td>2359</td>\n",
       "      <td>2356.0</td>\n",
       "      <td>-3.0</td>\n",
       "      <td>...</td>\n",
       "      <td>199.0</td>\n",
       "      <td>1709</td>\n",
       "      <td>550</td>\n",
       "      <td>529.0</td>\n",
       "      <td>-21.0</td>\n",
       "      <td>NaN</td>\n",
       "      <td>NaN</td>\n",
       "      <td>NaN</td>\n",
       "      <td>NaN</td>\n",
       "      <td>NaN</td>\n",
       "    </tr>\n",
       "    <tr>\n",
       "      <th>2619414</th>\n",
       "      <td>6</td>\n",
       "      <td>14</td>\n",
       "      <td>7</td>\n",
       "      <td>AA</td>\n",
       "      <td>2342</td>\n",
       "      <td>DEN</td>\n",
       "      <td>MIA</td>\n",
       "      <td>2359</td>\n",
       "      <td>2358.0</td>\n",
       "      <td>-1.0</td>\n",
       "      <td>...</td>\n",
       "      <td>202.0</td>\n",
       "      <td>1709</td>\n",
       "      <td>550</td>\n",
       "      <td>543.0</td>\n",
       "      <td>-7.0</td>\n",
       "      <td>NaN</td>\n",
       "      <td>NaN</td>\n",
       "      <td>NaN</td>\n",
       "      <td>NaN</td>\n",
       "      <td>NaN</td>\n",
       "    </tr>\n",
       "    <tr>\n",
       "      <th>2636789</th>\n",
       "      <td>6</td>\n",
       "      <td>15</td>\n",
       "      <td>1</td>\n",
       "      <td>AA</td>\n",
       "      <td>2342</td>\n",
       "      <td>DEN</td>\n",
       "      <td>MIA</td>\n",
       "      <td>2359</td>\n",
       "      <td>2.0</td>\n",
       "      <td>3.0</td>\n",
       "      <td>...</td>\n",
       "      <td>204.0</td>\n",
       "      <td>1709</td>\n",
       "      <td>550</td>\n",
       "      <td>544.0</td>\n",
       "      <td>-6.0</td>\n",
       "      <td>NaN</td>\n",
       "      <td>NaN</td>\n",
       "      <td>NaN</td>\n",
       "      <td>NaN</td>\n",
       "      <td>NaN</td>\n",
       "    </tr>\n",
       "    <tr>\n",
       "      <th>2653968</th>\n",
       "      <td>6</td>\n",
       "      <td>16</td>\n",
       "      <td>2</td>\n",
       "      <td>AA</td>\n",
       "      <td>2342</td>\n",
       "      <td>DEN</td>\n",
       "      <td>MIA</td>\n",
       "      <td>2359</td>\n",
       "      <td>58.0</td>\n",
       "      <td>59.0</td>\n",
       "      <td>...</td>\n",
       "      <td>210.0</td>\n",
       "      <td>1709</td>\n",
       "      <td>550</td>\n",
       "      <td>647.0</td>\n",
       "      <td>57.0</td>\n",
       "      <td>0.0</td>\n",
       "      <td>0.0</td>\n",
       "      <td>12.0</td>\n",
       "      <td>45.0</td>\n",
       "      <td>0.0</td>\n",
       "    </tr>\n",
       "    <tr>\n",
       "      <th>2671205</th>\n",
       "      <td>6</td>\n",
       "      <td>17</td>\n",
       "      <td>3</td>\n",
       "      <td>AA</td>\n",
       "      <td>2342</td>\n",
       "      <td>DEN</td>\n",
       "      <td>MIA</td>\n",
       "      <td>2359</td>\n",
       "      <td>806.0</td>\n",
       "      <td>487.0</td>\n",
       "      <td>...</td>\n",
       "      <td>208.0</td>\n",
       "      <td>1709</td>\n",
       "      <td>550</td>\n",
       "      <td>1352.0</td>\n",
       "      <td>482.0</td>\n",
       "      <td>0.0</td>\n",
       "      <td>0.0</td>\n",
       "      <td>482.0</td>\n",
       "      <td>0.0</td>\n",
       "      <td>0.0</td>\n",
       "    </tr>\n",
       "    <tr>\n",
       "      <th>2688635</th>\n",
       "      <td>6</td>\n",
       "      <td>18</td>\n",
       "      <td>4</td>\n",
       "      <td>AA</td>\n",
       "      <td>2342</td>\n",
       "      <td>DEN</td>\n",
       "      <td>MIA</td>\n",
       "      <td>2359</td>\n",
       "      <td>2357.0</td>\n",
       "      <td>-2.0</td>\n",
       "      <td>...</td>\n",
       "      <td>209.0</td>\n",
       "      <td>1709</td>\n",
       "      <td>550</td>\n",
       "      <td>552.0</td>\n",
       "      <td>2.0</td>\n",
       "      <td>NaN</td>\n",
       "      <td>NaN</td>\n",
       "      <td>NaN</td>\n",
       "      <td>NaN</td>\n",
       "      <td>NaN</td>\n",
       "    </tr>\n",
       "    <tr>\n",
       "      <th>2706095</th>\n",
       "      <td>6</td>\n",
       "      <td>19</td>\n",
       "      <td>5</td>\n",
       "      <td>AA</td>\n",
       "      <td>2342</td>\n",
       "      <td>DEN</td>\n",
       "      <td>MIA</td>\n",
       "      <td>2359</td>\n",
       "      <td>2351.0</td>\n",
       "      <td>-8.0</td>\n",
       "      <td>...</td>\n",
       "      <td>202.0</td>\n",
       "      <td>1709</td>\n",
       "      <td>550</td>\n",
       "      <td>529.0</td>\n",
       "      <td>-21.0</td>\n",
       "      <td>NaN</td>\n",
       "      <td>NaN</td>\n",
       "      <td>NaN</td>\n",
       "      <td>NaN</td>\n",
       "      <td>NaN</td>\n",
       "    </tr>\n",
       "    <tr>\n",
       "      <th>2720906</th>\n",
       "      <td>6</td>\n",
       "      <td>20</td>\n",
       "      <td>6</td>\n",
       "      <td>AA</td>\n",
       "      <td>2342</td>\n",
       "      <td>DEN</td>\n",
       "      <td>MIA</td>\n",
       "      <td>2359</td>\n",
       "      <td>2359.0</td>\n",
       "      <td>0.0</td>\n",
       "      <td>...</td>\n",
       "      <td>201.0</td>\n",
       "      <td>1709</td>\n",
       "      <td>550</td>\n",
       "      <td>540.0</td>\n",
       "      <td>-10.0</td>\n",
       "      <td>NaN</td>\n",
       "      <td>NaN</td>\n",
       "      <td>NaN</td>\n",
       "      <td>NaN</td>\n",
       "      <td>NaN</td>\n",
       "    </tr>\n",
       "    <tr>\n",
       "      <th>2737646</th>\n",
       "      <td>6</td>\n",
       "      <td>21</td>\n",
       "      <td>7</td>\n",
       "      <td>AA</td>\n",
       "      <td>2342</td>\n",
       "      <td>DEN</td>\n",
       "      <td>MIA</td>\n",
       "      <td>2359</td>\n",
       "      <td>2354.0</td>\n",
       "      <td>-5.0</td>\n",
       "      <td>...</td>\n",
       "      <td>203.0</td>\n",
       "      <td>1709</td>\n",
       "      <td>550</td>\n",
       "      <td>542.0</td>\n",
       "      <td>-8.0</td>\n",
       "      <td>NaN</td>\n",
       "      <td>NaN</td>\n",
       "      <td>NaN</td>\n",
       "      <td>NaN</td>\n",
       "      <td>NaN</td>\n",
       "    </tr>\n",
       "    <tr>\n",
       "      <th>2755053</th>\n",
       "      <td>6</td>\n",
       "      <td>22</td>\n",
       "      <td>1</td>\n",
       "      <td>AA</td>\n",
       "      <td>2342</td>\n",
       "      <td>DEN</td>\n",
       "      <td>MIA</td>\n",
       "      <td>2359</td>\n",
       "      <td>2353.0</td>\n",
       "      <td>-6.0</td>\n",
       "      <td>...</td>\n",
       "      <td>204.0</td>\n",
       "      <td>1709</td>\n",
       "      <td>550</td>\n",
       "      <td>531.0</td>\n",
       "      <td>-19.0</td>\n",
       "      <td>NaN</td>\n",
       "      <td>NaN</td>\n",
       "      <td>NaN</td>\n",
       "      <td>NaN</td>\n",
       "      <td>NaN</td>\n",
       "    </tr>\n",
       "    <tr>\n",
       "      <th>2772262</th>\n",
       "      <td>6</td>\n",
       "      <td>23</td>\n",
       "      <td>2</td>\n",
       "      <td>AA</td>\n",
       "      <td>2342</td>\n",
       "      <td>DEN</td>\n",
       "      <td>MIA</td>\n",
       "      <td>2359</td>\n",
       "      <td>2400.0</td>\n",
       "      <td>1.0</td>\n",
       "      <td>...</td>\n",
       "      <td>212.0</td>\n",
       "      <td>1709</td>\n",
       "      <td>550</td>\n",
       "      <td>600.0</td>\n",
       "      <td>10.0</td>\n",
       "      <td>NaN</td>\n",
       "      <td>NaN</td>\n",
       "      <td>NaN</td>\n",
       "      <td>NaN</td>\n",
       "      <td>NaN</td>\n",
       "    </tr>\n",
       "    <tr>\n",
       "      <th>2789521</th>\n",
       "      <td>6</td>\n",
       "      <td>24</td>\n",
       "      <td>3</td>\n",
       "      <td>AA</td>\n",
       "      <td>2342</td>\n",
       "      <td>DEN</td>\n",
       "      <td>MIA</td>\n",
       "      <td>2359</td>\n",
       "      <td>2353.0</td>\n",
       "      <td>-6.0</td>\n",
       "      <td>...</td>\n",
       "      <td>210.0</td>\n",
       "      <td>1709</td>\n",
       "      <td>550</td>\n",
       "      <td>544.0</td>\n",
       "      <td>-6.0</td>\n",
       "      <td>NaN</td>\n",
       "      <td>NaN</td>\n",
       "      <td>NaN</td>\n",
       "      <td>NaN</td>\n",
       "      <td>NaN</td>\n",
       "    </tr>\n",
       "    <tr>\n",
       "      <th>2806963</th>\n",
       "      <td>6</td>\n",
       "      <td>25</td>\n",
       "      <td>4</td>\n",
       "      <td>AA</td>\n",
       "      <td>2342</td>\n",
       "      <td>DEN</td>\n",
       "      <td>MIA</td>\n",
       "      <td>2359</td>\n",
       "      <td>2358.0</td>\n",
       "      <td>-1.0</td>\n",
       "      <td>...</td>\n",
       "      <td>223.0</td>\n",
       "      <td>1709</td>\n",
       "      <td>550</td>\n",
       "      <td>608.0</td>\n",
       "      <td>18.0</td>\n",
       "      <td>18.0</td>\n",
       "      <td>0.0</td>\n",
       "      <td>0.0</td>\n",
       "      <td>0.0</td>\n",
       "      <td>0.0</td>\n",
       "    </tr>\n",
       "    <tr>\n",
       "      <th>2824435</th>\n",
       "      <td>6</td>\n",
       "      <td>26</td>\n",
       "      <td>5</td>\n",
       "      <td>AA</td>\n",
       "      <td>2342</td>\n",
       "      <td>DEN</td>\n",
       "      <td>MIA</td>\n",
       "      <td>2359</td>\n",
       "      <td>17.0</td>\n",
       "      <td>18.0</td>\n",
       "      <td>...</td>\n",
       "      <td>202.0</td>\n",
       "      <td>1709</td>\n",
       "      <td>550</td>\n",
       "      <td>559.0</td>\n",
       "      <td>9.0</td>\n",
       "      <td>NaN</td>\n",
       "      <td>NaN</td>\n",
       "      <td>NaN</td>\n",
       "      <td>NaN</td>\n",
       "      <td>NaN</td>\n",
       "    </tr>\n",
       "    <tr>\n",
       "      <th>2839283</th>\n",
       "      <td>6</td>\n",
       "      <td>27</td>\n",
       "      <td>6</td>\n",
       "      <td>AA</td>\n",
       "      <td>2342</td>\n",
       "      <td>DEN</td>\n",
       "      <td>MIA</td>\n",
       "      <td>2359</td>\n",
       "      <td>2352.0</td>\n",
       "      <td>-7.0</td>\n",
       "      <td>...</td>\n",
       "      <td>207.0</td>\n",
       "      <td>1709</td>\n",
       "      <td>550</td>\n",
       "      <td>540.0</td>\n",
       "      <td>-10.0</td>\n",
       "      <td>NaN</td>\n",
       "      <td>NaN</td>\n",
       "      <td>NaN</td>\n",
       "      <td>NaN</td>\n",
       "      <td>NaN</td>\n",
       "    </tr>\n",
       "    <tr>\n",
       "      <th>2855749</th>\n",
       "      <td>6</td>\n",
       "      <td>28</td>\n",
       "      <td>7</td>\n",
       "      <td>AA</td>\n",
       "      <td>2342</td>\n",
       "      <td>DEN</td>\n",
       "      <td>MIA</td>\n",
       "      <td>2359</td>\n",
       "      <td>2356.0</td>\n",
       "      <td>-3.0</td>\n",
       "      <td>...</td>\n",
       "      <td>198.0</td>\n",
       "      <td>1709</td>\n",
       "      <td>550</td>\n",
       "      <td>535.0</td>\n",
       "      <td>-15.0</td>\n",
       "      <td>NaN</td>\n",
       "      <td>NaN</td>\n",
       "      <td>NaN</td>\n",
       "      <td>NaN</td>\n",
       "      <td>NaN</td>\n",
       "    </tr>\n",
       "    <tr>\n",
       "      <th>2872847</th>\n",
       "      <td>6</td>\n",
       "      <td>29</td>\n",
       "      <td>1</td>\n",
       "      <td>AA</td>\n",
       "      <td>2342</td>\n",
       "      <td>DEN</td>\n",
       "      <td>MIA</td>\n",
       "      <td>2359</td>\n",
       "      <td>2356.0</td>\n",
       "      <td>-3.0</td>\n",
       "      <td>...</td>\n",
       "      <td>203.0</td>\n",
       "      <td>1709</td>\n",
       "      <td>550</td>\n",
       "      <td>538.0</td>\n",
       "      <td>-12.0</td>\n",
       "      <td>NaN</td>\n",
       "      <td>NaN</td>\n",
       "      <td>NaN</td>\n",
       "      <td>NaN</td>\n",
       "      <td>NaN</td>\n",
       "    </tr>\n",
       "    <tr>\n",
       "      <th>2889492</th>\n",
       "      <td>6</td>\n",
       "      <td>30</td>\n",
       "      <td>2</td>\n",
       "      <td>AA</td>\n",
       "      <td>2342</td>\n",
       "      <td>DEN</td>\n",
       "      <td>MIA</td>\n",
       "      <td>2359</td>\n",
       "      <td>117.0</td>\n",
       "      <td>78.0</td>\n",
       "      <td>...</td>\n",
       "      <td>199.0</td>\n",
       "      <td>1709</td>\n",
       "      <td>550</td>\n",
       "      <td>657.0</td>\n",
       "      <td>67.0</td>\n",
       "      <td>0.0</td>\n",
       "      <td>0.0</td>\n",
       "      <td>67.0</td>\n",
       "      <td>0.0</td>\n",
       "      <td>0.0</td>\n",
       "    </tr>\n",
       "    <tr>\n",
       "      <th>2906484</th>\n",
       "      <td>7</td>\n",
       "      <td>1</td>\n",
       "      <td>3</td>\n",
       "      <td>AA</td>\n",
       "      <td>2342</td>\n",
       "      <td>DEN</td>\n",
       "      <td>MIA</td>\n",
       "      <td>2359</td>\n",
       "      <td>1.0</td>\n",
       "      <td>2.0</td>\n",
       "      <td>...</td>\n",
       "      <td>197.0</td>\n",
       "      <td>1709</td>\n",
       "      <td>550</td>\n",
       "      <td>534.0</td>\n",
       "      <td>-16.0</td>\n",
       "      <td>NaN</td>\n",
       "      <td>NaN</td>\n",
       "      <td>NaN</td>\n",
       "      <td>NaN</td>\n",
       "      <td>NaN</td>\n",
       "    </tr>\n",
       "    <tr>\n",
       "      <th>2923921</th>\n",
       "      <td>7</td>\n",
       "      <td>2</td>\n",
       "      <td>4</td>\n",
       "      <td>AA</td>\n",
       "      <td>2342</td>\n",
       "      <td>DEN</td>\n",
       "      <td>MIA</td>\n",
       "      <td>2359</td>\n",
       "      <td>2355.0</td>\n",
       "      <td>-4.0</td>\n",
       "      <td>...</td>\n",
       "      <td>199.0</td>\n",
       "      <td>1709</td>\n",
       "      <td>550</td>\n",
       "      <td>537.0</td>\n",
       "      <td>-13.0</td>\n",
       "      <td>NaN</td>\n",
       "      <td>NaN</td>\n",
       "      <td>NaN</td>\n",
       "      <td>NaN</td>\n",
       "      <td>NaN</td>\n",
       "    </tr>\n",
       "    <tr>\n",
       "      <th>2938581</th>\n",
       "      <td>7</td>\n",
       "      <td>3</td>\n",
       "      <td>5</td>\n",
       "      <td>AA</td>\n",
       "      <td>2342</td>\n",
       "      <td>DEN</td>\n",
       "      <td>MIA</td>\n",
       "      <td>2359</td>\n",
       "      <td>2350.0</td>\n",
       "      <td>-9.0</td>\n",
       "      <td>...</td>\n",
       "      <td>204.0</td>\n",
       "      <td>1709</td>\n",
       "      <td>550</td>\n",
       "      <td>539.0</td>\n",
       "      <td>-11.0</td>\n",
       "      <td>NaN</td>\n",
       "      <td>NaN</td>\n",
       "      <td>NaN</td>\n",
       "      <td>NaN</td>\n",
       "      <td>NaN</td>\n",
       "    </tr>\n",
       "    <tr>\n",
       "      <th>...</th>\n",
       "      <td>...</td>\n",
       "      <td>...</td>\n",
       "      <td>...</td>\n",
       "      <td>...</td>\n",
       "      <td>...</td>\n",
       "      <td>...</td>\n",
       "      <td>...</td>\n",
       "      <td>...</td>\n",
       "      <td>...</td>\n",
       "      <td>...</td>\n",
       "      <td>...</td>\n",
       "      <td>...</td>\n",
       "      <td>...</td>\n",
       "      <td>...</td>\n",
       "      <td>...</td>\n",
       "      <td>...</td>\n",
       "      <td>...</td>\n",
       "      <td>...</td>\n",
       "      <td>...</td>\n",
       "      <td>...</td>\n",
       "      <td>...</td>\n",
       "    </tr>\n",
       "    <tr>\n",
       "      <th>5233549</th>\n",
       "      <td>11</td>\n",
       "      <td>23</td>\n",
       "      <td>1</td>\n",
       "      <td>AA</td>\n",
       "      <td>2342</td>\n",
       "      <td>DEN</td>\n",
       "      <td>MIA</td>\n",
       "      <td>2359</td>\n",
       "      <td>2350.0</td>\n",
       "      <td>-9.0</td>\n",
       "      <td>...</td>\n",
       "      <td>186.0</td>\n",
       "      <td>1709</td>\n",
       "      <td>543</td>\n",
       "      <td>516.0</td>\n",
       "      <td>-27.0</td>\n",
       "      <td>NaN</td>\n",
       "      <td>NaN</td>\n",
       "      <td>NaN</td>\n",
       "      <td>NaN</td>\n",
       "      <td>NaN</td>\n",
       "    </tr>\n",
       "    <tr>\n",
       "      <th>5249631</th>\n",
       "      <td>11</td>\n",
       "      <td>24</td>\n",
       "      <td>2</td>\n",
       "      <td>AA</td>\n",
       "      <td>2342</td>\n",
       "      <td>DEN</td>\n",
       "      <td>MIA</td>\n",
       "      <td>2359</td>\n",
       "      <td>3.0</td>\n",
       "      <td>4.0</td>\n",
       "      <td>...</td>\n",
       "      <td>189.0</td>\n",
       "      <td>1709</td>\n",
       "      <td>543</td>\n",
       "      <td>534.0</td>\n",
       "      <td>-9.0</td>\n",
       "      <td>NaN</td>\n",
       "      <td>NaN</td>\n",
       "      <td>NaN</td>\n",
       "      <td>NaN</td>\n",
       "      <td>NaN</td>\n",
       "    </tr>\n",
       "    <tr>\n",
       "      <th>5289236</th>\n",
       "      <td>11</td>\n",
       "      <td>27</td>\n",
       "      <td>5</td>\n",
       "      <td>AA</td>\n",
       "      <td>2342</td>\n",
       "      <td>DEN</td>\n",
       "      <td>MIA</td>\n",
       "      <td>2359</td>\n",
       "      <td>2347.0</td>\n",
       "      <td>-12.0</td>\n",
       "      <td>...</td>\n",
       "      <td>194.0</td>\n",
       "      <td>1709</td>\n",
       "      <td>543</td>\n",
       "      <td>558.0</td>\n",
       "      <td>15.0</td>\n",
       "      <td>15.0</td>\n",
       "      <td>0.0</td>\n",
       "      <td>0.0</td>\n",
       "      <td>0.0</td>\n",
       "      <td>0.0</td>\n",
       "    </tr>\n",
       "    <tr>\n",
       "      <th>5305292</th>\n",
       "      <td>11</td>\n",
       "      <td>28</td>\n",
       "      <td>6</td>\n",
       "      <td>AA</td>\n",
       "      <td>2342</td>\n",
       "      <td>DEN</td>\n",
       "      <td>MIA</td>\n",
       "      <td>2359</td>\n",
       "      <td>2356.0</td>\n",
       "      <td>-3.0</td>\n",
       "      <td>...</td>\n",
       "      <td>189.0</td>\n",
       "      <td>1709</td>\n",
       "      <td>543</td>\n",
       "      <td>521.0</td>\n",
       "      <td>-22.0</td>\n",
       "      <td>NaN</td>\n",
       "      <td>NaN</td>\n",
       "      <td>NaN</td>\n",
       "      <td>NaN</td>\n",
       "      <td>NaN</td>\n",
       "    </tr>\n",
       "    <tr>\n",
       "      <th>5322856</th>\n",
       "      <td>11</td>\n",
       "      <td>29</td>\n",
       "      <td>7</td>\n",
       "      <td>AA</td>\n",
       "      <td>2342</td>\n",
       "      <td>DEN</td>\n",
       "      <td>MIA</td>\n",
       "      <td>2359</td>\n",
       "      <td>2358.0</td>\n",
       "      <td>-1.0</td>\n",
       "      <td>...</td>\n",
       "      <td>191.0</td>\n",
       "      <td>1709</td>\n",
       "      <td>543</td>\n",
       "      <td>602.0</td>\n",
       "      <td>19.0</td>\n",
       "      <td>19.0</td>\n",
       "      <td>0.0</td>\n",
       "      <td>0.0</td>\n",
       "      <td>0.0</td>\n",
       "      <td>0.0</td>\n",
       "    </tr>\n",
       "    <tr>\n",
       "      <th>5339833</th>\n",
       "      <td>11</td>\n",
       "      <td>30</td>\n",
       "      <td>1</td>\n",
       "      <td>AA</td>\n",
       "      <td>2342</td>\n",
       "      <td>DEN</td>\n",
       "      <td>MIA</td>\n",
       "      <td>2359</td>\n",
       "      <td>9.0</td>\n",
       "      <td>10.0</td>\n",
       "      <td>...</td>\n",
       "      <td>191.0</td>\n",
       "      <td>1709</td>\n",
       "      <td>543</td>\n",
       "      <td>543.0</td>\n",
       "      <td>0.0</td>\n",
       "      <td>NaN</td>\n",
       "      <td>NaN</td>\n",
       "      <td>NaN</td>\n",
       "      <td>NaN</td>\n",
       "      <td>NaN</td>\n",
       "    </tr>\n",
       "    <tr>\n",
       "      <th>5387798</th>\n",
       "      <td>12</td>\n",
       "      <td>3</td>\n",
       "      <td>4</td>\n",
       "      <td>AA</td>\n",
       "      <td>2342</td>\n",
       "      <td>DEN</td>\n",
       "      <td>MIA</td>\n",
       "      <td>2359</td>\n",
       "      <td>26.0</td>\n",
       "      <td>27.0</td>\n",
       "      <td>...</td>\n",
       "      <td>196.0</td>\n",
       "      <td>1709</td>\n",
       "      <td>543</td>\n",
       "      <td>602.0</td>\n",
       "      <td>19.0</td>\n",
       "      <td>0.0</td>\n",
       "      <td>0.0</td>\n",
       "      <td>19.0</td>\n",
       "      <td>0.0</td>\n",
       "      <td>0.0</td>\n",
       "    </tr>\n",
       "    <tr>\n",
       "      <th>5404013</th>\n",
       "      <td>12</td>\n",
       "      <td>4</td>\n",
       "      <td>5</td>\n",
       "      <td>AA</td>\n",
       "      <td>2342</td>\n",
       "      <td>DEN</td>\n",
       "      <td>MIA</td>\n",
       "      <td>2359</td>\n",
       "      <td>15.0</td>\n",
       "      <td>16.0</td>\n",
       "      <td>...</td>\n",
       "      <td>196.0</td>\n",
       "      <td>1709</td>\n",
       "      <td>543</td>\n",
       "      <td>548.0</td>\n",
       "      <td>5.0</td>\n",
       "      <td>NaN</td>\n",
       "      <td>NaN</td>\n",
       "      <td>NaN</td>\n",
       "      <td>NaN</td>\n",
       "      <td>NaN</td>\n",
       "    </tr>\n",
       "    <tr>\n",
       "      <th>5416215</th>\n",
       "      <td>12</td>\n",
       "      <td>5</td>\n",
       "      <td>6</td>\n",
       "      <td>AA</td>\n",
       "      <td>2342</td>\n",
       "      <td>DEN</td>\n",
       "      <td>MIA</td>\n",
       "      <td>2359</td>\n",
       "      <td>17.0</td>\n",
       "      <td>18.0</td>\n",
       "      <td>...</td>\n",
       "      <td>200.0</td>\n",
       "      <td>1709</td>\n",
       "      <td>543</td>\n",
       "      <td>557.0</td>\n",
       "      <td>14.0</td>\n",
       "      <td>NaN</td>\n",
       "      <td>NaN</td>\n",
       "      <td>NaN</td>\n",
       "      <td>NaN</td>\n",
       "      <td>NaN</td>\n",
       "    </tr>\n",
       "    <tr>\n",
       "      <th>5431314</th>\n",
       "      <td>12</td>\n",
       "      <td>6</td>\n",
       "      <td>7</td>\n",
       "      <td>AA</td>\n",
       "      <td>2342</td>\n",
       "      <td>DEN</td>\n",
       "      <td>MIA</td>\n",
       "      <td>2359</td>\n",
       "      <td>2358.0</td>\n",
       "      <td>-1.0</td>\n",
       "      <td>...</td>\n",
       "      <td>198.0</td>\n",
       "      <td>1709</td>\n",
       "      <td>543</td>\n",
       "      <td>547.0</td>\n",
       "      <td>4.0</td>\n",
       "      <td>NaN</td>\n",
       "      <td>NaN</td>\n",
       "      <td>NaN</td>\n",
       "      <td>NaN</td>\n",
       "      <td>NaN</td>\n",
       "    </tr>\n",
       "    <tr>\n",
       "      <th>5447356</th>\n",
       "      <td>12</td>\n",
       "      <td>7</td>\n",
       "      <td>1</td>\n",
       "      <td>AA</td>\n",
       "      <td>2342</td>\n",
       "      <td>DEN</td>\n",
       "      <td>MIA</td>\n",
       "      <td>2359</td>\n",
       "      <td>2354.0</td>\n",
       "      <td>-5.0</td>\n",
       "      <td>...</td>\n",
       "      <td>208.0</td>\n",
       "      <td>1709</td>\n",
       "      <td>543</td>\n",
       "      <td>546.0</td>\n",
       "      <td>3.0</td>\n",
       "      <td>NaN</td>\n",
       "      <td>NaN</td>\n",
       "      <td>NaN</td>\n",
       "      <td>NaN</td>\n",
       "      <td>NaN</td>\n",
       "    </tr>\n",
       "    <tr>\n",
       "      <th>5495039</th>\n",
       "      <td>12</td>\n",
       "      <td>10</td>\n",
       "      <td>4</td>\n",
       "      <td>AA</td>\n",
       "      <td>2342</td>\n",
       "      <td>DEN</td>\n",
       "      <td>MIA</td>\n",
       "      <td>2359</td>\n",
       "      <td>2358.0</td>\n",
       "      <td>-1.0</td>\n",
       "      <td>...</td>\n",
       "      <td>187.0</td>\n",
       "      <td>1709</td>\n",
       "      <td>543</td>\n",
       "      <td>528.0</td>\n",
       "      <td>-15.0</td>\n",
       "      <td>NaN</td>\n",
       "      <td>NaN</td>\n",
       "      <td>NaN</td>\n",
       "      <td>NaN</td>\n",
       "      <td>NaN</td>\n",
       "    </tr>\n",
       "    <tr>\n",
       "      <th>5511301</th>\n",
       "      <td>12</td>\n",
       "      <td>11</td>\n",
       "      <td>5</td>\n",
       "      <td>AA</td>\n",
       "      <td>2342</td>\n",
       "      <td>DEN</td>\n",
       "      <td>MIA</td>\n",
       "      <td>2359</td>\n",
       "      <td>2353.0</td>\n",
       "      <td>-6.0</td>\n",
       "      <td>...</td>\n",
       "      <td>196.0</td>\n",
       "      <td>1709</td>\n",
       "      <td>543</td>\n",
       "      <td>532.0</td>\n",
       "      <td>-11.0</td>\n",
       "      <td>NaN</td>\n",
       "      <td>NaN</td>\n",
       "      <td>NaN</td>\n",
       "      <td>NaN</td>\n",
       "      <td>NaN</td>\n",
       "    </tr>\n",
       "    <tr>\n",
       "      <th>5523543</th>\n",
       "      <td>12</td>\n",
       "      <td>12</td>\n",
       "      <td>6</td>\n",
       "      <td>AA</td>\n",
       "      <td>2342</td>\n",
       "      <td>DEN</td>\n",
       "      <td>MIA</td>\n",
       "      <td>2359</td>\n",
       "      <td>2355.0</td>\n",
       "      <td>-4.0</td>\n",
       "      <td>...</td>\n",
       "      <td>210.0</td>\n",
       "      <td>1709</td>\n",
       "      <td>543</td>\n",
       "      <td>556.0</td>\n",
       "      <td>13.0</td>\n",
       "      <td>NaN</td>\n",
       "      <td>NaN</td>\n",
       "      <td>NaN</td>\n",
       "      <td>NaN</td>\n",
       "      <td>NaN</td>\n",
       "    </tr>\n",
       "    <tr>\n",
       "      <th>5538657</th>\n",
       "      <td>12</td>\n",
       "      <td>13</td>\n",
       "      <td>7</td>\n",
       "      <td>AA</td>\n",
       "      <td>2342</td>\n",
       "      <td>DEN</td>\n",
       "      <td>MIA</td>\n",
       "      <td>2359</td>\n",
       "      <td>2358.0</td>\n",
       "      <td>-1.0</td>\n",
       "      <td>...</td>\n",
       "      <td>207.0</td>\n",
       "      <td>1709</td>\n",
       "      <td>543</td>\n",
       "      <td>551.0</td>\n",
       "      <td>8.0</td>\n",
       "      <td>NaN</td>\n",
       "      <td>NaN</td>\n",
       "      <td>NaN</td>\n",
       "      <td>NaN</td>\n",
       "      <td>NaN</td>\n",
       "    </tr>\n",
       "    <tr>\n",
       "      <th>5554713</th>\n",
       "      <td>12</td>\n",
       "      <td>14</td>\n",
       "      <td>1</td>\n",
       "      <td>AA</td>\n",
       "      <td>2342</td>\n",
       "      <td>DEN</td>\n",
       "      <td>MIA</td>\n",
       "      <td>2359</td>\n",
       "      <td>8.0</td>\n",
       "      <td>9.0</td>\n",
       "      <td>...</td>\n",
       "      <td>201.0</td>\n",
       "      <td>1709</td>\n",
       "      <td>543</td>\n",
       "      <td>547.0</td>\n",
       "      <td>4.0</td>\n",
       "      <td>NaN</td>\n",
       "      <td>NaN</td>\n",
       "      <td>NaN</td>\n",
       "      <td>NaN</td>\n",
       "      <td>NaN</td>\n",
       "    </tr>\n",
       "    <tr>\n",
       "      <th>5603056</th>\n",
       "      <td>12</td>\n",
       "      <td>17</td>\n",
       "      <td>4</td>\n",
       "      <td>AA</td>\n",
       "      <td>2342</td>\n",
       "      <td>DEN</td>\n",
       "      <td>MIA</td>\n",
       "      <td>2359</td>\n",
       "      <td>2358.0</td>\n",
       "      <td>-1.0</td>\n",
       "      <td>...</td>\n",
       "      <td>190.0</td>\n",
       "      <td>1709</td>\n",
       "      <td>543</td>\n",
       "      <td>528.0</td>\n",
       "      <td>-15.0</td>\n",
       "      <td>NaN</td>\n",
       "      <td>NaN</td>\n",
       "      <td>NaN</td>\n",
       "      <td>NaN</td>\n",
       "      <td>NaN</td>\n",
       "    </tr>\n",
       "    <tr>\n",
       "      <th>5619765</th>\n",
       "      <td>12</td>\n",
       "      <td>18</td>\n",
       "      <td>5</td>\n",
       "      <td>AA</td>\n",
       "      <td>2342</td>\n",
       "      <td>DEN</td>\n",
       "      <td>MIA</td>\n",
       "      <td>2359</td>\n",
       "      <td>150.0</td>\n",
       "      <td>111.0</td>\n",
       "      <td>...</td>\n",
       "      <td>189.0</td>\n",
       "      <td>1709</td>\n",
       "      <td>543</td>\n",
       "      <td>722.0</td>\n",
       "      <td>99.0</td>\n",
       "      <td>0.0</td>\n",
       "      <td>0.0</td>\n",
       "      <td>99.0</td>\n",
       "      <td>0.0</td>\n",
       "      <td>0.0</td>\n",
       "    </tr>\n",
       "    <tr>\n",
       "      <th>5634491</th>\n",
       "      <td>12</td>\n",
       "      <td>19</td>\n",
       "      <td>6</td>\n",
       "      <td>AA</td>\n",
       "      <td>2342</td>\n",
       "      <td>DEN</td>\n",
       "      <td>MIA</td>\n",
       "      <td>2359</td>\n",
       "      <td>23.0</td>\n",
       "      <td>24.0</td>\n",
       "      <td>...</td>\n",
       "      <td>189.0</td>\n",
       "      <td>1709</td>\n",
       "      <td>543</td>\n",
       "      <td>550.0</td>\n",
       "      <td>7.0</td>\n",
       "      <td>NaN</td>\n",
       "      <td>NaN</td>\n",
       "      <td>NaN</td>\n",
       "      <td>NaN</td>\n",
       "      <td>NaN</td>\n",
       "    </tr>\n",
       "    <tr>\n",
       "      <th>5650355</th>\n",
       "      <td>12</td>\n",
       "      <td>20</td>\n",
       "      <td>7</td>\n",
       "      <td>AA</td>\n",
       "      <td>2342</td>\n",
       "      <td>DEN</td>\n",
       "      <td>MIA</td>\n",
       "      <td>2359</td>\n",
       "      <td>2359.0</td>\n",
       "      <td>0.0</td>\n",
       "      <td>...</td>\n",
       "      <td>198.0</td>\n",
       "      <td>1709</td>\n",
       "      <td>543</td>\n",
       "      <td>542.0</td>\n",
       "      <td>-1.0</td>\n",
       "      <td>NaN</td>\n",
       "      <td>NaN</td>\n",
       "      <td>NaN</td>\n",
       "      <td>NaN</td>\n",
       "      <td>NaN</td>\n",
       "    </tr>\n",
       "    <tr>\n",
       "      <th>5666663</th>\n",
       "      <td>12</td>\n",
       "      <td>21</td>\n",
       "      <td>1</td>\n",
       "      <td>AA</td>\n",
       "      <td>2342</td>\n",
       "      <td>DEN</td>\n",
       "      <td>MIA</td>\n",
       "      <td>2359</td>\n",
       "      <td>14.0</td>\n",
       "      <td>15.0</td>\n",
       "      <td>...</td>\n",
       "      <td>205.0</td>\n",
       "      <td>1709</td>\n",
       "      <td>543</td>\n",
       "      <td>611.0</td>\n",
       "      <td>28.0</td>\n",
       "      <td>13.0</td>\n",
       "      <td>0.0</td>\n",
       "      <td>15.0</td>\n",
       "      <td>0.0</td>\n",
       "      <td>0.0</td>\n",
       "    </tr>\n",
       "    <tr>\n",
       "      <th>5682925</th>\n",
       "      <td>12</td>\n",
       "      <td>22</td>\n",
       "      <td>2</td>\n",
       "      <td>AA</td>\n",
       "      <td>2342</td>\n",
       "      <td>DEN</td>\n",
       "      <td>MIA</td>\n",
       "      <td>2359</td>\n",
       "      <td>2400.0</td>\n",
       "      <td>1.0</td>\n",
       "      <td>...</td>\n",
       "      <td>207.0</td>\n",
       "      <td>1709</td>\n",
       "      <td>543</td>\n",
       "      <td>625.0</td>\n",
       "      <td>42.0</td>\n",
       "      <td>42.0</td>\n",
       "      <td>0.0</td>\n",
       "      <td>0.0</td>\n",
       "      <td>0.0</td>\n",
       "      <td>0.0</td>\n",
       "    </tr>\n",
       "    <tr>\n",
       "      <th>5699406</th>\n",
       "      <td>12</td>\n",
       "      <td>23</td>\n",
       "      <td>3</td>\n",
       "      <td>AA</td>\n",
       "      <td>2342</td>\n",
       "      <td>DEN</td>\n",
       "      <td>MIA</td>\n",
       "      <td>2359</td>\n",
       "      <td>23.0</td>\n",
       "      <td>24.0</td>\n",
       "      <td>...</td>\n",
       "      <td>195.0</td>\n",
       "      <td>1709</td>\n",
       "      <td>543</td>\n",
       "      <td>601.0</td>\n",
       "      <td>18.0</td>\n",
       "      <td>0.0</td>\n",
       "      <td>0.0</td>\n",
       "      <td>8.0</td>\n",
       "      <td>10.0</td>\n",
       "      <td>0.0</td>\n",
       "    </tr>\n",
       "    <tr>\n",
       "      <th>5712748</th>\n",
       "      <td>12</td>\n",
       "      <td>24</td>\n",
       "      <td>4</td>\n",
       "      <td>AA</td>\n",
       "      <td>2342</td>\n",
       "      <td>DEN</td>\n",
       "      <td>MIA</td>\n",
       "      <td>2359</td>\n",
       "      <td>2358.0</td>\n",
       "      <td>-1.0</td>\n",
       "      <td>...</td>\n",
       "      <td>213.0</td>\n",
       "      <td>1709</td>\n",
       "      <td>543</td>\n",
       "      <td>553.0</td>\n",
       "      <td>10.0</td>\n",
       "      <td>NaN</td>\n",
       "      <td>NaN</td>\n",
       "      <td>NaN</td>\n",
       "      <td>NaN</td>\n",
       "      <td>NaN</td>\n",
       "    </tr>\n",
       "    <tr>\n",
       "      <th>5725380</th>\n",
       "      <td>12</td>\n",
       "      <td>25</td>\n",
       "      <td>5</td>\n",
       "      <td>AA</td>\n",
       "      <td>2342</td>\n",
       "      <td>DEN</td>\n",
       "      <td>MIA</td>\n",
       "      <td>2359</td>\n",
       "      <td>37.0</td>\n",
       "      <td>38.0</td>\n",
       "      <td>...</td>\n",
       "      <td>206.0</td>\n",
       "      <td>1709</td>\n",
       "      <td>543</td>\n",
       "      <td>722.0</td>\n",
       "      <td>99.0</td>\n",
       "      <td>61.0</td>\n",
       "      <td>0.0</td>\n",
       "      <td>38.0</td>\n",
       "      <td>0.0</td>\n",
       "      <td>0.0</td>\n",
       "    </tr>\n",
       "    <tr>\n",
       "      <th>5740650</th>\n",
       "      <td>12</td>\n",
       "      <td>26</td>\n",
       "      <td>6</td>\n",
       "      <td>AA</td>\n",
       "      <td>2342</td>\n",
       "      <td>DEN</td>\n",
       "      <td>MIA</td>\n",
       "      <td>2359</td>\n",
       "      <td>2358.0</td>\n",
       "      <td>-1.0</td>\n",
       "      <td>...</td>\n",
       "      <td>212.0</td>\n",
       "      <td>1709</td>\n",
       "      <td>543</td>\n",
       "      <td>557.0</td>\n",
       "      <td>14.0</td>\n",
       "      <td>NaN</td>\n",
       "      <td>NaN</td>\n",
       "      <td>NaN</td>\n",
       "      <td>NaN</td>\n",
       "      <td>NaN</td>\n",
       "    </tr>\n",
       "    <tr>\n",
       "      <th>5773472</th>\n",
       "      <td>12</td>\n",
       "      <td>28</td>\n",
       "      <td>1</td>\n",
       "      <td>AA</td>\n",
       "      <td>2342</td>\n",
       "      <td>DEN</td>\n",
       "      <td>MIA</td>\n",
       "      <td>2359</td>\n",
       "      <td>58.0</td>\n",
       "      <td>59.0</td>\n",
       "      <td>...</td>\n",
       "      <td>211.0</td>\n",
       "      <td>1709</td>\n",
       "      <td>543</td>\n",
       "      <td>706.0</td>\n",
       "      <td>83.0</td>\n",
       "      <td>24.0</td>\n",
       "      <td>0.0</td>\n",
       "      <td>30.0</td>\n",
       "      <td>29.0</td>\n",
       "      <td>0.0</td>\n",
       "    </tr>\n",
       "    <tr>\n",
       "      <th>5789671</th>\n",
       "      <td>12</td>\n",
       "      <td>29</td>\n",
       "      <td>2</td>\n",
       "      <td>AA</td>\n",
       "      <td>2342</td>\n",
       "      <td>DEN</td>\n",
       "      <td>MIA</td>\n",
       "      <td>2359</td>\n",
       "      <td>6.0</td>\n",
       "      <td>7.0</td>\n",
       "      <td>...</td>\n",
       "      <td>202.0</td>\n",
       "      <td>1709</td>\n",
       "      <td>543</td>\n",
       "      <td>547.0</td>\n",
       "      <td>4.0</td>\n",
       "      <td>NaN</td>\n",
       "      <td>NaN</td>\n",
       "      <td>NaN</td>\n",
       "      <td>NaN</td>\n",
       "      <td>NaN</td>\n",
       "    </tr>\n",
       "    <tr>\n",
       "      <th>5805931</th>\n",
       "      <td>12</td>\n",
       "      <td>30</td>\n",
       "      <td>3</td>\n",
       "      <td>AA</td>\n",
       "      <td>2342</td>\n",
       "      <td>DEN</td>\n",
       "      <td>MIA</td>\n",
       "      <td>2359</td>\n",
       "      <td>2358.0</td>\n",
       "      <td>-1.0</td>\n",
       "      <td>...</td>\n",
       "      <td>191.0</td>\n",
       "      <td>1709</td>\n",
       "      <td>543</td>\n",
       "      <td>547.0</td>\n",
       "      <td>4.0</td>\n",
       "      <td>NaN</td>\n",
       "      <td>NaN</td>\n",
       "      <td>NaN</td>\n",
       "      <td>NaN</td>\n",
       "      <td>NaN</td>\n",
       "    </tr>\n",
       "    <tr>\n",
       "      <th>5819067</th>\n",
       "      <td>12</td>\n",
       "      <td>31</td>\n",
       "      <td>4</td>\n",
       "      <td>AA</td>\n",
       "      <td>2342</td>\n",
       "      <td>DEN</td>\n",
       "      <td>MIA</td>\n",
       "      <td>2359</td>\n",
       "      <td>2351.0</td>\n",
       "      <td>-8.0</td>\n",
       "      <td>...</td>\n",
       "      <td>190.0</td>\n",
       "      <td>1709</td>\n",
       "      <td>543</td>\n",
       "      <td>525.0</td>\n",
       "      <td>-18.0</td>\n",
       "      <td>NaN</td>\n",
       "      <td>NaN</td>\n",
       "      <td>NaN</td>\n",
       "      <td>NaN</td>\n",
       "      <td>NaN</td>\n",
       "    </tr>\n",
       "  </tbody>\n",
       "</table>\n",
       "<p>176 rows × 22 columns</p>\n",
       "</div>"
      ],
      "text/plain": [
       "         MONTH  DAY  DAY_OF_WEEK AIRLINE  FLIGHT_NUMBER ORIGIN_AIRPORT  \\\n",
       "2453335      6    4            4      AA           2342            DEN   \n",
       "2470602      6    5            5      AA           2342            DEN   \n",
       "2484842      6    6            6      AA           2342            DEN   \n",
       "2501514      6    7            7      AA           2342            DEN   \n",
       "2518830      6    8            1      AA           2342            DEN   \n",
       "2535952      6    9            2      AA           2342            DEN   \n",
       "2553116      6   10            3      AA           2342            DEN   \n",
       "2570503      6   11            4      AA           2342            DEN   \n",
       "2587941      6   12            5      AA           2342            DEN   \n",
       "2602725      6   13            6      AA           2342            DEN   \n",
       "2619414      6   14            7      AA           2342            DEN   \n",
       "2636789      6   15            1      AA           2342            DEN   \n",
       "2653968      6   16            2      AA           2342            DEN   \n",
       "2671205      6   17            3      AA           2342            DEN   \n",
       "2688635      6   18            4      AA           2342            DEN   \n",
       "2706095      6   19            5      AA           2342            DEN   \n",
       "2720906      6   20            6      AA           2342            DEN   \n",
       "2737646      6   21            7      AA           2342            DEN   \n",
       "2755053      6   22            1      AA           2342            DEN   \n",
       "2772262      6   23            2      AA           2342            DEN   \n",
       "2789521      6   24            3      AA           2342            DEN   \n",
       "2806963      6   25            4      AA           2342            DEN   \n",
       "2824435      6   26            5      AA           2342            DEN   \n",
       "2839283      6   27            6      AA           2342            DEN   \n",
       "2855749      6   28            7      AA           2342            DEN   \n",
       "2872847      6   29            1      AA           2342            DEN   \n",
       "2889492      6   30            2      AA           2342            DEN   \n",
       "2906484      7    1            3      AA           2342            DEN   \n",
       "2923921      7    2            4      AA           2342            DEN   \n",
       "2938581      7    3            5      AA           2342            DEN   \n",
       "...        ...  ...          ...     ...            ...            ...   \n",
       "5233549     11   23            1      AA           2342            DEN   \n",
       "5249631     11   24            2      AA           2342            DEN   \n",
       "5289236     11   27            5      AA           2342            DEN   \n",
       "5305292     11   28            6      AA           2342            DEN   \n",
       "5322856     11   29            7      AA           2342            DEN   \n",
       "5339833     11   30            1      AA           2342            DEN   \n",
       "5387798     12    3            4      AA           2342            DEN   \n",
       "5404013     12    4            5      AA           2342            DEN   \n",
       "5416215     12    5            6      AA           2342            DEN   \n",
       "5431314     12    6            7      AA           2342            DEN   \n",
       "5447356     12    7            1      AA           2342            DEN   \n",
       "5495039     12   10            4      AA           2342            DEN   \n",
       "5511301     12   11            5      AA           2342            DEN   \n",
       "5523543     12   12            6      AA           2342            DEN   \n",
       "5538657     12   13            7      AA           2342            DEN   \n",
       "5554713     12   14            1      AA           2342            DEN   \n",
       "5603056     12   17            4      AA           2342            DEN   \n",
       "5619765     12   18            5      AA           2342            DEN   \n",
       "5634491     12   19            6      AA           2342            DEN   \n",
       "5650355     12   20            7      AA           2342            DEN   \n",
       "5666663     12   21            1      AA           2342            DEN   \n",
       "5682925     12   22            2      AA           2342            DEN   \n",
       "5699406     12   23            3      AA           2342            DEN   \n",
       "5712748     12   24            4      AA           2342            DEN   \n",
       "5725380     12   25            5      AA           2342            DEN   \n",
       "5740650     12   26            6      AA           2342            DEN   \n",
       "5773472     12   28            1      AA           2342            DEN   \n",
       "5789671     12   29            2      AA           2342            DEN   \n",
       "5805931     12   30            3      AA           2342            DEN   \n",
       "5819067     12   31            4      AA           2342            DEN   \n",
       "\n",
       "        DESTINATION_AIRPORT  SCHEDULED_DEPARTURE  DEPARTURE_TIME  \\\n",
       "2453335                 MIA                 2359            21.0   \n",
       "2470602                 MIA                 2359            26.0   \n",
       "2484842                 MIA                 2359          2359.0   \n",
       "2501514                 MIA                 2359          2359.0   \n",
       "2518830                 MIA                 2359             1.0   \n",
       "2535952                 MIA                 2359             6.0   \n",
       "2553116                 MIA                 2359          2356.0   \n",
       "2570503                 MIA                 2359            45.0   \n",
       "2587941                 MIA                 2359          2358.0   \n",
       "2602725                 MIA                 2359          2356.0   \n",
       "2619414                 MIA                 2359          2358.0   \n",
       "2636789                 MIA                 2359             2.0   \n",
       "2653968                 MIA                 2359            58.0   \n",
       "2671205                 MIA                 2359           806.0   \n",
       "2688635                 MIA                 2359          2357.0   \n",
       "2706095                 MIA                 2359          2351.0   \n",
       "2720906                 MIA                 2359          2359.0   \n",
       "2737646                 MIA                 2359          2354.0   \n",
       "2755053                 MIA                 2359          2353.0   \n",
       "2772262                 MIA                 2359          2400.0   \n",
       "2789521                 MIA                 2359          2353.0   \n",
       "2806963                 MIA                 2359          2358.0   \n",
       "2824435                 MIA                 2359            17.0   \n",
       "2839283                 MIA                 2359          2352.0   \n",
       "2855749                 MIA                 2359          2356.0   \n",
       "2872847                 MIA                 2359          2356.0   \n",
       "2889492                 MIA                 2359           117.0   \n",
       "2906484                 MIA                 2359             1.0   \n",
       "2923921                 MIA                 2359          2355.0   \n",
       "2938581                 MIA                 2359          2350.0   \n",
       "...                     ...                  ...             ...   \n",
       "5233549                 MIA                 2359          2350.0   \n",
       "5249631                 MIA                 2359             3.0   \n",
       "5289236                 MIA                 2359          2347.0   \n",
       "5305292                 MIA                 2359          2356.0   \n",
       "5322856                 MIA                 2359          2358.0   \n",
       "5339833                 MIA                 2359             9.0   \n",
       "5387798                 MIA                 2359            26.0   \n",
       "5404013                 MIA                 2359            15.0   \n",
       "5416215                 MIA                 2359            17.0   \n",
       "5431314                 MIA                 2359          2358.0   \n",
       "5447356                 MIA                 2359          2354.0   \n",
       "5495039                 MIA                 2359          2358.0   \n",
       "5511301                 MIA                 2359          2353.0   \n",
       "5523543                 MIA                 2359          2355.0   \n",
       "5538657                 MIA                 2359          2358.0   \n",
       "5554713                 MIA                 2359             8.0   \n",
       "5603056                 MIA                 2359          2358.0   \n",
       "5619765                 MIA                 2359           150.0   \n",
       "5634491                 MIA                 2359            23.0   \n",
       "5650355                 MIA                 2359          2359.0   \n",
       "5666663                 MIA                 2359            14.0   \n",
       "5682925                 MIA                 2359          2400.0   \n",
       "5699406                 MIA                 2359            23.0   \n",
       "5712748                 MIA                 2359          2358.0   \n",
       "5725380                 MIA                 2359            37.0   \n",
       "5740650                 MIA                 2359          2358.0   \n",
       "5773472                 MIA                 2359            58.0   \n",
       "5789671                 MIA                 2359             6.0   \n",
       "5805931                 MIA                 2359          2358.0   \n",
       "5819067                 MIA                 2359          2351.0   \n",
       "\n",
       "         DEPARTURE_DELAY      ...        AIR_TIME  DISTANCE  \\\n",
       "2453335             22.0      ...           201.0      1709   \n",
       "2470602             27.0      ...           201.0      1709   \n",
       "2484842              0.0      ...           201.0      1709   \n",
       "2501514              0.0      ...           199.0      1709   \n",
       "2518830              2.0      ...           195.0      1709   \n",
       "2535952              7.0      ...           202.0      1709   \n",
       "2553116             -3.0      ...           211.0      1709   \n",
       "2570503             46.0      ...           220.0      1709   \n",
       "2587941             -1.0      ...           213.0      1709   \n",
       "2602725             -3.0      ...           199.0      1709   \n",
       "2619414             -1.0      ...           202.0      1709   \n",
       "2636789              3.0      ...           204.0      1709   \n",
       "2653968             59.0      ...           210.0      1709   \n",
       "2671205            487.0      ...           208.0      1709   \n",
       "2688635             -2.0      ...           209.0      1709   \n",
       "2706095             -8.0      ...           202.0      1709   \n",
       "2720906              0.0      ...           201.0      1709   \n",
       "2737646             -5.0      ...           203.0      1709   \n",
       "2755053             -6.0      ...           204.0      1709   \n",
       "2772262              1.0      ...           212.0      1709   \n",
       "2789521             -6.0      ...           210.0      1709   \n",
       "2806963             -1.0      ...           223.0      1709   \n",
       "2824435             18.0      ...           202.0      1709   \n",
       "2839283             -7.0      ...           207.0      1709   \n",
       "2855749             -3.0      ...           198.0      1709   \n",
       "2872847             -3.0      ...           203.0      1709   \n",
       "2889492             78.0      ...           199.0      1709   \n",
       "2906484              2.0      ...           197.0      1709   \n",
       "2923921             -4.0      ...           199.0      1709   \n",
       "2938581             -9.0      ...           204.0      1709   \n",
       "...                  ...      ...             ...       ...   \n",
       "5233549             -9.0      ...           186.0      1709   \n",
       "5249631              4.0      ...           189.0      1709   \n",
       "5289236            -12.0      ...           194.0      1709   \n",
       "5305292             -3.0      ...           189.0      1709   \n",
       "5322856             -1.0      ...           191.0      1709   \n",
       "5339833             10.0      ...           191.0      1709   \n",
       "5387798             27.0      ...           196.0      1709   \n",
       "5404013             16.0      ...           196.0      1709   \n",
       "5416215             18.0      ...           200.0      1709   \n",
       "5431314             -1.0      ...           198.0      1709   \n",
       "5447356             -5.0      ...           208.0      1709   \n",
       "5495039             -1.0      ...           187.0      1709   \n",
       "5511301             -6.0      ...           196.0      1709   \n",
       "5523543             -4.0      ...           210.0      1709   \n",
       "5538657             -1.0      ...           207.0      1709   \n",
       "5554713              9.0      ...           201.0      1709   \n",
       "5603056             -1.0      ...           190.0      1709   \n",
       "5619765            111.0      ...           189.0      1709   \n",
       "5634491             24.0      ...           189.0      1709   \n",
       "5650355              0.0      ...           198.0      1709   \n",
       "5666663             15.0      ...           205.0      1709   \n",
       "5682925              1.0      ...           207.0      1709   \n",
       "5699406             24.0      ...           195.0      1709   \n",
       "5712748             -1.0      ...           213.0      1709   \n",
       "5725380             38.0      ...           206.0      1709   \n",
       "5740650             -1.0      ...           212.0      1709   \n",
       "5773472             59.0      ...           211.0      1709   \n",
       "5789671              7.0      ...           202.0      1709   \n",
       "5805931             -1.0      ...           191.0      1709   \n",
       "5819067             -8.0      ...           190.0      1709   \n",
       "\n",
       "         SCHEDULED_ARRIVAL  ARRIVAL_TIME  ARRIVAL_DELAY  AIR_SYSTEM_DELAY  \\\n",
       "2453335                550         558.0            8.0               NaN   \n",
       "2470602                550         614.0           24.0               0.0   \n",
       "2484842                550         537.0          -13.0               NaN   \n",
       "2501514                550         539.0          -11.0               NaN   \n",
       "2518830                550         532.0          -18.0               NaN   \n",
       "2535952                550         546.0           -4.0               NaN   \n",
       "2553116                550         549.0           -1.0               NaN   \n",
       "2570503                550         645.0           55.0               9.0   \n",
       "2587941                550         547.0           -3.0               NaN   \n",
       "2602725                550         529.0          -21.0               NaN   \n",
       "2619414                550         543.0           -7.0               NaN   \n",
       "2636789                550         544.0           -6.0               NaN   \n",
       "2653968                550         647.0           57.0               0.0   \n",
       "2671205                550        1352.0          482.0               0.0   \n",
       "2688635                550         552.0            2.0               NaN   \n",
       "2706095                550         529.0          -21.0               NaN   \n",
       "2720906                550         540.0          -10.0               NaN   \n",
       "2737646                550         542.0           -8.0               NaN   \n",
       "2755053                550         531.0          -19.0               NaN   \n",
       "2772262                550         600.0           10.0               NaN   \n",
       "2789521                550         544.0           -6.0               NaN   \n",
       "2806963                550         608.0           18.0              18.0   \n",
       "2824435                550         559.0            9.0               NaN   \n",
       "2839283                550         540.0          -10.0               NaN   \n",
       "2855749                550         535.0          -15.0               NaN   \n",
       "2872847                550         538.0          -12.0               NaN   \n",
       "2889492                550         657.0           67.0               0.0   \n",
       "2906484                550         534.0          -16.0               NaN   \n",
       "2923921                550         537.0          -13.0               NaN   \n",
       "2938581                550         539.0          -11.0               NaN   \n",
       "...                    ...           ...            ...               ...   \n",
       "5233549                543         516.0          -27.0               NaN   \n",
       "5249631                543         534.0           -9.0               NaN   \n",
       "5289236                543         558.0           15.0              15.0   \n",
       "5305292                543         521.0          -22.0               NaN   \n",
       "5322856                543         602.0           19.0              19.0   \n",
       "5339833                543         543.0            0.0               NaN   \n",
       "5387798                543         602.0           19.0               0.0   \n",
       "5404013                543         548.0            5.0               NaN   \n",
       "5416215                543         557.0           14.0               NaN   \n",
       "5431314                543         547.0            4.0               NaN   \n",
       "5447356                543         546.0            3.0               NaN   \n",
       "5495039                543         528.0          -15.0               NaN   \n",
       "5511301                543         532.0          -11.0               NaN   \n",
       "5523543                543         556.0           13.0               NaN   \n",
       "5538657                543         551.0            8.0               NaN   \n",
       "5554713                543         547.0            4.0               NaN   \n",
       "5603056                543         528.0          -15.0               NaN   \n",
       "5619765                543         722.0           99.0               0.0   \n",
       "5634491                543         550.0            7.0               NaN   \n",
       "5650355                543         542.0           -1.0               NaN   \n",
       "5666663                543         611.0           28.0              13.0   \n",
       "5682925                543         625.0           42.0              42.0   \n",
       "5699406                543         601.0           18.0               0.0   \n",
       "5712748                543         553.0           10.0               NaN   \n",
       "5725380                543         722.0           99.0              61.0   \n",
       "5740650                543         557.0           14.0               NaN   \n",
       "5773472                543         706.0           83.0              24.0   \n",
       "5789671                543         547.0            4.0               NaN   \n",
       "5805931                543         547.0            4.0               NaN   \n",
       "5819067                543         525.0          -18.0               NaN   \n",
       "\n",
       "         SECURITY_DELAY  AIRLINE_DELAY  LATE_AIRCRAFT_DELAY  WEATHER_DELAY  \n",
       "2453335             NaN            NaN                  NaN            NaN  \n",
       "2470602             0.0            4.0                 20.0            0.0  \n",
       "2484842             NaN            NaN                  NaN            NaN  \n",
       "2501514             NaN            NaN                  NaN            NaN  \n",
       "2518830             NaN            NaN                  NaN            NaN  \n",
       "2535952             NaN            NaN                  NaN            NaN  \n",
       "2553116             NaN            NaN                  NaN            NaN  \n",
       "2570503             0.0           46.0                  0.0            0.0  \n",
       "2587941             NaN            NaN                  NaN            NaN  \n",
       "2602725             NaN            NaN                  NaN            NaN  \n",
       "2619414             NaN            NaN                  NaN            NaN  \n",
       "2636789             NaN            NaN                  NaN            NaN  \n",
       "2653968             0.0           12.0                 45.0            0.0  \n",
       "2671205             0.0          482.0                  0.0            0.0  \n",
       "2688635             NaN            NaN                  NaN            NaN  \n",
       "2706095             NaN            NaN                  NaN            NaN  \n",
       "2720906             NaN            NaN                  NaN            NaN  \n",
       "2737646             NaN            NaN                  NaN            NaN  \n",
       "2755053             NaN            NaN                  NaN            NaN  \n",
       "2772262             NaN            NaN                  NaN            NaN  \n",
       "2789521             NaN            NaN                  NaN            NaN  \n",
       "2806963             0.0            0.0                  0.0            0.0  \n",
       "2824435             NaN            NaN                  NaN            NaN  \n",
       "2839283             NaN            NaN                  NaN            NaN  \n",
       "2855749             NaN            NaN                  NaN            NaN  \n",
       "2872847             NaN            NaN                  NaN            NaN  \n",
       "2889492             0.0           67.0                  0.0            0.0  \n",
       "2906484             NaN            NaN                  NaN            NaN  \n",
       "2923921             NaN            NaN                  NaN            NaN  \n",
       "2938581             NaN            NaN                  NaN            NaN  \n",
       "...                 ...            ...                  ...            ...  \n",
       "5233549             NaN            NaN                  NaN            NaN  \n",
       "5249631             NaN            NaN                  NaN            NaN  \n",
       "5289236             0.0            0.0                  0.0            0.0  \n",
       "5305292             NaN            NaN                  NaN            NaN  \n",
       "5322856             0.0            0.0                  0.0            0.0  \n",
       "5339833             NaN            NaN                  NaN            NaN  \n",
       "5387798             0.0           19.0                  0.0            0.0  \n",
       "5404013             NaN            NaN                  NaN            NaN  \n",
       "5416215             NaN            NaN                  NaN            NaN  \n",
       "5431314             NaN            NaN                  NaN            NaN  \n",
       "5447356             NaN            NaN                  NaN            NaN  \n",
       "5495039             NaN            NaN                  NaN            NaN  \n",
       "5511301             NaN            NaN                  NaN            NaN  \n",
       "5523543             NaN            NaN                  NaN            NaN  \n",
       "5538657             NaN            NaN                  NaN            NaN  \n",
       "5554713             NaN            NaN                  NaN            NaN  \n",
       "5603056             NaN            NaN                  NaN            NaN  \n",
       "5619765             0.0           99.0                  0.0            0.0  \n",
       "5634491             NaN            NaN                  NaN            NaN  \n",
       "5650355             NaN            NaN                  NaN            NaN  \n",
       "5666663             0.0           15.0                  0.0            0.0  \n",
       "5682925             0.0            0.0                  0.0            0.0  \n",
       "5699406             0.0            8.0                 10.0            0.0  \n",
       "5712748             NaN            NaN                  NaN            NaN  \n",
       "5725380             0.0           38.0                  0.0            0.0  \n",
       "5740650             NaN            NaN                  NaN            NaN  \n",
       "5773472             0.0           30.0                 29.0            0.0  \n",
       "5789671             NaN            NaN                  NaN            NaN  \n",
       "5805931             NaN            NaN                  NaN            NaN  \n",
       "5819067             NaN            NaN                  NaN            NaN  \n",
       "\n",
       "[176 rows x 22 columns]"
      ]
     },
     "execution_count": 21,
     "metadata": {},
     "output_type": "execute_result"
    }
   ],
   "source": [
    "flights[(flights.FLIGHT_NUMBER == 2342) & (flights.SCHEDULED_DEPARTURE == 2359)]"
   ]
  },
  {
   "cell_type": "markdown",
   "metadata": {
    "nbpresent": {
     "id": "882fe211-1509-42fa-9aad-637812f9c56b"
    }
   },
   "source": [
    "We can see that this combination (`FLIGHT_NUMBER`, `SCHEDULED_DEPARTURE`) corresponds to a unique flight by American Airlines that goes from Denver International Airport to Miami International Airport on a daily basis, from June 4th onwards. It is therefore reasonable to say that for this particular query, the two unknown airports in October will be respectively DEN and MIA.\n",
    "\n",
    "Therefore, once we have identified such a flight, we can replace the unknown codes by the airports that we found, and try again for a different unknown code."
   ]
  },
  {
   "cell_type": "code",
   "execution_count": 22,
   "metadata": {
    "nbpresent": {
     "id": "7021c4e6-8001-420a-bbd0-ab31d2717bb7"
    }
   },
   "outputs": [
    {
     "name": "stdout",
     "output_type": "stream",
     "text": [
      "Number of origin airports: 306\n",
      "Number of destination airports: 307\n"
     ]
    }
   ],
   "source": [
    "# First step: get the list of all unique airport values for October\n",
    "\n",
    "origin = flights.query(\"MONTH == 10\").ORIGIN_AIRPORT.unique()\n",
    "dest = flights.query(\"MONTH == 10\").DESTINATION_AIRPORT.unique()\n",
    "\n",
    "print(\"Number of origin airports:\", len(origin))\n",
    "print(\"Number of destination airports:\", len(dest))\n"
   ]
  },
  {
   "cell_type": "markdown",
   "metadata": {
    "nbpresent": {
     "id": "440ab9d5-527c-4598-9a56-162a35f4bf7e"
    }
   },
   "source": [
    "For October, there are 306 different airports in the `ORIGIN_AIRPORT` column, and 307 airports in the `DESTINATION_AIRPORT` column."
   ]
  },
  {
   "cell_type": "code",
   "execution_count": 23,
   "metadata": {
    "collapsed": true,
    "nbpresent": {
     "id": "a492e978-e12f-4b9b-92ff-ad6df186c3cc"
    }
   },
   "outputs": [],
   "source": [
    "airport_dict = dict(zip(list(dest),[np.NaN] * len(dest)))"
   ]
  },
  {
   "cell_type": "markdown",
   "metadata": {
    "nbpresent": {
     "id": "18b9cfd7-c9a3-4be7-881f-7c9350927ad9"
    }
   },
   "source": [
    "We are going to run the same algorithm twice in order to fill the airport dictionary:\n",
    "- The first time will be over the `DESTINATION_AIRPORT` column,\n",
    "- The second time will be over the `ORIGIN_AIRPORT` column in order to try to find more information about the data that is still missing.\n",
    "\n",
    "Please note that the following code may take a while to run (> 2 minutes, depending on the computer)."
   ]
  },
  {
   "cell_type": "code",
   "execution_count": 24,
   "metadata": {
    "collapsed": true,
    "nbpresent": {
     "id": "7e0a2ed5-652c-4a0a-80ae-b21188ad9b9c"
    }
   },
   "outputs": [],
   "source": [
    "def airport_finder(column_name, airport_dict = airport_dict):\n",
    "    \n",
    "    start_time = time.time()\n",
    "    \n",
    "    for key in airport_dict: # Iterates over all airport names (format: 5 digits)\n",
    "        if not airport_dict[key] is np.NaN: # Check that we do not know the corresponding IATA_CODE yet\n",
    "            continue\n",
    "        \n",
    "        else:\n",
    "            index_list = np.array(flights[column_name][flights[column_name] == key].index)\n",
    "            # find the index of all rows for which the destination airport is the airport searched\n",
    "    \n",
    "            for key_index in index_list:\n",
    "        \n",
    "                query = flights[(flights.SCHEDULED_DEPARTURE == flights.SCHEDULED_DEPARTURE[key_index])\\\n",
    "                               & (flights.FLIGHT_NUMBER == flights.FLIGHT_NUMBER[key_index])\\\n",
    "                               & (flights.MONTH != 10)]\n",
    "                # Filter the database with the same scheduled departure and same flight number as the row found\n",
    "                # We remove from the query flights that took off in October, to get cleaner results \n",
    "        \n",
    "                if len(query[column_name].unique()) != 1: #  This here in order to avoid confusion: if more\n",
    "                    continue                             # than one airport is identified here, then we have\n",
    "                                                         # not identified our unknown code with 100% certainty.\n",
    "            \n",
    "                else:\n",
    "                    airport_dict[key] = query[column_name].unique()[0]\n",
    "                    break\n",
    "\n",
    "airport_finder(\"DESTINATION_AIRPORT\")\n",
    "airport_finder(\"ORIGIN_AIRPORT\")"
   ]
  },
  {
   "cell_type": "code",
   "execution_count": 25,
   "metadata": {
    "nbpresent": {
     "id": "5cefc101-2dda-41c9-8632-f8a3797721ac"
    }
   },
   "outputs": [
    {
     "name": "stdout",
     "output_type": "stream",
     "text": [
      "Airports missing: 2\n"
     ]
    }
   ],
   "source": [
    "print('Airports missing:', list(airport_dict.values()).count(np.NaN))"
   ]
  },
  {
   "cell_type": "markdown",
   "metadata": {
    "nbpresent": {
     "id": "76dcbd04-592d-428b-9a7e-5c1c557eeea5"
    }
   },
   "source": [
    "There are now only two airports missing (down from 307).\n",
    "\n",
    "Now that we finally have this dictionary, we replace the values in the database."
   ]
  },
  {
   "cell_type": "code",
   "execution_count": 26,
   "metadata": {
    "collapsed": true,
    "nbpresent": {
     "id": "e2bc7b6c-f52f-420f-aab8-6009efd538ef"
    }
   },
   "outputs": [],
   "source": [
    "# This replaces all keys in the dictionary by the corresponding values\n",
    "# for the columns 'DESTINATION_AIRPORT' and 'ORIGIN_AIRPORT'\n",
    "\n",
    "flights[flights.MONTH == 10] = flights[flights.MONTH == 10].replace(\n",
    "    {'DESTINATION_AIRPORT':airport_dict, 'ORIGIN_AIRPORT':airport_dict})"
   ]
  },
  {
   "cell_type": "code",
   "execution_count": 27,
   "metadata": {
    "nbpresent": {
     "id": "dd3c2e52-3596-43d3-97a2-52210f7d2070"
    }
   },
   "outputs": [
    {
     "name": "stdout",
     "output_type": "stream",
     "text": [
      "Flights with origin airport missing: 62\n",
      "Flights with destination airport missing: 62\n"
     ]
    }
   ],
   "source": [
    "print('Flights with origin airport missing:', len(flights[pd.isnull(flights.ORIGIN_AIRPORT)]))\n",
    "print('Flights with destination airport missing:', len(flights[pd.isnull(flights.DESTINATION_AIRPORT)]))"
   ]
  },
  {
   "cell_type": "markdown",
   "metadata": {
    "nbpresent": {
     "id": "893afa73-2d25-4f01-a695-34ecad0ad171"
    }
   },
   "source": [
    "There are now slightly more than a hundred flights with an unknown airport, which is a huge improvement compared to the initial situation."
   ]
  },
  {
   "cell_type": "markdown",
   "metadata": {
    "nbpresent": {
     "id": "c0759959-709f-45a4-b7eb-232f7d723fb3"
    }
   },
   "source": [
    "### 2.2.3. Filter the number of airports"
   ]
  },
  {
   "cell_type": "code",
   "execution_count": 28,
   "metadata": {
    "nbpresent": {
     "id": "641eb748-27ec-42f3-b948-390efd79ec8b"
    }
   },
   "outputs": [
    {
     "name": "stdout",
     "output_type": "stream",
     "text": [
      "Number of departure airports: 323\n",
      "Number of destination airports: 323\n"
     ]
    }
   ],
   "source": [
    "print('Number of departure airports:', len(flights.ORIGIN_AIRPORT.unique()))\n",
    "print('Number of destination airports:', len(flights.DESTINATION_AIRPORT.unique()))"
   ]
  },
  {
   "cell_type": "markdown",
   "metadata": {
    "nbpresent": {
     "id": "f53e18d4-a5c5-4e74-9147-81aade6bb578"
    }
   },
   "source": [
    "We notice that there are more than 300 airports in our dataset, some with a fairly low amount of flights. Since `ORIGIN_AIRPORT` is a categorical variables, we would like to reduce the number of airports taken into account into our analysis.\n",
    "\n",
    "Indeed, we suspect that the origin airport will play a strong role when trying to predict the delay, and we would like to remove from our analysis the airports with a low amount of flights (because the information they provide may not be very accurate).\n",
    "\n",
    "Therefore, we are going to remove the airports with the lowest number of flights, in order to make the analysis a bit more simple, while still retaining at least 95% of the original dataset.\n",
    "\n",
    "To achieve this, we are going to sort the airports by number of flights, then calculate the cumulative sum based on that ranking. Then, we define a threshold, such that every airport whose cumulative sum is above the threshold will be scraped."
   ]
  },
  {
   "cell_type": "code",
   "execution_count": 29,
   "metadata": {
    "nbpresent": {
     "id": "c3323987-f7bc-4daa-992a-de5bb25cd95d"
    }
   },
   "outputs": [
    {
     "data": {
      "text/html": [
       "<div>\n",
       "<style>\n",
       "    .dataframe thead tr:only-child th {\n",
       "        text-align: right;\n",
       "    }\n",
       "\n",
       "    .dataframe thead th {\n",
       "        text-align: left;\n",
       "    }\n",
       "\n",
       "    .dataframe tbody tr th {\n",
       "        vertical-align: top;\n",
       "    }\n",
       "</style>\n",
       "<table border=\"1\" class=\"dataframe\">\n",
       "  <thead>\n",
       "    <tr style=\"text-align: right;\">\n",
       "      <th></th>\n",
       "      <th>FLIGHT_COUNT</th>\n",
       "      <th>FLIGHT_COUNT_CUMSUM</th>\n",
       "    </tr>\n",
       "    <tr>\n",
       "      <th>ORIGIN_AIRPORT</th>\n",
       "      <th></th>\n",
       "      <th></th>\n",
       "    </tr>\n",
       "  </thead>\n",
       "  <tbody>\n",
       "    <tr>\n",
       "      <th>ATL</th>\n",
       "      <td>376015</td>\n",
       "      <td>376015</td>\n",
       "    </tr>\n",
       "    <tr>\n",
       "      <th>ORD</th>\n",
       "      <td>304232</td>\n",
       "      <td>680247</td>\n",
       "    </tr>\n",
       "    <tr>\n",
       "      <th>DFW</th>\n",
       "      <td>253233</td>\n",
       "      <td>933480</td>\n",
       "    </tr>\n",
       "    <tr>\n",
       "      <th>DEN</th>\n",
       "      <td>211479</td>\n",
       "      <td>1144959</td>\n",
       "    </tr>\n",
       "    <tr>\n",
       "      <th>LAX</th>\n",
       "      <td>209631</td>\n",
       "      <td>1354590</td>\n",
       "    </tr>\n",
       "    <tr>\n",
       "      <th>SFO</th>\n",
       "      <td>159585</td>\n",
       "      <td>1514175</td>\n",
       "    </tr>\n",
       "    <tr>\n",
       "      <th>PHX</th>\n",
       "      <td>158436</td>\n",
       "      <td>1672611</td>\n",
       "    </tr>\n",
       "    <tr>\n",
       "      <th>IAH</th>\n",
       "      <td>157110</td>\n",
       "      <td>1829721</td>\n",
       "    </tr>\n",
       "    <tr>\n",
       "      <th>LAS</th>\n",
       "      <td>144586</td>\n",
       "      <td>1974307</td>\n",
       "    </tr>\n",
       "    <tr>\n",
       "      <th>MSP</th>\n",
       "      <td>121607</td>\n",
       "      <td>2095914</td>\n",
       "    </tr>\n",
       "  </tbody>\n",
       "</table>\n",
       "</div>"
      ],
      "text/plain": [
       "                FLIGHT_COUNT  FLIGHT_COUNT_CUMSUM\n",
       "ORIGIN_AIRPORT                                   \n",
       "ATL                   376015               376015\n",
       "ORD                   304232               680247\n",
       "DFW                   253233               933480\n",
       "DEN                   211479              1144959\n",
       "LAX                   209631              1354590\n",
       "SFO                   159585              1514175\n",
       "PHX                   158436              1672611\n",
       "IAH                   157110              1829721\n",
       "LAS                   144586              1974307\n",
       "MSP                   121607              2095914"
      ]
     },
     "execution_count": 29,
     "metadata": {},
     "output_type": "execute_result"
    }
   ],
   "source": [
    "flights = flights.dropna(axis = 0, subset = ('ORIGIN_AIRPORT', 'DESTINATION_AIRPORT'), how = 'any') # Remove the missing\n",
    "# values for origin and destination airports\n",
    "\n",
    "airport_count = flights.groupby(\"ORIGIN_AIRPORT\").agg({\"ORIGIN_AIRPORT\": \"count\"})\n",
    "\n",
    "airport_count.columns = ['FLIGHT_COUNT']\n",
    "\n",
    "airport_count = airport_count.sort_values('FLIGHT_COUNT', ascending = False) # Sort by descending values\n",
    "\n",
    "airport_count[\"FLIGHT_COUNT_CUMSUM\"] = np.cumsum(airport_count.FLIGHT_COUNT) # Create a new column with the cumulative sum\n",
    "# of flights\n",
    "\n",
    "airport_count[:10]"
   ]
  },
  {
   "cell_type": "code",
   "execution_count": 30,
   "metadata": {
    "collapsed": true,
    "nbpresent": {
     "id": "e843f68c-b018-46aa-a7c6-d7320f31c92f"
    }
   },
   "outputs": [],
   "source": [
    "# Here, we define a threshold for the cumulative sum, and we determine the first airport\n",
    "# that crosses the threshold. The aim is to keep at least 95% of the flights\n",
    "\n",
    "thresh = 0.95 * airport_count.FLIGHT_COUNT_CUMSUM[-1]\n",
    "\n",
    "min_airport = [airport for airport in airport_count.index if airport_count.loc[airport].FLIGHT_COUNT_CUMSUM > thresh][0]"
   ]
  },
  {
   "cell_type": "code",
   "execution_count": 31,
   "metadata": {
    "nbpresent": {
     "id": "66157c04-f8ae-42d6-9eba-d52638574e16"
    }
   },
   "outputs": [
    {
     "data": {
      "text/plain": [
       "Text(0.5,1,'Cumulative number of flights that left from every American airport in 2015')"
      ]
     },
     "execution_count": 31,
     "metadata": {},
     "output_type": "execute_result"
    },
    {
     "data": {
      "image/png": "[encoded data removed]",
      "text/plain": [
       "<matplotlib.figure.Figure at 0x180011cef28>"
      ]
     },
     "metadata": {},
     "output_type": "display_data"
    }
   ],
   "source": [
    "# Now, let us project all of this on a graph\n",
    "\n",
    "fig, ax = plt.subplots(figsize = (15, 8))\n",
    "\n",
    "x = range(0, len(airport_count))\n",
    "plt.xticks(x,[airport if list(airport_count.index).index(airport) % 20 == 0 else \"\" for airport in airport_count.index])\n",
    "# This line in order to have a legible x axis with the names of the airports\n",
    "\n",
    "ax.scatter(x = x,\n",
    "           y = airport_count.FLIGHT_COUNT_CUMSUM,\n",
    "          s = 3)\n",
    "\n",
    "ax.axhline(y = thresh,\n",
    "           color = 'red',\n",
    "           alpha = 0.4,\n",
    "          linestyle = 'dashed')\n",
    "\n",
    "ax.axvline(x = list(airport_count.index).index(min_airport),\n",
    "           color = 'red',\n",
    "           alpha = 0.4,\n",
    "          linestyle = 'dashed')\n",
    "\n",
    "ax.set_title(\"Cumulative number of flights that left from every American airport in 2015\")"
   ]
  },
  {
   "cell_type": "code",
   "execution_count": 32,
   "metadata": {
    "nbpresent": {
     "id": "868722ee-fc1c-4cce-b4d7-2af6ce9e1799"
    }
   },
   "outputs": [
    {
     "data": {
      "text/plain": [
       "130"
      ]
     },
     "execution_count": 32,
     "metadata": {},
     "output_type": "execute_result"
    }
   ],
   "source": [
    "min_index = list(airport_count.index).index(min_airport)\n",
    "\n",
    "def_airport = list(airport_count.index[min_index:])\n",
    "\n",
    "min_index"
   ]
  },
  {
   "cell_type": "markdown",
   "metadata": {
    "nbpresent": {
     "id": "19ba4f47-9d62-42f9-b312-cd914cc52a8b"
    }
   },
   "source": [
    "We can see that 95% of the flights in the United States have taken place in just 130 airports. As a consequence, we are going to drop the rest of the airports:\n",
    "- So that the model can be a bit more simple,\n",
    "- Because not a lot of flights have taken off of the rest of the airports, which implies that the sample we have for them may not prove to be very representative anyway."
   ]
  },
  {
   "cell_type": "code",
   "execution_count": 33,
   "metadata": {
    "collapsed": true,
    "nbpresent": {
     "id": "563ae7cc-381c-4ca2-a225-9c52098a9593"
    }
   },
   "outputs": [],
   "source": [
    "flights = flights.drop(flights[flights.ORIGIN_AIRPORT.isin(def_airport)].index)\n",
    "flights = flights.drop(flights[flights.DESTINATION_AIRPORT.isin(def_airport)].index)"
   ]
  },
  {
   "cell_type": "markdown",
   "metadata": {
    "nbpresent": {
     "id": "af235e46-59c0-4b03-a55a-f60ada640b93"
    }
   },
   "source": [
    "# 3. Data visualisation"
   ]
  },
  {
   "cell_type": "markdown",
   "metadata": {
    "nbpresent": {
     "id": "c0ba1516-4cc6-4b92-a498-56a96550b968"
    }
   },
   "source": [
    "## 3.1. Distribution of the airplane delays"
   ]
  },
  {
   "cell_type": "code",
   "execution_count": 34,
   "metadata": {
    "nbpresent": {
     "id": "4d31a26c-3b00-421f-b571-5d873ea8a908"
    }
   },
   "outputs": [
    {
     "name": "stdout",
     "output_type": "stream",
     "text": [
      "Minimum delay: -87.0\n",
      "Maximum delay: 1971.0\n"
     ]
    }
   ],
   "source": [
    "print('Minimum delay:', min(flights.ARRIVAL_DELAY))\n",
    "print('Maximum delay:', max(flights.ARRIVAL_DELAY))"
   ]
  },
  {
   "cell_type": "markdown",
   "metadata": {
    "nbpresent": {
     "id": "3d770001-2b2c-4046-8614-bcc5b4f25541"
    }
   },
   "source": [
    "Even though the actual range is $[-87, 1971]$, we choose to only represent the plot on the range $[-50, 200]$ in order to have a more legible graph, since there are very few values outside of this range anyway.\n",
    "\n",
    "**Note:** the red line represents the 15 minute delay, after which a plane is considered to be delayed."
   ]
  },
  {
   "cell_type": "code",
   "execution_count": 35,
   "metadata": {
    "nbpresent": {
     "id": "0f0f42e4-73fe-4b1d-ba28-509b5220b9c6"
    },
    "scrolled": true
   },
   "outputs": [
    {
     "data": {
      "text/plain": [
       "Text(0.5,1,'Airplane delays in the USA in 2015')"
      ]
     },
     "execution_count": 35,
     "metadata": {},
     "output_type": "execute_result"
    },
    {
     "data": {
      "image/png": "[encoded data removed]",
      "text/plain": [
       "<matplotlib.figure.Figure at 0x18003434e10>"
      ]
     },
     "metadata": {},
     "output_type": "display_data"
    }
   ],
   "source": [
    "plt.hist(flights.ARRIVAL_DELAY, bins = 70, range = (-100, 250))\n",
    "\n",
    "plt.axvline(x=15, color = 'red')\n",
    "\n",
    "plt.xlabel('Delay (minutes)')\n",
    "plt.ylabel('Number of occurrences')\n",
    "plt.title('Airplane delays in the USA in 2015')"
   ]
  },
  {
   "cell_type": "markdown",
   "metadata": {
    "nbpresent": {
     "id": "8d942ac9-5d6b-42ad-9070-270efed42782"
    }
   },
   "source": [
    "## 3.2. Relation between `ARRIVAL_DELAY` and six variables\n",
    "The charts below were mainly generated by *plotly* module, and explore the following relations \n",
    "- Relation between Delays and Month of 2015 [`MONTH`]\n",
    "- Relation between Delays and Day of a Week [`DAY_OF_WEEK`]\n",
    "- Relation between Delays and Hours of a Day [`DEPARTURE_HOUR`]\n",
    "- Relation between Delays and Flight Duration [`DURATION`]\n",
    "- Relation between Delays and Origin Airports [`ORIGIN_AIRPORT`]\n",
    "- Relation between Delays and Airline Carriers [`AIRLINE`]       \n",
    "\n",
    "We use the average time of arrival delay and the number of flights with more than 15 minutes arrival delay to refer 'Delays' in the different following figures."
   ]
  },
  {
   "cell_type": "markdown",
   "metadata": {
    "nbpresent": {
     "id": "e194d41a-294b-43f7-a7d5-8c872731048a"
    }
   },
   "source": [
    "### 3.2.1. Relation between `ARRIVAL_DELAY` and `MONTH` (Annual Trends)"
   ]
  },
  {
   "cell_type": "code",
   "execution_count": 36,
   "metadata": {
    "nbpresent": {
     "id": "2863744b-c3d3-4c36-829a-73c47a3f13ca"
    },
    "scrolled": true
   },
   "outputs": [
    {
     "name": "stdout",
     "output_type": "stream",
     "text": [
      "High five! You successfully sent some data to your account on plotly. View your plot in your browser at https://plot.ly/~janeXU/0 or inside your plot.ly account where it is named 'AverageDelayTime'\n"
     ]
    },
    {
     "data": {
      "text/html": [
       "<iframe id=\"igraph\" scrolling=\"no\" style=\"border:none;\" seamless=\"seamless\" src=\"https://plot.ly/~janeXU/0.embed\" height=\"525px\" width=\"100%\"></iframe>"
      ],
      "text/plain": [
       "<plotly.tools.PlotlyDisplay object>"
      ]
     },
     "execution_count": 36,
     "metadata": {},
     "output_type": "execute_result"
    }
   ],
   "source": [
    "# month of 2015\n",
    "depdel = flights.groupby(['MONTH'])['DEPARTURE_DELAY'].mean()\n",
    "arrdel = flights.groupby(['MONTH'])['ARRIVAL_DELAY'].mean()\n",
    "MonthVolumE = flights.groupby(['MONTH'])['FLIGHT_NUMBER'].count()\n",
    "#type(depdel)\n",
    "#depdel.tolist()\n",
    "\n",
    "linedep = go.Scatter(\n",
    "    x=list(range(1,13)),\n",
    "    y= depdel.tolist(),\n",
    "    name = 'Avg Departure Delay (min)',\n",
    "     yaxis='y2'\n",
    ")\n",
    "linearr = go.Scatter(\n",
    "    x=list(range(1,13)),\n",
    "    y= arrdel.tolist(),\n",
    "    name = 'Avg Arrival Delay (min)',\n",
    "     yaxis='y2'\n",
    ")\n",
    "\n",
    "barvol = go.Bar(\n",
    "    x=list(range(1,13)),\n",
    "    y= MonthVolumE.tolist(),\n",
    "    name = 'Flight Volume',\n",
    "\n",
    "     marker=dict(\n",
    "        color='rgb(158,202,225)',\n",
    "        line=dict(\n",
    "            color='rgb(8,48,107)',\n",
    "            width=1.5)\n",
    "    ),\n",
    "    opacity=0.5     \n",
    ")\n",
    "\n",
    "data = go.Data([linedep, linearr, barvol])\n",
    "\n",
    "layout = dict(title = 'Average Delay by Month',\n",
    "              yaxis = dict(zeroline = False),\n",
    "              xaxis = dict(zeroline = False),\n",
    "              yaxis2=dict (title='Average Delay', overlaying='y',side='right')\n",
    "             )\n",
    "\n",
    "\n",
    "fig = go.Figure(data=data, layout=layout)\n",
    "\n",
    "py.iplot(fig,filename='AverageDelayTime')\n"
   ]
  },
  {
   "cell_type": "markdown",
   "metadata": {
    "nbpresent": {
     "id": "f99c703f-74e5-49c4-99d8-17ec18bfc72f"
    }
   },
   "source": [
    "- Annual trends in average flight departure and arrival delays show the increase in flight delay in the summer months which peaks in June and in winter holidays. These trends basically correspond to increases in air traffic. Additionally, the average departure delay is lower than the average arrival delay, implies the speed of flights departing late tends to be increased.\n",
    "- Now, we consider the number of flights with more than 15 minutes arrival delay and the flight volume to create an indicator delay rate (# of delayed flights /flight volume) and it gives the similar pattern. "
   ]
  },
  {
   "cell_type": "code",
   "execution_count": 37,
   "metadata": {
    "nbpresent": {
     "id": "e1bcb4c7-2681-47f3-b90d-b9d5e143f0a6"
    }
   },
   "outputs": [
    {
     "data": {
      "text/html": [
       "<iframe id=\"igraph\" scrolling=\"no\" style=\"border:none;\" seamless=\"seamless\" src=\"https://plot.ly/~janeXU/2.embed\" height=\"525px\" width=\"100%\"></iframe>"
      ],
      "text/plain": [
       "<plotly.tools.PlotlyDisplay object>"
      ]
     },
     "execution_count": 37,
     "metadata": {},
     "output_type": "execute_result"
    }
   ],
   "source": [
    "# Only consider the number of delays with delay break down, that is Arrival delay  >15 min\n",
    "# Delay rate #of delays / total number of flights [per month]\n",
    "MonthVolumE = flights.groupby(['MONTH'])['FLIGHT_NUMBER'].count()\n",
    "numdel = flights.groupby(['MONTH'])['AIR_SYSTEM_DELAY'].count()\n",
    "DelayRate = numdel/MonthVolumE*100\n",
    "linerate = go.Scatter(\n",
    "    x=list(range(1,13)),\n",
    "    y= DelayRate.tolist(),\n",
    "    name = 'Avg Delay Rate (%)'\n",
    ")\n",
    "\n",
    "data = go.Data([linerate])\n",
    "\n",
    "layout = dict(title = 'Delay Rate (%) per Month',\n",
    "              yaxis = dict(zeroline = False),\n",
    "              xaxis = dict(zeroline = False)\n",
    "             )\n",
    "\n",
    "\n",
    "fig = go.Figure(data=data, layout=layout)\n",
    "\n",
    "py.iplot(fig,filename='DelayRate')"
   ]
  },
  {
   "cell_type": "markdown",
   "metadata": {
    "nbpresent": {
     "id": "7f9303d3-2fb4-4be6-ab79-fcfb520165f4"
    }
   },
   "source": [
    "### 3.2.2. Relation between `ARRIVAL_DELAY` and `DAY_OF_WEEK` (Weekly Trends)"
   ]
  },
  {
   "cell_type": "code",
   "execution_count": 38,
   "metadata": {
    "nbpresent": {
     "id": "3a842c62-3e53-4281-9a1b-0a602d3f400d"
    },
    "scrolled": false
   },
   "outputs": [
    {
     "data": {
      "text/html": [
       "<iframe id=\"igraph\" scrolling=\"no\" style=\"border:none;\" seamless=\"seamless\" src=\"https://plot.ly/~janeXU/4.embed\" height=\"525px\" width=\"100%\"></iframe>"
      ],
      "text/plain": [
       "<plotly.tools.PlotlyDisplay object>"
      ]
     },
     "execution_count": 38,
     "metadata": {},
     "output_type": "execute_result"
    }
   ],
   "source": [
    "arrdel = flights.groupby(['DAY_OF_WEEK'])['ARRIVAL_DELAY'].mean()\n",
    "wkvol = flights.groupby(['DAY_OF_WEEK'])['FLIGHT_NUMBER'].count()\n",
    "\n",
    "\n",
    "linearr = go.Scatter(\n",
    "    x=list(range(1,13)),\n",
    "    y= arrdel.tolist(),\n",
    "    name = 'Avg Arrival Delay (min)',\n",
    "     yaxis='y2'\n",
    ")\n",
    "\n",
    "barvol = go.Bar(\n",
    "    x=list(range(1,13)),\n",
    "    y= wkvol.tolist(),\n",
    "    name = 'Flight Volume',\n",
    "    opacity=0.6  \n",
    "    \n",
    ")\n",
    "\n",
    "data = go.Data([linearr, barvol])\n",
    "\n",
    "layout = dict(title = 'Average Delay by Day of a Week',\n",
    "              yaxis = dict(zeroline = False),\n",
    "              xaxis = dict(zeroline = False),\n",
    "              yaxis2=dict (title='Average Delay', overlaying='y',side='right')\n",
    "             )\n",
    "\n",
    "\n",
    "fig = go.Figure(data=data, layout=layout)\n",
    "\n",
    "py.iplot(fig,filename='avgdaydelay')"
   ]
  },
  {
   "cell_type": "markdown",
   "metadata": {
    "nbpresent": {
     "id": "07bf08ac-a0f2-441f-aa54-8fb325a1e357"
    }
   },
   "source": [
    "- The graph of weekly trends in average flight delay shows the plummet on Saturday though a decrease in flight volume appears on that day.The flights are more likely to be delayed right before the weekend and at the end of the weekend."
   ]
  },
  {
   "cell_type": "markdown",
   "metadata": {
    "nbpresent": {
     "id": "f5179ae6-71f8-4785-a9c0-22c44f8fca3e"
    }
   },
   "source": [
    "### 3.2.3. Relation between `ARRIVAL_DELAY` and `DEPARTURE_HOUR` (Daily Trends)"
   ]
  },
  {
   "cell_type": "code",
   "execution_count": 39,
   "metadata": {
    "nbpresent": {
     "id": "995b9bb4-5f09-4480-85b1-7530fa6ab54c"
    }
   },
   "outputs": [
    {
     "data": {
      "text/html": [
       "<iframe id=\"igraph\" scrolling=\"no\" style=\"border:none;\" seamless=\"seamless\" src=\"https://plot.ly/~janeXU/6.embed\" height=\"525px\" width=\"100%\"></iframe>"
      ],
      "text/plain": [
       "<plotly.tools.PlotlyDisplay object>"
      ]
     },
     "execution_count": 39,
     "metadata": {},
     "output_type": "execute_result"
    }
   ],
   "source": [
    "flights['DEPARTURE_HOUR'] = np.floor(flights['SCHEDULED_DEPARTURE'].values/100).astype(int)\n",
    "\n",
    "hourdel = flights.groupby(['DEPARTURE_HOUR'])['ARRIVAL_DELAY'].mean()\n",
    "flightvolume = flights.groupby(['DEPARTURE_HOUR'])['FLIGHT_NUMBER'].count()\n",
    "linehourdel = go.Scatter(\n",
    "    x= list(range(24)),\n",
    "    y= hourdel.tolist(),\n",
    "    name = 'Avg Arrival Delay (min)',\n",
    "     yaxis='y2'\n",
    ")\n",
    "\n",
    "linehourvolume = go.Bar(\n",
    "    x= list(range(24)),\n",
    "    y= flightvolume.tolist(),\n",
    "    name = 'Flight Volume',\n",
    "    opacity = 0.6\n",
    ")\n",
    "\n",
    "\n",
    "data = go.Data([linehourdel,linehourvolume])\n",
    "\n",
    "\n",
    "layout = dict(title = 'Average Delay by Departure Hour of a Day',\n",
    "              yaxis = dict(zeroline = False),\n",
    "              xaxis = dict(zeroline = False),\n",
    "              yaxis2 =dict(title='Average Delay ', overlaying='y',side='right')\n",
    "             )\n",
    "\n",
    "\n",
    "fig = go.Figure(data=data, layout=layout)\n",
    "\n",
    "py.iplot(fig,filename='hourdelay')"
   ]
  },
  {
   "cell_type": "markdown",
   "metadata": {
    "nbpresent": {
     "id": "8a17352c-ce30-44ec-a149-b2093742eab4"
    }
   },
   "source": [
    "- The graph of daily trends in average flight delay shows a  plummet at 5 am and a peak at 20 pm but the flight volume also varies from the early morning / midnight to the normal work time."
   ]
  },
  {
   "cell_type": "markdown",
   "metadata": {
    "nbpresent": {
     "id": "dfbae236-c631-49ab-980e-2aa07b237d5f"
    }
   },
   "source": [
    "### 3.2.4. Relation between `ARRIVAL_DELAY` and `DURATION`"
   ]
  },
  {
   "cell_type": "code",
   "execution_count": 40,
   "metadata": {
    "nbpresent": {
     "id": "490db2d3-b0d2-4b43-9211-9a72525c8aed"
    }
   },
   "outputs": [
    {
     "data": {
      "text/html": [
       "<iframe id=\"igraph\" scrolling=\"no\" style=\"border:none;\" seamless=\"seamless\" src=\"https://plot.ly/~janeXU/8.embed\" height=\"525px\" width=\"100%\"></iframe>"
      ],
      "text/plain": [
       "<plotly.tools.PlotlyDisplay object>"
      ]
     },
     "execution_count": 40,
     "metadata": {},
     "output_type": "execute_result"
    }
   ],
   "source": [
    "# Compute half hour as duration \n",
    "flights['DURATION'] = np.floor(flights['SCHEDULED_TIME'].values/30)\n",
    "#flights_airlines[:10]\n",
    "\n",
    "durdel = flights.groupby(['DURATION'])['AIR_SYSTEM_DELAY'].count()\n",
    "durvolume = flights.groupby(['DURATION'])['FLIGHT_NUMBER'].count()\n",
    "durdelavg = flights.groupby(['DURATION'])['ARRIVAL_DELAY'].mean()\n",
    "dur = list(range(int(max(np.ceil(flights['DURATION'])))))\n",
    "\n",
    "linedurdel = go.Scatter(\n",
    "    x= dur,\n",
    "    y= durdel.tolist(),\n",
    "    name = 'Number of Delays'\n",
    ")\n",
    "\n",
    "linedurvolume = go.Bar(\n",
    "    x= dur,\n",
    "    y= durvolume.tolist(),\n",
    "    name = 'Flight Volume',\n",
    "    opacity = 0.6\n",
    " \n",
    ")\n",
    "\n",
    "linedurdelavg = go.Scatter(\n",
    "    x= dur,\n",
    "    y= durdelavg.tolist(),\n",
    "    name = 'Avg Arrival Delay (min)',\n",
    "     yaxis='y2'\n",
    ")\n",
    "\n",
    "data = go.Data([linedurvolume, linedurdel,linedurdelavg])\n",
    "\n",
    "\n",
    "layout = dict(title = 'Flight Delays by Duration',\n",
    "              yaxis = dict(zeroline = False),\n",
    "              xaxis = dict(zeroline = False),\n",
    "              yaxis2=dict(title='Avg Delay',anchor='x', overlaying='y', side='right')\n",
    "             )\n",
    "\n",
    "\n",
    "fig = go.Figure(data=data, layout=layout)\n",
    "\n",
    "py.iplot(fig,filename='durdelay')"
   ]
  },
  {
   "cell_type": "markdown",
   "metadata": {
    "nbpresent": {
     "id": "c53da744-1dcc-4ace-a33c-f88dad00b000"
    }
   },
   "source": [
    "- The graph shows a decrease in both the average delay and the number of delayed flights with the increase in duration. Since the volume of flights in duration of more than 12 hours is too low, the data in average delay is not persuasive. "
   ]
  },
  {
   "cell_type": "markdown",
   "metadata": {
    "nbpresent": {
     "id": "e953963c-63f8-45f4-8746-5701abb561a0"
    }
   },
   "source": [
    "### 3.2.5. Relation between `ARRIVAL_DELAY` and `ORIGIN_AIRPORT`"
   ]
  },
  {
   "cell_type": "code",
   "execution_count": 41,
   "metadata": {
    "nbpresent": {
     "id": "04ec921f-f7a6-4ec3-b637-ce61ec624729"
    }
   },
   "outputs": [
    {
     "data": {
      "text/html": [
       "<iframe id=\"igraph\" scrolling=\"no\" style=\"border:none;\" seamless=\"seamless\" src=\"https://plot.ly/~janeXU/10.embed\" height=\"525px\" width=\"100%\"></iframe>"
      ],
      "text/plain": [
       "<plotly.tools.PlotlyDisplay object>"
      ]
     },
     "execution_count": 41,
     "metadata": {},
     "output_type": "execute_result"
    }
   ],
   "source": [
    "airportsVolrank = pd.DataFrame({'Volume':flights.groupby(['ORIGIN_AIRPORT'])['FLIGHT_NUMBER'].count()}).reset_index()\n",
    "airportsVolrank.sort_values('Volume', ascending = False, inplace=True)\n",
    "\n",
    "airportsDelrank = pd.DataFrame({'Delay':flights.groupby(['ORIGIN_AIRPORT'])['AIR_SYSTEM_DELAY'].count()}).reset_index()\n",
    "airportsDelrank.sort_values('Delay', ascending = False, inplace=True)\n",
    "\n",
    "airdelminrank = pd.DataFrame({'DelayAvg':flights.groupby(['ORIGIN_AIRPORT'])['ARRIVAL_DELAY'].mean()}).reset_index()\n",
    "airdelminrank.sort_values('DelayAvg', ascending = False, inplace=True)\n",
    "\n",
    "airportsVolrank = pd.merge(airportsVolrank,airportsDelrank,left_on='ORIGIN_AIRPORT', right_on='ORIGIN_AIRPORT', how='left')\n",
    "airportsVolrank = pd.merge(airportsVolrank,airdelminrank,left_on='ORIGIN_AIRPORT', right_on='ORIGIN_AIRPORT', how='left')\n",
    "airportsVolrank[:20]\n",
    "\n",
    "linevolume = go.Bar(\n",
    "    x= airportsVolrank[:20]['ORIGIN_AIRPORT'].tolist(),\n",
    "    y= airportsVolrank[:20]['Volume'].tolist(),\n",
    "    name = 'Flight Volume',\n",
    "    opacity = 0.6\n",
    ")\n",
    "linedelay = go.Scatter(\n",
    "     x= airportsVolrank[:20]['ORIGIN_AIRPORT'].tolist(),\n",
    "     y= airportsVolrank[:20]['Delay'].tolist(),\n",
    "    name = 'Flight Delay'\n",
    ")\n",
    "\n",
    "lineavg = go.Scatter(\n",
    "     x= airportsVolrank[:20]['ORIGIN_AIRPORT'].tolist(),\n",
    "     y= airportsVolrank[:20]['DelayAvg'].tolist(),\n",
    "    name = 'Avg Delay Time',\n",
    "    yaxis='y3'\n",
    "    \n",
    ")\n",
    "\n",
    "\n",
    "data = go.Data([linevolume, linedelay,lineavg])\n",
    "\n",
    "layout = dict(title = 'Flight Delays across Airports (Top 20 Flight Volume)',\n",
    "              yaxis = dict(zeroline = False),\n",
    "              xaxis = dict(zeroline = False),\n",
    "#               yaxis2=dict(title='Delay Rate (%)', overlaying='y',side='right'),\n",
    "              yaxis3=dict(title='Avg Delay',anchor='x', overlaying='y', side='right')\n",
    "             )\n",
    "\n",
    "\n",
    "fig = go.Figure(data=data, layout=layout)\n",
    "\n",
    "py.iplot(fig,filename='AirportDelay')"
   ]
  },
  {
   "cell_type": "markdown",
   "metadata": {
    "nbpresent": {
     "id": "c6fce9c1-e5e3-4ce4-9699-a2465774362c"
    }
   },
   "source": [
    "### 3.2.6. Relation between `ARRIVAL_DELAY` and `AIRLINE`"
   ]
  },
  {
   "cell_type": "code",
   "execution_count": 42,
   "metadata": {
    "nbpresent": {
     "id": "67786727-f613-4aa9-bd61-14cbadf21ee7"
    },
    "scrolled": false
   },
   "outputs": [
    {
     "data": {
      "text/html": [
       "<iframe id=\"igraph\" scrolling=\"no\" style=\"border:none;\" seamless=\"seamless\" src=\"https://plot.ly/~janeXU/12.embed\" height=\"525px\" width=\"100%\"></iframe>"
      ],
      "text/plain": [
       "<plotly.tools.PlotlyDisplay object>"
      ]
     },
     "execution_count": 42,
     "metadata": {},
     "output_type": "execute_result"
    }
   ],
   "source": [
    "airlineDelrank = pd.DataFrame({'DelayAirline':flights.groupby(['AIRLINE'])['AIR_SYSTEM_DELAY'].count()}).reset_index()\n",
    "airlineDelrank.sort_values('DelayAirline', ascending = False, inplace=True)\n",
    "\n",
    "airlineVolrank = pd.DataFrame({'VolumeAirline':flights.groupby(['AIRLINE'])['FLIGHT_NUMBER'].count()}).reset_index()\n",
    "airlineVolrank.sort_values('VolumeAirline', ascending = False, inplace=True)\n",
    "\n",
    "airdelminrank = pd.DataFrame({'DelayAvg':flights.groupby(['AIRLINE'])['ARRIVAL_DELAY'].mean()}).reset_index()\n",
    "airdelminrank.sort_values('DelayAvg', ascending = False, inplace=True)\n",
    "\n",
    "airlineVolrank = pd.merge(airlineVolrank,airlineDelrank,left_on='AIRLINE', right_on='AIRLINE', how='left')\n",
    "airlineVolrank = pd.merge(airlineVolrank,airdelminrank,left_on='AIRLINE', right_on='AIRLINE', how='left')\n",
    "airlineVolrank = pd.merge(airlineVolrank,airlines.reset_index('IATA_CODE'),left_on='AIRLINE', right_on='IATA_CODE', how='left')\n",
    "airlineVolrank.drop('IATA_CODE', axis=1, inplace=True)\n",
    "airlineVolrank.rename(columns={'AIRLINE_x': 'AIRLINE_CODE','AIRLINE_y': 'AIRLINE'}, inplace=True)\n",
    "\n",
    "\n",
    "airlineVolrank[:20]\n",
    "\n",
    "\n",
    "linevolume = go.Bar(\n",
    "    x= airlineVolrank[:20]['AIRLINE'].tolist(),\n",
    "    y= airlineVolrank[:20]['VolumeAirline'].tolist(),\n",
    "    name = 'Flight Volume',\n",
    "    opacity = 0.6\n",
    ")\n",
    "linedelay = go.Scatter(\n",
    "     x= airlineVolrank[:20]['AIRLINE'].tolist(),\n",
    "     y= airlineVolrank[:20]['DelayAirline'].tolist(),\n",
    "    name = 'Flight Delay'\n",
    ")\n",
    "\n",
    "linerate = go.Scatter(\n",
    "     x= airlineVolrank[:20]['AIRLINE'].tolist(),\n",
    "     y= np.array(airlineVolrank[:20]['DelayAirline'].tolist())/np.array(airlineVolrank[:20]['VolumeAirline'].tolist())*100,\n",
    "    name = 'Delay Rate (%)',\n",
    "    yaxis='y2',\n",
    "    visible = False\n",
    "    \n",
    ")\n",
    "\n",
    "lineavg = go.Scatter(\n",
    "      x= airlineVolrank[:20]['AIRLINE'].tolist(),\n",
    "     y= airportsVolrank[:20]['DelayAvg'].tolist(),\n",
    "    name = 'Avg Delay Time',\n",
    "    yaxis='y3'\n",
    "    \n",
    ")\n",
    "data = go.Data([linevolume, linedelay,lineavg])\n",
    "\n",
    "layout = dict(title = 'Flight Delays across Airline Carriers ',\n",
    "              yaxis = dict(zeroline = False),\n",
    "              xaxis = dict(zeroline = False),\n",
    "              yaxis3=dict(title='Avg Delay',anchor='x', overlaying='y', side='right')\n",
    "             )\n",
    "\n",
    "\n",
    "fig = go.Figure(data=data, layout=layout)\n",
    "\n",
    "py.iplot(fig,filename='AirlineDelay')"
   ]
  },
  {
   "cell_type": "markdown",
   "metadata": {
    "nbpresent": {
     "id": "87149527-ba22-4102-88d0-8788597b7cd8"
    }
   },
   "source": [
    "- We add \"low-cost\" as a dummy variable (1 if low-cost carrier, 0 otherwise).\n",
    "- In the United States, low-cost carriers are Allegiant Air, Frontier Airlines(F9), JetBlue(B6), Southwest Airlines(WN), Spirit Airlines(NK), Sun Country Airlines, Virgin America(VX)(From Wiki). The following table shows that both delay rate and average delay of low-cost airline operators are higher that non low-cost airline operators. "
   ]
  },
  {
   "cell_type": "code",
   "execution_count": 43,
   "metadata": {
    "nbpresent": {
     "id": "a90e45e5-a6ff-4bf6-9338-e6bf3dd6fd8a"
    },
    "scrolled": true
   },
   "outputs": [
    {
     "data": {
      "text/html": [
       "<div>\n",
       "<style>\n",
       "    .dataframe thead tr:only-child th {\n",
       "        text-align: right;\n",
       "    }\n",
       "\n",
       "    .dataframe thead th {\n",
       "        text-align: left;\n",
       "    }\n",
       "\n",
       "    .dataframe tbody tr th {\n",
       "        vertical-align: top;\n",
       "    }\n",
       "</style>\n",
       "<table border=\"1\" class=\"dataframe\">\n",
       "  <thead>\n",
       "    <tr style=\"text-align: right;\">\n",
       "      <th></th>\n",
       "      <th>VolumeAirline</th>\n",
       "      <th>DelayAirline</th>\n",
       "      <th>DelayRate(%)</th>\n",
       "      <th>DelayAvg</th>\n",
       "    </tr>\n",
       "    <tr>\n",
       "      <th>LowCost</th>\n",
       "      <th></th>\n",
       "      <th></th>\n",
       "      <th></th>\n",
       "      <th></th>\n",
       "    </tr>\n",
       "  </thead>\n",
       "  <tbody>\n",
       "    <tr>\n",
       "      <th>0</th>\n",
       "      <td>385140.0</td>\n",
       "      <td>69774.444444</td>\n",
       "      <td>18.070476</td>\n",
       "      <td>4.196768</td>\n",
       "    </tr>\n",
       "    <tr>\n",
       "      <th>1</th>\n",
       "      <td>335912.0</td>\n",
       "      <td>67475.200000</td>\n",
       "      <td>22.758218</td>\n",
       "      <td>8.074007</td>\n",
       "    </tr>\n",
       "  </tbody>\n",
       "</table>\n",
       "</div>"
      ],
      "text/plain": [
       "         VolumeAirline  DelayAirline  DelayRate(%)  DelayAvg\n",
       "LowCost                                                     \n",
       "0             385140.0  69774.444444     18.070476  4.196768\n",
       "1             335912.0  67475.200000     22.758218  8.074007"
      ]
     },
     "execution_count": 43,
     "metadata": {},
     "output_type": "execute_result"
    }
   ],
   "source": [
    "airlineVolrank[\"LowCost\"] = [1,0,0,0,0,0,0,1,0,0,1,1,0,1]\n",
    "airlineVolrank[\"DelayRate(%)\"] = airlineVolrank['DelayAirline']/airlineVolrank['VolumeAirline']*100\n",
    "airlineVolrank.groupby(['LowCost'])['VolumeAirline','DelayAirline','DelayRate(%)','DelayAvg'].mean()"
   ]
  },
  {
   "cell_type": "markdown",
   "metadata": {
    "nbpresent": {
     "id": "f6e581bf-a027-4947-b6da-0a700a17af5f"
    }
   },
   "source": [
    "### Intuitive conclusion \n",
    "From the graphs across multiple timescales, we notice the traffic is related to daily, monthly and annual trends so these time features would be useful to be predictors in our model. And we notice that the average delay is shown to be nonlinear function of these features, one-hot encoding might be useful in our model. Intuitively, it seems that without considering other external factors like weather, booking flight tickets at 5 am of Saturday in October through Alaska or Hawaii instead of Spirit or Frotier, the low-cost airline operators, minimizes the probability of flight delay."
   ]
  },
  {
   "cell_type": "markdown",
   "metadata": {
    "nbpresent": {
     "id": "cf5ceb34-0371-40d6-97eb-5265ba37314d"
    }
   },
   "source": [
    "## 3.3. Relation between predictive variables"
   ]
  },
  {
   "cell_type": "markdown",
   "metadata": {
    "nbpresent": {
     "id": "9e166195-305e-49e7-8d5c-9735ce66e541"
    }
   },
   "source": [
    "### 3.3.1. `AIRLINE` and `ORIGIN_AIRPORT` , not really sure "
   ]
  },
  {
   "cell_type": "code",
   "execution_count": 44,
   "metadata": {
    "nbpresent": {
     "id": "1225c75f-3f6d-4cda-8ad9-c010df251969"
    }
   },
   "outputs": [
    {
     "data": {
      "text/html": [
       "<div>\n",
       "<style>\n",
       "    .dataframe thead tr:only-child th {\n",
       "        text-align: right;\n",
       "    }\n",
       "\n",
       "    .dataframe thead th {\n",
       "        text-align: left;\n",
       "    }\n",
       "\n",
       "    .dataframe tbody tr th {\n",
       "        vertical-align: top;\n",
       "    }\n",
       "</style>\n",
       "<table border=\"1\" class=\"dataframe\">\n",
       "  <thead>\n",
       "    <tr style=\"text-align: right;\">\n",
       "      <th></th>\n",
       "      <th>AIRLINE</th>\n",
       "      <th>ORIGIN_AIRPORT</th>\n",
       "      <th>FlightVol</th>\n",
       "    </tr>\n",
       "  </thead>\n",
       "  <tbody>\n",
       "    <tr>\n",
       "      <th>911</th>\n",
       "      <td>WN</td>\n",
       "      <td>MDW</td>\n",
       "      <td>81447</td>\n",
       "    </tr>\n",
       "    <tr>\n",
       "      <th>903</th>\n",
       "      <td>WN</td>\n",
       "      <td>LAS</td>\n",
       "      <td>74314</td>\n",
       "    </tr>\n",
       "    <tr>\n",
       "      <th>876</th>\n",
       "      <td>WN</td>\n",
       "      <td>BWI</td>\n",
       "      <td>68481</td>\n",
       "    </tr>\n",
       "    <tr>\n",
       "      <th>886</th>\n",
       "      <td>WN</td>\n",
       "      <td>DEN</td>\n",
       "      <td>60388</td>\n",
       "    </tr>\n",
       "    <tr>\n",
       "      <th>925</th>\n",
       "      <td>WN</td>\n",
       "      <td>PHX</td>\n",
       "      <td>58120</td>\n",
       "    </tr>\n",
       "    <tr>\n",
       "      <th>862</th>\n",
       "      <td>VX</td>\n",
       "      <td>SFO</td>\n",
       "      <td>17345</td>\n",
       "    </tr>\n",
       "    <tr>\n",
       "      <th>853</th>\n",
       "      <td>VX</td>\n",
       "      <td>LAX</td>\n",
       "      <td>12850</td>\n",
       "    </tr>\n",
       "    <tr>\n",
       "      <th>845</th>\n",
       "      <td>VX</td>\n",
       "      <td>DAL</td>\n",
       "      <td>5497</td>\n",
       "    </tr>\n",
       "    <tr>\n",
       "      <th>852</th>\n",
       "      <td>VX</td>\n",
       "      <td>LAS</td>\n",
       "      <td>4097</td>\n",
       "    </tr>\n",
       "    <tr>\n",
       "      <th>851</th>\n",
       "      <td>VX</td>\n",
       "      <td>JFK</td>\n",
       "      <td>3935</td>\n",
       "    </tr>\n",
       "    <tr>\n",
       "      <th>781</th>\n",
       "      <td>US</td>\n",
       "      <td>CLT</td>\n",
       "      <td>43603</td>\n",
       "    </tr>\n",
       "    <tr>\n",
       "      <th>819</th>\n",
       "      <td>US</td>\n",
       "      <td>PHX</td>\n",
       "      <td>27564</td>\n",
       "    </tr>\n",
       "    <tr>\n",
       "      <th>818</th>\n",
       "      <td>US</td>\n",
       "      <td>PHL</td>\n",
       "      <td>19931</td>\n",
       "    </tr>\n",
       "    <tr>\n",
       "      <th>783</th>\n",
       "      <td>US</td>\n",
       "      <td>DCA</td>\n",
       "      <td>9656</td>\n",
       "    </tr>\n",
       "    <tr>\n",
       "      <th>776</th>\n",
       "      <td>US</td>\n",
       "      <td>BOS</td>\n",
       "      <td>8401</td>\n",
       "    </tr>\n",
       "    <tr>\n",
       "      <th>739</th>\n",
       "      <td>UA</td>\n",
       "      <td>ORD</td>\n",
       "      <td>62753</td>\n",
       "    </tr>\n",
       "    <tr>\n",
       "      <th>718</th>\n",
       "      <td>UA</td>\n",
       "      <td>IAH</td>\n",
       "      <td>57573</td>\n",
       "    </tr>\n",
       "    <tr>\n",
       "      <th>757</th>\n",
       "      <td>UA</td>\n",
       "      <td>SFO</td>\n",
       "      <td>49358</td>\n",
       "    </tr>\n",
       "    <tr>\n",
       "      <th>707</th>\n",
       "      <td>UA</td>\n",
       "      <td>DEN</td>\n",
       "      <td>48650</td>\n",
       "    </tr>\n",
       "    <tr>\n",
       "      <th>711</th>\n",
       "      <td>UA</td>\n",
       "      <td>EWR</td>\n",
       "      <td>45538</td>\n",
       "    </tr>\n",
       "    <tr>\n",
       "      <th>632</th>\n",
       "      <td>OO</td>\n",
       "      <td>LAX</td>\n",
       "      <td>32702</td>\n",
       "    </tr>\n",
       "    <tr>\n",
       "      <th>653</th>\n",
       "      <td>OO</td>\n",
       "      <td>ORD</td>\n",
       "      <td>30358</td>\n",
       "    </tr>\n",
       "    <tr>\n",
       "      <th>678</th>\n",
       "      <td>OO</td>\n",
       "      <td>SLC</td>\n",
       "      <td>28602</td>\n",
       "    </tr>\n",
       "    <tr>\n",
       "      <th>609</th>\n",
       "      <td>OO</td>\n",
       "      <td>DEN</td>\n",
       "      <td>27361</td>\n",
       "    </tr>\n",
       "    <tr>\n",
       "      <th>674</th>\n",
       "      <td>OO</td>\n",
       "      <td>SFO</td>\n",
       "      <td>26031</td>\n",
       "    </tr>\n",
       "    <tr>\n",
       "      <th>560</th>\n",
       "      <td>NK</td>\n",
       "      <td>FLL</td>\n",
       "      <td>10552</td>\n",
       "    </tr>\n",
       "    <tr>\n",
       "      <th>571</th>\n",
       "      <td>NK</td>\n",
       "      <td>ORD</td>\n",
       "      <td>10321</td>\n",
       "    </tr>\n",
       "    <tr>\n",
       "      <th>562</th>\n",
       "      <td>NK</td>\n",
       "      <td>LAS</td>\n",
       "      <td>9634</td>\n",
       "    </tr>\n",
       "    <tr>\n",
       "      <th>558</th>\n",
       "      <td>NK</td>\n",
       "      <td>DFW</td>\n",
       "      <td>9136</td>\n",
       "    </tr>\n",
       "    <tr>\n",
       "      <th>559</th>\n",
       "      <td>NK</td>\n",
       "      <td>DTW</td>\n",
       "      <td>7651</td>\n",
       "    </tr>\n",
       "    <tr>\n",
       "      <th>...</th>\n",
       "      <td>...</td>\n",
       "      <td>...</td>\n",
       "      <td>...</td>\n",
       "    </tr>\n",
       "    <tr>\n",
       "      <th>413</th>\n",
       "      <td>F9</td>\n",
       "      <td>DEN</td>\n",
       "      <td>22743</td>\n",
       "    </tr>\n",
       "    <tr>\n",
       "      <th>441</th>\n",
       "      <td>F9</td>\n",
       "      <td>ORD</td>\n",
       "      <td>4756</td>\n",
       "    </tr>\n",
       "    <tr>\n",
       "      <th>427</th>\n",
       "      <td>F9</td>\n",
       "      <td>LAS</td>\n",
       "      <td>4745</td>\n",
       "    </tr>\n",
       "    <tr>\n",
       "      <th>431</th>\n",
       "      <td>F9</td>\n",
       "      <td>MCO</td>\n",
       "      <td>4643</td>\n",
       "    </tr>\n",
       "    <tr>\n",
       "      <th>405</th>\n",
       "      <td>F9</td>\n",
       "      <td>ATL</td>\n",
       "      <td>4638</td>\n",
       "    </tr>\n",
       "    <tr>\n",
       "      <th>353</th>\n",
       "      <td>EV</td>\n",
       "      <td>IAH</td>\n",
       "      <td>48673</td>\n",
       "    </tr>\n",
       "    <tr>\n",
       "      <th>377</th>\n",
       "      <td>EV</td>\n",
       "      <td>ORD</td>\n",
       "      <td>35577</td>\n",
       "    </tr>\n",
       "    <tr>\n",
       "      <th>340</th>\n",
       "      <td>EV</td>\n",
       "      <td>EWR</td>\n",
       "      <td>31781</td>\n",
       "    </tr>\n",
       "    <tr>\n",
       "      <th>311</th>\n",
       "      <td>EV</td>\n",
       "      <td>ATL</td>\n",
       "      <td>27212</td>\n",
       "    </tr>\n",
       "    <tr>\n",
       "      <th>337</th>\n",
       "      <td>EV</td>\n",
       "      <td>DTW</td>\n",
       "      <td>18151</td>\n",
       "    </tr>\n",
       "    <tr>\n",
       "      <th>195</th>\n",
       "      <td>DL</td>\n",
       "      <td>ATL</td>\n",
       "      <td>225648</td>\n",
       "    </tr>\n",
       "    <tr>\n",
       "      <th>261</th>\n",
       "      <td>DL</td>\n",
       "      <td>MSP</td>\n",
       "      <td>58040</td>\n",
       "    </tr>\n",
       "    <tr>\n",
       "      <th>220</th>\n",
       "      <td>DL</td>\n",
       "      <td>DTW</td>\n",
       "      <td>54286</td>\n",
       "    </tr>\n",
       "    <tr>\n",
       "      <th>296</th>\n",
       "      <td>DL</td>\n",
       "      <td>SLC</td>\n",
       "      <td>34528</td>\n",
       "    </tr>\n",
       "    <tr>\n",
       "      <th>246</th>\n",
       "      <td>DL</td>\n",
       "      <td>LAX</td>\n",
       "      <td>27710</td>\n",
       "    </tr>\n",
       "    <tr>\n",
       "      <th>160</th>\n",
       "      <td>B6</td>\n",
       "      <td>JFK</td>\n",
       "      <td>40325</td>\n",
       "    </tr>\n",
       "    <tr>\n",
       "      <th>143</th>\n",
       "      <td>B6</td>\n",
       "      <td>BOS</td>\n",
       "      <td>40116</td>\n",
       "    </tr>\n",
       "    <tr>\n",
       "      <th>155</th>\n",
       "      <td>B6</td>\n",
       "      <td>FLL</td>\n",
       "      <td>18474</td>\n",
       "    </tr>\n",
       "    <tr>\n",
       "      <th>165</th>\n",
       "      <td>B6</td>\n",
       "      <td>MCO</td>\n",
       "      <td>17610</td>\n",
       "    </tr>\n",
       "    <tr>\n",
       "      <th>186</th>\n",
       "      <td>B6</td>\n",
       "      <td>SJU</td>\n",
       "      <td>10707</td>\n",
       "    </tr>\n",
       "    <tr>\n",
       "      <th>129</th>\n",
       "      <td>AS</td>\n",
       "      <td>SEA</td>\n",
       "      <td>51419</td>\n",
       "    </tr>\n",
       "    <tr>\n",
       "      <th>122</th>\n",
       "      <td>AS</td>\n",
       "      <td>PDX</td>\n",
       "      <td>14034</td>\n",
       "    </tr>\n",
       "    <tr>\n",
       "      <th>112</th>\n",
       "      <td>AS</td>\n",
       "      <td>LAX</td>\n",
       "      <td>8953</td>\n",
       "    </tr>\n",
       "    <tr>\n",
       "      <th>90</th>\n",
       "      <td>AS</td>\n",
       "      <td>ANC</td>\n",
       "      <td>8626</td>\n",
       "    </tr>\n",
       "    <tr>\n",
       "      <th>130</th>\n",
       "      <td>AS</td>\n",
       "      <td>SFO</td>\n",
       "      <td>5610</td>\n",
       "    </tr>\n",
       "    <tr>\n",
       "      <th>20</th>\n",
       "      <td>AA</td>\n",
       "      <td>DFW</td>\n",
       "      <td>140619</td>\n",
       "    </tr>\n",
       "    <tr>\n",
       "      <th>56</th>\n",
       "      <td>AA</td>\n",
       "      <td>ORD</td>\n",
       "      <td>54520</td>\n",
       "    </tr>\n",
       "    <tr>\n",
       "      <th>47</th>\n",
       "      <td>AA</td>\n",
       "      <td>MIA</td>\n",
       "      <td>51315</td>\n",
       "    </tr>\n",
       "    <tr>\n",
       "      <th>14</th>\n",
       "      <td>AA</td>\n",
       "      <td>CLT</td>\n",
       "      <td>49366</td>\n",
       "    </tr>\n",
       "    <tr>\n",
       "      <th>39</th>\n",
       "      <td>AA</td>\n",
       "      <td>LAX</td>\n",
       "      <td>35469</td>\n",
       "    </tr>\n",
       "  </tbody>\n",
       "</table>\n",
       "<p>70 rows × 3 columns</p>\n",
       "</div>"
      ],
      "text/plain": [
       "    AIRLINE ORIGIN_AIRPORT  FlightVol\n",
       "911      WN            MDW      81447\n",
       "903      WN            LAS      74314\n",
       "876      WN            BWI      68481\n",
       "886      WN            DEN      60388\n",
       "925      WN            PHX      58120\n",
       "862      VX            SFO      17345\n",
       "853      VX            LAX      12850\n",
       "845      VX            DAL       5497\n",
       "852      VX            LAS       4097\n",
       "851      VX            JFK       3935\n",
       "781      US            CLT      43603\n",
       "819      US            PHX      27564\n",
       "818      US            PHL      19931\n",
       "783      US            DCA       9656\n",
       "776      US            BOS       8401\n",
       "739      UA            ORD      62753\n",
       "718      UA            IAH      57573\n",
       "757      UA            SFO      49358\n",
       "707      UA            DEN      48650\n",
       "711      UA            EWR      45538\n",
       "632      OO            LAX      32702\n",
       "653      OO            ORD      30358\n",
       "678      OO            SLC      28602\n",
       "609      OO            DEN      27361\n",
       "674      OO            SFO      26031\n",
       "560      NK            FLL      10552\n",
       "571      NK            ORD      10321\n",
       "562      NK            LAS       9634\n",
       "558      NK            DFW       9136\n",
       "559      NK            DTW       7651\n",
       "..      ...            ...        ...\n",
       "413      F9            DEN      22743\n",
       "441      F9            ORD       4756\n",
       "427      F9            LAS       4745\n",
       "431      F9            MCO       4643\n",
       "405      F9            ATL       4638\n",
       "353      EV            IAH      48673\n",
       "377      EV            ORD      35577\n",
       "340      EV            EWR      31781\n",
       "311      EV            ATL      27212\n",
       "337      EV            DTW      18151\n",
       "195      DL            ATL     225648\n",
       "261      DL            MSP      58040\n",
       "220      DL            DTW      54286\n",
       "296      DL            SLC      34528\n",
       "246      DL            LAX      27710\n",
       "160      B6            JFK      40325\n",
       "143      B6            BOS      40116\n",
       "155      B6            FLL      18474\n",
       "165      B6            MCO      17610\n",
       "186      B6            SJU      10707\n",
       "129      AS            SEA      51419\n",
       "122      AS            PDX      14034\n",
       "112      AS            LAX       8953\n",
       "90       AS            ANC       8626\n",
       "130      AS            SFO       5610\n",
       "20       AA            DFW     140619\n",
       "56       AA            ORD      54520\n",
       "47       AA            MIA      51315\n",
       "14       AA            CLT      49366\n",
       "39       AA            LAX      35469\n",
       "\n",
       "[70 rows x 3 columns]"
      ]
     },
     "execution_count": 44,
     "metadata": {},
     "output_type": "execute_result"
    }
   ],
   "source": [
    "airline_airport = pd.DataFrame({'FlightVol':flights.groupby(['AIRLINE','ORIGIN_AIRPORT'])['FLIGHT_NUMBER'].count()}).reset_index()\n",
    "airline_airport = airline_airport.sort_values(['AIRLINE','FlightVol'],ascending = False).groupby('AIRLINE').head(5)\n",
    "airline_airport"
   ]
  },
  {
   "cell_type": "code",
   "execution_count": 45,
   "metadata": {
    "nbpresent": {
     "id": "5dbbd0c1-bb30-44d7-acbe-2c54063412aa"
    }
   },
   "outputs": [
    {
     "data": {
      "text/html": [
       "<iframe id=\"igraph\" scrolling=\"no\" style=\"border:none;\" seamless=\"seamless\" src=\"https://plot.ly/~janeXU/14.embed\" height=\"600px\" width=\"600px\"></iframe>"
      ],
      "text/plain": [
       "<plotly.tools.PlotlyDisplay object>"
      ]
     },
     "execution_count": 45,
     "metadata": {},
     "output_type": "execute_result"
    }
   ],
   "source": [
    "fig = ff.create_facet_grid(\n",
    "    airline_airport,\n",
    "    x='ORIGIN_AIRPORT',\n",
    "    y='FlightVol',\n",
    "    color_is_cat=True,\n",
    "    color_name = 'AIRLINE')\n",
    "\n",
    "py.iplot(fig, filename='airline_airport')"
   ]
  },
  {
   "cell_type": "markdown",
   "metadata": {
    "nbpresent": {
     "id": "3a863ce0-d349-471b-850c-fd50b3ed3843"
    }
   },
   "source": [
    "- It would be useful to know which airline is the best in the performance of average delay with considering the airport from which a flight is taking off. And from the above graph we notice that airlines are not uniformly distributed across all airport but different airines have different airports as their most frequently depaturing places. "
   ]
  },
  {
   "cell_type": "markdown",
   "metadata": {
    "nbpresent": {
     "id": "6773c08b-588a-4da4-9788-b7924d9bc0dd"
    }
   },
   "source": [
    "### 3.3.2. `AIRLINE` and `DURATION`"
   ]
  },
  {
   "cell_type": "code",
   "execution_count": 46,
   "metadata": {
    "nbpresent": {
     "id": "e5b62bc2-5c52-455f-b7db-7402041b8ebf"
    }
   },
   "outputs": [
    {
     "data": {
      "text/html": [
       "<iframe id=\"igraph\" scrolling=\"no\" style=\"border:none;\" seamless=\"seamless\" src=\"https://plot.ly/~janeXU/16.embed\" height=\"600px\" width=\"600px\"></iframe>"
      ],
      "text/plain": [
       "<plotly.tools.PlotlyDisplay object>"
      ]
     },
     "execution_count": 46,
     "metadata": {},
     "output_type": "execute_result"
    }
   ],
   "source": [
    "#Airline carriers and duration \n",
    "\n",
    "airline_dur = pd.DataFrame({'FlightVol':flights.groupby(['AIRLINE','DURATION'])['FLIGHT_NUMBER'].count()}).reset_index()\n",
    "fig = ff.create_facet_grid(\n",
    "    airline_dur,\n",
    "    x='DURATION',\n",
    "    y='FlightVol',\n",
    "    color_is_cat=True,\n",
    "    color_name = 'AIRLINE'\n",
    ")\n",
    "py.iplot(fig, filename='airline_dur')"
   ]
  },
  {
   "cell_type": "markdown",
   "metadata": {
    "nbpresent": {
     "id": "320e7454-f277-4660-a1fa-ace70820cd8c"
    }
   },
   "source": [
    "- We notice that the airlines are not uniformly distributed on the duration of flights. Although flights in duration of 2-3 hours are the most in all airline operators, Delta, for instance, operators more flights in longer duration than other operators such as Atlantic Southeast and Frontier."
   ]
  },
  {
   "cell_type": "markdown",
   "metadata": {
    "nbpresent": {
     "id": "d7c05c49-1bad-44b1-9eaf-1568eced5b38"
    }
   },
   "source": [
    "### 3.3.3. `AIRLINE` and `DEPARTURE_HOUR`"
   ]
  },
  {
   "cell_type": "code",
   "execution_count": 47,
   "metadata": {
    "nbpresent": {
     "id": "7c89e41e-61dd-4d24-8657-38da7c2f2206"
    }
   },
   "outputs": [
    {
     "data": {
      "text/html": [
       "<iframe id=\"igraph\" scrolling=\"no\" style=\"border:none;\" seamless=\"seamless\" src=\"https://plot.ly/~janeXU/18.embed\" height=\"600px\" width=\"600px\"></iframe>"
      ],
      "text/plain": [
       "<plotly.tools.PlotlyDisplay object>"
      ]
     },
     "execution_count": 47,
     "metadata": {},
     "output_type": "execute_result"
    }
   ],
   "source": [
    "airline_time = pd.DataFrame({'FlightVol':flights.groupby(['AIRLINE','DEPARTURE_HOUR'])['FLIGHT_NUMBER'].count()}).reset_index()\n",
    "fig = ff.create_facet_grid(\n",
    "    airline_time,\n",
    "    x='DEPARTURE_HOUR',\n",
    "    y='FlightVol',\n",
    "    color_name='AIRLINE',\n",
    "    color_is_cat=True,\n",
    ")\n",
    "py.iplot(fig, filename='airline_time')"
   ]
  },
  {
   "cell_type": "markdown",
   "metadata": {
    "nbpresent": {
     "id": "8895f3ea-613a-435b-895d-7e2cada2f6f0"
    }
   },
   "source": [
    "- We notice that the airlines are not uniformly distributed on the departure time. But some airlines have very similar pattern, for example, Frontier and Alaska, but they perform oppositely in the terms of average delay. On the other hand, Southwest holds the different pattern in distribution from Alaska, particularly, it does not have lights before 5 am, but it performs as good as Alaska in terms of average delay."
   ]
  },
  {
   "cell_type": "markdown",
   "metadata": {
    "nbpresent": {
     "id": "0847db54-9348-465a-9cd1-4389aeaa917e"
    }
   },
   "source": [
    "# 4. Pre-regression steps\n",
    "\n",
    "Little exploration to see which variables seem to be linked with the arrival delay, and which are not (helps so that we do not have to add useless variables afterwards)."
   ]
  },
  {
   "cell_type": "markdown",
   "metadata": {
    "nbpresent": {
     "id": "ce329407-714b-493b-aa63-ffe579f39892"
    }
   },
   "source": [
    "## 4.1. Preparation of dummy variables for our categorical variables\n",
    "\n",
    "The idea would be to replace the airports in our model by those."
   ]
  },
  {
   "cell_type": "markdown",
   "metadata": {
    "nbpresent": {
     "id": "da49ba20-fced-42bc-837c-40fa836c6cbf"
    }
   },
   "source": [
    "### 4.1.1. `HOUR`: hour at which the plane is supposed to take off for a given flight"
   ]
  },
  {
   "cell_type": "code",
   "execution_count": 48,
   "metadata": {
    "collapsed": true,
    "nbpresent": {
     "id": "6369fc09-ab2f-4812-b194-e37df6e66e1f"
    },
    "scrolled": false
   },
   "outputs": [],
   "source": [
    "flights[\"HOUR\"] = flights.SCHEDULED_DEPARTURE//100 #mentioned in 3.2.3"
   ]
  },
  {
   "cell_type": "markdown",
   "metadata": {
    "nbpresent": {
     "id": "580a8c06-245d-49c6-901f-2aa95fa5b45f"
    }
   },
   "source": [
    "### 4.1.2. `ORIGIN_AIRPORT_RANK` and `DESTINATION_AIRPORT_RANK`"
   ]
  },
  {
   "cell_type": "markdown",
   "metadata": {
    "nbpresent": {
     "id": "0c9d0ff5-38b7-4519-9410-23649e305bc5"
    }
   },
   "source": [
    "The aim of this section will be to transform the variables `ORIGIN_AIRPORT` and `DESTINATION_AIRPORT` into numerical variables.\n",
    "\n",
    "One way to achieve this would be to give the airports arbitrary values (for example, rank them according to their alphabetic order). One downside of this technique would be that there will be no relation between the airport values and the average delay for each airport, which implies that this ranking system would be all but useless for a linear regression.\n",
    "\n",
    "In order to avoid that, we are going to rank the origin airports and destination airport by their average arrival delay, which will allow us to retain some information."
   ]
  },
  {
   "cell_type": "code",
   "execution_count": 49,
   "metadata": {
    "collapsed": true,
    "nbpresent": {
     "id": "e3ddc2b6-0522-43f0-a1c6-fa6091698d75"
    }
   },
   "outputs": [],
   "source": [
    "origin_airport_rank = flights.groupby(\"ORIGIN_AIRPORT\").agg({\"ARRIVAL_DELAY\": 'mean'}).sort_values('ARRIVAL_DELAY')\n",
    "origin_airport_rank[\"RANK\"] = (range(1, len(origin_airport_rank) + 1))\n",
    "\n",
    "destination_airport_rank = flights.groupby(\"DESTINATION_AIRPORT\").agg({\"ARRIVAL_DELAY\": 'mean'}).sort_values('ARRIVAL_DELAY')\n",
    "destination_airport_rank[\"RANK\"] = pd.to_numeric(range(1, len(destination_airport_rank) + 1))"
   ]
  },
  {
   "cell_type": "code",
   "execution_count": 50,
   "metadata": {
    "nbpresent": {
     "id": "a9df4cea-561a-47a2-a031-c2474e874910"
    }
   },
   "outputs": [
    {
     "data": {
      "text/html": [
       "<div>\n",
       "<style>\n",
       "    .dataframe thead tr:only-child th {\n",
       "        text-align: right;\n",
       "    }\n",
       "\n",
       "    .dataframe thead th {\n",
       "        text-align: left;\n",
       "    }\n",
       "\n",
       "    .dataframe tbody tr th {\n",
       "        vertical-align: top;\n",
       "    }\n",
       "</style>\n",
       "<table border=\"1\" class=\"dataframe\">\n",
       "  <thead>\n",
       "    <tr style=\"text-align: right;\">\n",
       "      <th></th>\n",
       "      <th>ARRIVAL_DELAY</th>\n",
       "      <th>RANK</th>\n",
       "    </tr>\n",
       "    <tr>\n",
       "      <th>ORIGIN_AIRPORT</th>\n",
       "      <th></th>\n",
       "      <th></th>\n",
       "    </tr>\n",
       "  </thead>\n",
       "  <tbody>\n",
       "    <tr>\n",
       "      <th>ALB</th>\n",
       "      <td>-2.245499</td>\n",
       "      <td>1</td>\n",
       "    </tr>\n",
       "    <tr>\n",
       "      <th>FNT</th>\n",
       "      <td>-2.198770</td>\n",
       "      <td>2</td>\n",
       "    </tr>\n",
       "    <tr>\n",
       "      <th>PIT</th>\n",
       "      <td>-1.500097</td>\n",
       "      <td>3</td>\n",
       "    </tr>\n",
       "    <tr>\n",
       "      <th>ANC</th>\n",
       "      <td>-1.254826</td>\n",
       "      <td>4</td>\n",
       "    </tr>\n",
       "    <tr>\n",
       "      <th>LIH</th>\n",
       "      <td>-1.058161</td>\n",
       "      <td>5</td>\n",
       "    </tr>\n",
       "    <tr>\n",
       "      <th>KOA</th>\n",
       "      <td>-0.391413</td>\n",
       "      <td>6</td>\n",
       "    </tr>\n",
       "    <tr>\n",
       "      <th>MHT</th>\n",
       "      <td>-0.247831</td>\n",
       "      <td>7</td>\n",
       "    </tr>\n",
       "    <tr>\n",
       "      <th>CAK</th>\n",
       "      <td>-0.172366</td>\n",
       "      <td>8</td>\n",
       "    </tr>\n",
       "    <tr>\n",
       "      <th>ECP</th>\n",
       "      <td>0.095723</td>\n",
       "      <td>9</td>\n",
       "    </tr>\n",
       "    <tr>\n",
       "      <th>PVD</th>\n",
       "      <td>0.100430</td>\n",
       "      <td>10</td>\n",
       "    </tr>\n",
       "  </tbody>\n",
       "</table>\n",
       "</div>"
      ],
      "text/plain": [
       "                ARRIVAL_DELAY  RANK\n",
       "ORIGIN_AIRPORT                     \n",
       "ALB                 -2.245499     1\n",
       "FNT                 -2.198770     2\n",
       "PIT                 -1.500097     3\n",
       "ANC                 -1.254826     4\n",
       "LIH                 -1.058161     5\n",
       "KOA                 -0.391413     6\n",
       "MHT                 -0.247831     7\n",
       "CAK                 -0.172366     8\n",
       "ECP                  0.095723     9\n",
       "PVD                  0.100430    10"
      ]
     },
     "execution_count": 50,
     "metadata": {},
     "output_type": "execute_result"
    }
   ],
   "source": [
    "origin_airport_rank[:10]"
   ]
  },
  {
   "cell_type": "markdown",
   "metadata": {
    "nbpresent": {
     "id": "08ace2ec-b866-4fe7-86dd-db4ede4b849d"
    }
   },
   "source": [
    "We are now going to check for each airport the difference between their ranking as an origin airport and their ranking as a destination airport, to see if we should merge the two rankings, or if we should keep two separate rankings."
   ]
  },
  {
   "cell_type": "code",
   "execution_count": 51,
   "metadata": {
    "nbpresent": {
     "id": "ef3ac359-f3d7-48e3-a2f7-2781710f4153"
    }
   },
   "outputs": [
    {
     "data": {
      "text/html": [
       "<div>\n",
       "<style>\n",
       "    .dataframe thead tr:only-child th {\n",
       "        text-align: right;\n",
       "    }\n",
       "\n",
       "    .dataframe thead th {\n",
       "        text-align: left;\n",
       "    }\n",
       "\n",
       "    .dataframe tbody tr th {\n",
       "        vertical-align: top;\n",
       "    }\n",
       "</style>\n",
       "<table border=\"1\" class=\"dataframe\">\n",
       "  <thead>\n",
       "    <tr style=\"text-align: right;\">\n",
       "      <th></th>\n",
       "      <th>RANK_DIFF</th>\n",
       "    </tr>\n",
       "    <tr>\n",
       "      <th>AIRPORT</th>\n",
       "      <th></th>\n",
       "    </tr>\n",
       "  </thead>\n",
       "  <tbody>\n",
       "    <tr>\n",
       "      <th>ABQ</th>\n",
       "      <td>1.0</td>\n",
       "    </tr>\n",
       "    <tr>\n",
       "      <th>ALB</th>\n",
       "      <td>89.0</td>\n",
       "    </tr>\n",
       "    <tr>\n",
       "      <th>AMA</th>\n",
       "      <td>1.0</td>\n",
       "    </tr>\n",
       "    <tr>\n",
       "      <th>ANC</th>\n",
       "      <td>4.0</td>\n",
       "    </tr>\n",
       "    <tr>\n",
       "      <th>ATL</th>\n",
       "      <td>20.0</td>\n",
       "    </tr>\n",
       "    <tr>\n",
       "      <th>AUS</th>\n",
       "      <td>27.0</td>\n",
       "    </tr>\n",
       "    <tr>\n",
       "      <th>BDL</th>\n",
       "      <td>81.0</td>\n",
       "    </tr>\n",
       "    <tr>\n",
       "      <th>BHM</th>\n",
       "      <td>1.0</td>\n",
       "    </tr>\n",
       "    <tr>\n",
       "      <th>BNA</th>\n",
       "      <td>28.0</td>\n",
       "    </tr>\n",
       "    <tr>\n",
       "      <th>BOI</th>\n",
       "      <td>13.0</td>\n",
       "    </tr>\n",
       "  </tbody>\n",
       "</table>\n",
       "</div>"
      ],
      "text/plain": [
       "         RANK_DIFF\n",
       "AIRPORT           \n",
       "ABQ            1.0\n",
       "ALB           89.0\n",
       "AMA            1.0\n",
       "ANC            4.0\n",
       "ATL           20.0\n",
       "AUS           27.0\n",
       "BDL           81.0\n",
       "BHM            1.0\n",
       "BNA           28.0\n",
       "BOI           13.0"
      ]
     },
     "execution_count": 51,
     "metadata": {},
     "output_type": "execute_result"
    }
   ],
   "source": [
    "rank_diff = pd.DataFrame(columns = ('AIRPORT', 'RANK_DIFF'))\n",
    "\n",
    "rank_diff.set_index('AIRPORT', inplace = True)\n",
    "\n",
    "for airport in airports.index:\n",
    "    try:\n",
    "        rank_diff.loc[airport] = abs(origin_airport_rank.loc[airport].RANK - destination_airport_rank.loc[airport].RANK)\n",
    "    except KeyError:\n",
    "        continue\n",
    "        \n",
    "rank_diff[:10]"
   ]
  },
  {
   "cell_type": "code",
   "execution_count": 52,
   "metadata": {
    "nbpresent": {
     "id": "dd4534cf-2d30-4990-bd71-8efef4ccd067"
    }
   },
   "outputs": [
    {
     "data": {
      "text/plain": [
       "28.338461538461537"
      ]
     },
     "execution_count": 52,
     "metadata": {},
     "output_type": "execute_result"
    }
   ],
   "source": [
    "np.mean(abs(rank_diff.RANK_DIFF))"
   ]
  },
  {
   "cell_type": "markdown",
   "metadata": {
    "nbpresent": {
     "id": "4cc7f2bf-d8cd-4bd8-8e00-98c0b5f71422"
    }
   },
   "source": [
    "The rank difference seems quite important, so we are going to use the two different rankings in our additional columns. It would take a while."
   ]
  },
  {
   "cell_type": "code",
   "execution_count": 53,
   "metadata": {
    "collapsed": true,
    "nbpresent": {
     "id": "43d0ab00-e7e1-44aa-8d97-e687fbea531f"
    },
    "scrolled": true
   },
   "outputs": [],
   "source": [
    "flights[\"ORIGIN_AIRPORT_RANK\"] = np.array(origin_airport_rank.loc[flights.ORIGIN_AIRPORT].RANK)\n",
    "flights[\"DESTINATION_AIRPORT_RANK\"] = np.array(destination_airport_rank.loc[flights.DESTINATION_AIRPORT].RANK)"
   ]
  },
  {
   "cell_type": "markdown",
   "metadata": {
    "nbpresent": {
     "id": "c661b898-1c5d-4cf3-85cb-21293b181d38"
    }
   },
   "source": [
    "### 4.1.3. AIRLINE_RANK\n",
    "Similarly to what we did with `ORIGIN_AIRPORT` and `DESTINATION_AIRPORT`:"
   ]
  },
  {
   "cell_type": "code",
   "execution_count": 54,
   "metadata": {
    "collapsed": true,
    "nbpresent": {
     "id": "d1bbc3f5-b416-4475-9ee3-55eb4698c7d1"
    }
   },
   "outputs": [],
   "source": [
    "airline_rank = flights.groupby(\"AIRLINE\").agg({\"ARRIVAL_DELAY\": 'mean'}).sort_values('ARRIVAL_DELAY')\n",
    "airline_rank[\"RANK\"] = range(1, len(airline_rank) + 1)"
   ]
  },
  {
   "cell_type": "code",
   "execution_count": 55,
   "metadata": {
    "collapsed": true,
    "nbpresent": {
     "id": "e21468a5-0f6d-416b-83f5-253fc923c9be"
    }
   },
   "outputs": [],
   "source": [
    "flights[\"AIRLINE_RANK\"] = np.array(airline_rank.loc[flights.AIRLINE].RANK)"
   ]
  },
  {
   "cell_type": "markdown",
   "metadata": {
    "nbpresent": {
     "id": "bf633890-b77c-4583-822d-bcebdcdeee76"
    }
   },
   "source": [
    "## 4.2. Pre-regression plots"
   ]
  },
  {
   "cell_type": "code",
   "execution_count": 56,
   "metadata": {
    "collapsed": true,
    "nbpresent": {
     "id": "8d2a15d8-de98-4b8c-a631-029fd7d0cb6a"
    }
   },
   "outputs": [],
   "source": [
    "def graph_test(column_name, polynomial = 1, nb_points = 5000):\n",
    "    \"\"\"\n",
    "    The aim of this function is to create two plots:\n",
    "    - the plot of the average delay relative to the variable selected,\n",
    "    - the least squares regression line with a given polynomial degree.\n",
    "    \"\"\"\n",
    "    fig, ax = plt.subplots(figsize = (6, 4))\n",
    "    \n",
    "    data = flights.groupby(column_name).agg({\"ARRIVAL_DELAY\": 'mean'}) # We store this query in the\n",
    "    # variable 'data' in order to make the code more legible\n",
    "    \n",
    "    X = np.zeros((polynomial + 1, len(data))) # Generate the X matrix for least square regression\n",
    "    \n",
    "    x_reg = (max(flights[column_name]) - min(flights[column_name])) *\\\n",
    "    np.random.rand(polynomial + 1, nb_points) + min(flights[column_name]) # Generate random numbers\n",
    "    # to plot the least squares line\n",
    "    \n",
    "    X[0] = np.ones(len(data))\n",
    "    x_reg[0] = np.ones(nb_points)\n",
    "    \n",
    "    for power in range(1, polynomial + 1):\n",
    "        X[power] = np.array(data.index) ** power\n",
    "        x_reg[power] = x_reg[1] ** power\n",
    "        \n",
    "    X = np.transpose(X)\n",
    "    x_reg = np.transpose(x_reg)\n",
    "    \n",
    "    # Create a matrix with two arrays so that we can make a regression. The first column is only comprised of ones,\n",
    "    # the second column is the x array.\n",
    "    \n",
    "    model = np.linalg.lstsq(X, np.array(data.ARRIVAL_DELAY))\n",
    "    \n",
    "    y_reg = np.dot(x_reg, model[0])\n",
    "    \n",
    "    ax.plot(data.ARRIVAL_DELAY, label = column_name)   \n",
    "    ax.scatter(np.transpose(x_reg)[1], y_reg, color = 'red', alpha = 0.8, marker = \"o\", s = 1)\n",
    "    \n",
    "    plt.xlabel(column_name)\n",
    "    plt.ylabel('Arrival delay (minutes)')\n",
    "    plt.title('Average delay observed as a function of ' + column_name)"
   ]
  },
  {
   "cell_type": "code",
   "execution_count": 57,
   "metadata": {
    "nbpresent": {
     "id": "7616e538-8e9c-41b3-bd88-9499c0ee9da7"
    }
   },
   "outputs": [
    {
     "data": {
      "image/png": "[encoded data removed]",
      "text/plain": [
       "<matplotlib.figure.Figure at 0x180008119e8>"
      ]
     },
     "metadata": {},
     "output_type": "display_data"
    }
   ],
   "source": [
    "graph_test(\"DAY_OF_WEEK\", polynomial = 4)"
   ]
  },
  {
   "cell_type": "code",
   "execution_count": 58,
   "metadata": {
    "nbpresent": {
     "id": "8aea2123-c9ec-4cf0-8930-936e1425ae2b"
    }
   },
   "outputs": [
    {
     "data": {
      "image/png": "[encoded data removed]",
      "text/plain": [
       "<matplotlib.figure.Figure at 0x1800069fb38>"
      ]
     },
     "metadata": {},
     "output_type": "display_data"
    }
   ],
   "source": [
    "graph_test(\"MONTH\", polynomial = 4)"
   ]
  },
  {
   "cell_type": "code",
   "execution_count": 59,
   "metadata": {
    "nbpresent": {
     "id": "d0447670-c0fb-42b3-bcdf-6e4356b64551"
    }
   },
   "outputs": [
    {
     "data": {
      "image/png": "[encoded data removed]",
      "text/plain": [
       "<matplotlib.figure.Figure at 0x18000621550>"
      ]
     },
     "metadata": {},
     "output_type": "display_data"
    }
   ],
   "source": [
    "graph_test(\"ORIGIN_AIRPORT_RANK\", polynomial = 3)"
   ]
  },
  {
   "cell_type": "code",
   "execution_count": 60,
   "metadata": {
    "nbpresent": {
     "id": "5347b652-c9de-4121-a89f-13a968701288"
    }
   },
   "outputs": [
    {
     "data": {
      "image/png": "[encoded data removed]",
      "text/plain": [
       "<matplotlib.figure.Figure at 0x1800035d0f0>"
      ]
     },
     "metadata": {},
     "output_type": "display_data"
    }
   ],
   "source": [
    "graph_test(\"HOUR\", polynomial = 3)"
   ]
  },
  {
   "cell_type": "markdown",
   "metadata": {
    "nbpresent": {
     "id": "e71f8777-e0ce-4367-b28d-68fab3016001"
    }
   },
   "source": [
    "# 5. Linear regression: predicting the plane delays"
   ]
  },
  {
   "cell_type": "markdown",
   "metadata": {
    "nbpresent": {
     "id": "b587fbe6-dcec-4201-a459-d5d17d5226d9"
    }
   },
   "source": [
    "## Introduction : splitting the data into a training dataset and a test dataset\n",
    "From now on, we will split the data into two:\n",
    "- A training dataset (80% of the data),\n",
    "- A test dataset (the remainder)."
   ]
  },
  {
   "cell_type": "code",
   "execution_count": 61,
   "metadata": {
    "collapsed": true,
    "nbpresent": {
     "id": "7de071a8-c85c-4d10-8367-8e7bbf3cf783"
    }
   },
   "outputs": [],
   "source": [
    "flights_train = flights.sample(frac = 0.8, random_state = 0)\n",
    "flights_test = flights.drop(flights_train.index)"
   ]
  },
  {
   "cell_type": "markdown",
   "metadata": {
    "nbpresent": {
     "id": "f50d19a8-ee6d-4ec0-9ee5-d737034ca571"
    }
   },
   "source": [
    "**Note:** Please note that some of these chunks may take a long time to run."
   ]
  },
  {
   "cell_type": "markdown",
   "metadata": {
    "nbpresent": {
     "id": "b365d13d-bbf3-4b0f-8354-aa1469c617aa"
    }
   },
   "source": [
    "## 5.1. Numeric regression\n",
    "First of all, let us define our baseline model and the associated mean squared error."
   ]
  },
  {
   "cell_type": "code",
   "execution_count": 62,
   "metadata": {
    "nbpresent": {
     "id": "66c74017-e32f-49f1-aeb7-20f2f948312e"
    }
   },
   "outputs": [
    {
     "name": "stdout",
     "output_type": "stream",
     "text": [
      "Mean squared error: 1572458953.85\n"
     ]
    }
   ],
   "source": [
    "mean_model = np.mean(flights_train.ARRIVAL_DELAY)\n",
    "\n",
    "mean_model_mse = sum((mean_model - flights_test.ARRIVAL_DELAY) ** 2)\n",
    "\n",
    "print('Mean squared error:', mean_model_mse)"
   ]
  },
  {
   "cell_type": "markdown",
   "metadata": {
    "nbpresent": {
     "id": "4b66f455-c679-49cd-b7ca-7ae7a55ef8aa"
    }
   },
   "source": [
    "We will compare this mean square error to the mean square error of every model that we will create in this section.\n",
    "\n",
    "We also create the function that will help us generate all the X matrices that we will need for our regression models."
   ]
  },
  {
   "cell_type": "code",
   "execution_count": 63,
   "metadata": {
    "collapsed": true,
    "nbpresent": {
     "id": "70a83224-165b-4d09-b3c8-773948105cb3"
    }
   },
   "outputs": [],
   "source": [
    "def X_maker(data, **kwargs):\n",
    "    \"\"\"\n",
    "      The aim of the function is to help us build the X matrices that we will use in our regression.\n",
    "    The argument data should take two possible values: either flights_train, in order to create the\n",
    "    regression model, or flights_test, so that we can test our regression.\n",
    "    \n",
    "      As for the kwargs: the key should take the name of a column, and the value is the degree of the\n",
    "    polynomial that we want to use for this specific variable in our model.\n",
    "    \"\"\"\n",
    "\n",
    "    X = np.zeros((sum(kwargs.values()) + 1, len(data)))\n",
    "    X[0] = np.ones(len(data))\n",
    "    # We set X as a matrix of zeros, and we add a line of (1, 1, ... 1)\n",
    "    \n",
    "    ind = 1 # This iterates over all rows of X\n",
    "    \n",
    "    for key in kwargs:\n",
    "        for power in range(1, kwargs[key] + 1):\n",
    "            X[ind] = np.array(data[key]) ** power\n",
    "            ind += 1\n",
    "            \n",
    "    return(np.transpose(X))"
   ]
  },
  {
   "cell_type": "markdown",
   "metadata": {
    "nbpresent": {
     "id": "684a5ae0-aaab-4f64-b90f-bf8aeb48b91e"
    }
   },
   "source": [
    "### 5.1.1. Regression with the numeric variables that are directly available to us"
   ]
  },
  {
   "cell_type": "code",
   "execution_count": 64,
   "metadata": {
    "nbpresent": {
     "id": "e01866f1-7c44-4ab7-897b-bfa4c545d8c6"
    }
   },
   "outputs": [
    {
     "name": "stdout",
     "output_type": "stream",
     "text": [
      "Mean squared error: 1549809468.68\n",
      "Difference with baseline: 22649485.171\n",
      "Percentage of accuracy: 1.44038641616%\n"
     ]
    }
   ],
   "source": [
    "X = X_maker(flights_train, MONTH = 1, DAY = 1, SCHEDULED_TIME = 1, DISTANCE = 1, DAY_OF_WEEK = 1, HOUR = 1)\n",
    "\n",
    "X_test = X_maker(flights_test, MONTH = 1, DAY = 1, SCHEDULED_TIME = 1, DISTANCE = 1,\n",
    "                 DAY_OF_WEEK = 1, HOUR = 1)\n",
    "\n",
    "num_model = np.linalg.lstsq(X, np.array(flights_train.ARRIVAL_DELAY))\n",
    "\n",
    "num_model_mse = sum((np.dot(X_test, num_model[0]) - flights_test.ARRIVAL_DELAY) ** 2)\n",
    "\n",
    "print('Mean squared error:', num_model_mse)\n",
    "print('Difference with baseline:', mean_model_mse - num_model_mse)\n",
    "print('Percentage of accuracy:', str((1 - num_model_mse / mean_model_mse) * 100) + \"%\")"
   ]
  },
  {
   "cell_type": "markdown",
   "metadata": {
    "nbpresent": {
     "id": "baa99db8-3e98-4976-801c-03a6bcbb7330"
    }
   },
   "source": [
    "### 5.1.2. Regression that includes the categorical variables transformed into numeric variables"
   ]
  },
  {
   "cell_type": "code",
   "execution_count": 65,
   "metadata": {
    "nbpresent": {
     "id": "d1b18918-0c07-4234-8f2b-0b4120ed3dc8"
    }
   },
   "outputs": [
    {
     "name": "stdout",
     "output_type": "stream",
     "text": [
      "Mean squared error: 1539903512.51\n",
      "Difference with baseline: 32555441.3393\n",
      "Percentage of accuracy: 2.07035237769%\n"
     ]
    }
   ],
   "source": [
    "X = X_maker(flights_train, MONTH = 1, DAY_OF_WEEK = 1, DAY = 1, HOUR = 1, SCHEDULED_TIME = 1,\n",
    "           ORIGIN_AIRPORT_RANK = 1, DESTINATION_AIRPORT_RANK = 1, AIRLINE_RANK = 1)\n",
    "\n",
    "X_test = X_maker(flights_test, MONTH = 1, DAY_OF_WEEK = 1, DAY = 1, HOUR = 1, SCHEDULED_TIME = 1,\n",
    "           ORIGIN_AIRPORT_RANK = 1, DESTINATION_AIRPORT_RANK = 1, AIRLINE_RANK = 1)\n",
    "\n",
    "num_cat_model = np.linalg.lstsq(X, np.array(flights_train.ARRIVAL_DELAY))\n",
    "\n",
    "num_cat_mse = sum((np.dot(X_test, num_cat_model[0]) - flights_test.ARRIVAL_DELAY) ** 2)\n",
    "\n",
    "print('Mean squared error:', num_cat_mse)\n",
    "print('Difference with baseline:', mean_model_mse - num_cat_mse)\n",
    "print('Percentage of accuracy:', str((1 - num_cat_mse / mean_model_mse) * 100) + \"%\")"
   ]
  },
  {
   "cell_type": "markdown",
   "metadata": {
    "nbpresent": {
     "id": "fbdbb46b-4385-441b-93e3-88f5a20a836e"
    }
   },
   "source": [
    "### 5.1.3. Regression with polynomial support\n",
    "In this part, we model our delay with polynomial functions of the variables, in an effort to fit the training data more precisely than a strictly linear regression would."
   ]
  },
  {
   "cell_type": "code",
   "execution_count": 66,
   "metadata": {
    "nbpresent": {
     "id": "bcbd2927-0849-4c62-a677-a0ce168cd4b2"
    }
   },
   "outputs": [
    {
     "name": "stdout",
     "output_type": "stream",
     "text": [
      "Mean squared error: 1529589536.88\n",
      "Difference with baseline: 42869416.9733\n",
      "Percentage of accuracy: 2.72626620036%\n"
     ]
    }
   ],
   "source": [
    "X = X_maker(flights_train, MONTH = 4, DAY = 3, SCHEDULED_TIME = 4, DISTANCE = 3,\n",
    "           DAY_OF_WEEK = 4, HOUR = 3, ORIGIN_AIRPORT_RANK = 3, DESTINATION_AIRPORT_RANK = 3,\n",
    "           AIRLINE_RANK = 3)\n",
    "\n",
    "X_test = X_maker(flights_test, MONTH = 4, DAY = 3, SCHEDULED_TIME = 4, DISTANCE = 3,\n",
    "           DAY_OF_WEEK = 4, HOUR = 3, ORIGIN_AIRPORT_RANK = 3, DESTINATION_AIRPORT_RANK = 3,\n",
    "           AIRLINE_RANK = 3)\n",
    "\n",
    "poly_model = np.linalg.lstsq(X, np.array(flights_train.ARRIVAL_DELAY))\n",
    "\n",
    "poly_model_mse = sum((np.dot(X_test, poly_model[0]) - flights_test.ARRIVAL_DELAY) ** 2)\n",
    "\n",
    "print('Mean squared error:', poly_model_mse)\n",
    "print('Difference with baseline:', mean_model_mse - poly_model_mse)\n",
    "print('Percentage of accuracy:', str((1 - poly_model_mse / mean_model_mse) * 100) + \"%\")"
   ]
  },
  {
   "cell_type": "markdown",
   "metadata": {
    "nbpresent": {
     "id": "cb99675c-6718-43d8-92ad-0d84b706aa99"
    }
   },
   "source": [
    "Again, the accuracy of the model has increased slightly, but not that much.\n",
    "\n",
    "If we plot the observed delays against the delays predicted by this very last model on the test data, we find the following graphs:"
   ]
  },
  {
   "cell_type": "code",
   "execution_count": 67,
   "metadata": {
    "nbpresent": {
     "id": "e5c4b7fa-4200-485f-b99d-b16317492c1a"
    }
   },
   "outputs": [
    {
     "name": "stdout",
     "output_type": "stream",
     "text": [
      "Comparison between observed and predicted delays:\n"
     ]
    },
    {
     "data": {
      "text/plain": [
       "Text(0.5,1,'Same scale for x and y')"
      ]
     },
     "execution_count": 67,
     "metadata": {},
     "output_type": "execute_result"
    },
    {
     "data": {
      "image/png": "[encoded data removed]",
      "text/plain": [
       "<matplotlib.figure.Figure at 0x18000761a90>"
      ]
     },
     "metadata": {},
     "output_type": "display_data"
    }
   ],
   "source": [
    "fig, axes = plt.subplots(1,2, figsize = (20, 10))\n",
    "\n",
    "print('Comparison between observed and predicted delays:')\n",
    "\n",
    "axes[0].scatter(flights_test.ARRIVAL_DELAY, np.dot(X_test, poly_model[0]))\n",
    "axes[0].set_xlabel('Delay on arrival observed')\n",
    "axes[0].set_ylabel('Delay predicted by our model')\n",
    "axes[0].set_title('Different scales for x and y')\n",
    "\n",
    "axes[1].scatter(flights_test.ARRIVAL_DELAY, np.dot(X_test, poly_model[0]))\n",
    "axes[1].set_ylim([-100, 2000])\n",
    "axes[1].set_xlabel('Delay on arrival observed')\n",
    "axes[1].set_ylabel('Delay predicted by our model')\n",
    "axes[1].set_title('Same scale for x and y')"
   ]
  },
  {
   "cell_type": "markdown",
   "metadata": {
    "nbpresent": {
     "id": "7b7ea581-0cd7-4bf1-9506-9034e6398382"
    }
   },
   "source": [
    "As can be seen on this graph, one shortcoming of our model is that the predicted values are in a much more narrow range than the actual values."
   ]
  },
  {
   "cell_type": "markdown",
   "metadata": {
    "nbpresent": {
     "id": "8cf2b82f-d6a2-4fcd-9557-c0b09b344025"
    }
   },
   "source": [
    "### 5.1.5. Regression by caping the delay at 120 minutes\n",
    "So far, we have noticed that the range of our predictions is very narrow compared to the actual range of delays. This can be explained by the fact that the range of delays is actually very wide ($[-100, 2000]$). There would be two ways to address the problem:\n",
    "- Run the regression on a logarithm of the delay instead of the actual delay,\n",
    "- Cap the maximum amount of delay at a certain value.\n",
    "\n",
    "The first solution is tempting, but a bit tough to implement, since we have negative values (planes that arrived early). Therefore, we are going to try the second solution, and **cap the maximum amount of delay at 120 minutes**."
   ]
  },
  {
   "cell_type": "code",
   "execution_count": 68,
   "metadata": {
    "collapsed": true,
    "nbpresent": {
     "id": "dba00d03-4e0b-4a2a-959e-d512b47a6602"
    }
   },
   "outputs": [],
   "source": [
    "flights_train[\"CAPPED_ARRIVAL_DELAY\"] = flights_train.ARRIVAL_DELAY *\\\n",
    "(flights_train.ARRIVAL_DELAY < 180) + 180 * (flights_train.ARRIVAL_DELAY >= 180)\n",
    "\n",
    "flights_test[\"CAPPED_ARRIVAL_DELAY\"] = flights_test.ARRIVAL_DELAY *\\\n",
    "(flights_test.ARRIVAL_DELAY < 180) + 180 * (flights_test.ARRIVAL_DELAY >= 180)\n"
   ]
  },
  {
   "cell_type": "markdown",
   "metadata": {
    "nbpresent": {
     "id": "52a62202-19a5-48ac-a344-d160dfe5a46d"
    }
   },
   "source": [
    "In this situation, the baseline model becomes:"
   ]
  },
  {
   "cell_type": "code",
   "execution_count": 69,
   "metadata": {
    "nbpresent": {
     "id": "6a526511-7247-4770-ac86-f03acfb3bc91"
    }
   },
   "outputs": [
    {
     "name": "stdout",
     "output_type": "stream",
     "text": [
      "Mean squared error: 1096142194.31\n"
     ]
    }
   ],
   "source": [
    "mean_capped_model = np.mean(flights_train.CAPPED_ARRIVAL_DELAY)\n",
    "\n",
    "mean_capped_model_mse = sum((mean_capped_model - flights_test.CAPPED_ARRIVAL_DELAY) ** 2)\n",
    "\n",
    "print('Mean squared error:', mean_capped_model_mse)"
   ]
  },
  {
   "cell_type": "markdown",
   "metadata": {
    "nbpresent": {
     "id": "1d9238ce-579f-4065-99fa-de3655bf25ea"
    }
   },
   "source": [
    "And with our previous model, we get:"
   ]
  },
  {
   "cell_type": "code",
   "execution_count": 70,
   "metadata": {
    "nbpresent": {
     "id": "524db1ba-f5fc-494c-b1c2-385123ec7500"
    },
    "scrolled": true
   },
   "outputs": [
    {
     "name": "stdout",
     "output_type": "stream",
     "text": [
      "Mean squared error: 1054122308.76\n",
      "Difference with baseline: 42019885.5518\n",
      "Percentage of accuracy: 3.83343381635%\n"
     ]
    }
   ],
   "source": [
    "X = X_maker(flights_train, MONTH = 4, DAY = 3, SCHEDULED_TIME = 4, DISTANCE = 3,\n",
    "           DAY_OF_WEEK = 4, HOUR = 3, ORIGIN_AIRPORT_RANK = 3, DESTINATION_AIRPORT_RANK = 3,\n",
    "           AIRLINE_RANK = 3)\n",
    "\n",
    "X_test = X_maker(flights_test, MONTH = 4, DAY = 3, SCHEDULED_TIME = 4, DISTANCE = 3,\n",
    "           DAY_OF_WEEK = 4, HOUR = 3, ORIGIN_AIRPORT_RANK = 3, DESTINATION_AIRPORT_RANK = 3,\n",
    "           AIRLINE_RANK = 3)\n",
    "\n",
    "poly_capped_model = np.linalg.lstsq(X, np.array(flights_train.CAPPED_ARRIVAL_DELAY))\n",
    "\n",
    "poly_capped_model_mse = sum((np.dot(X_test, poly_capped_model[0]) - flights_test.CAPPED_ARRIVAL_DELAY) ** 2)\n",
    "\n",
    "print('Mean squared error:', poly_capped_model_mse)\n",
    "print('Difference with baseline:', mean_capped_model_mse - poly_capped_model_mse)\n",
    "print('Percentage of accuracy:', str((1 - poly_capped_model_mse / mean_capped_model_mse) * 100) + \"%\")"
   ]
  },
  {
   "cell_type": "markdown",
   "metadata": {
    "nbpresent": {
     "id": "016cdc44-b336-48b2-9353-186699aaf84e"
    }
   },
   "source": [
    "### Conclusions for numeric regression\n",
    "Our efforts so far have not been very conclusive, since even with a modified target, our model is only 4% more precise than the most basic model.\n",
    "\n",
    "This may be because the most predictive variable (by far) is the departure delay, which we have excluded so far from our analysis. If we include this in a final test, with the initial arrival delay variable, we can see that we can predict delays very accurately:"
   ]
  },
  {
   "cell_type": "code",
   "execution_count": 71,
   "metadata": {
    "nbpresent": {
     "id": "7043f365-cad0-4d63-ad18-9f22a3c300fe"
    }
   },
   "outputs": [
    {
     "name": "stdout",
     "output_type": "stream",
     "text": [
      "Mean squared error: 163680976.91\n",
      "Difference with baseline: 1408777976.94\n",
      "Percentage of accuracy: 89.5907631478%\n"
     ]
    }
   ],
   "source": [
    "X = X_maker(flights_train, MONTH = 4, DAY = 3, SCHEDULED_TIME = 4, DISTANCE = 3,\n",
    "           DAY_OF_WEEK = 4, HOUR = 3, ORIGIN_AIRPORT_RANK = 3, DESTINATION_AIRPORT_RANK = 3,\n",
    "           AIRLINE_RANK = 3, DEPARTURE_DELAY = 1)\n",
    "\n",
    "X_test = X_maker(flights_test, MONTH = 4, DAY = 3, SCHEDULED_TIME = 4, DISTANCE = 3,\n",
    "           DAY_OF_WEEK = 4, HOUR = 3, ORIGIN_AIRPORT_RANK = 3, DESTINATION_AIRPORT_RANK = 3,\n",
    "           AIRLINE_RANK = 3, DEPARTURE_DELAY = 1)\n",
    "\n",
    "dep_delay_model = np.linalg.lstsq(X, np.array(flights_train.ARRIVAL_DELAY))\n",
    "\n",
    "dep_delay_mse = sum((np.dot(X_test, dep_delay_model[0]) - flights_test.ARRIVAL_DELAY) ** 2)\n",
    "\n",
    "print('Mean squared error:', dep_delay_mse)\n",
    "print('Difference with baseline:', mean_model_mse - dep_delay_mse)\n",
    "print('Percentage of accuracy:', str((1 - dep_delay_mse / mean_model_mse) * 100) + \"%\")"
   ]
  },
  {
   "cell_type": "markdown",
   "metadata": {
    "nbpresent": {
     "id": "2a915291-d117-4916-8be5-3cab3361860c"
    }
   },
   "source": [
    "However, despite its accuracy, this model would not very useful in real life:\n",
    "- It does not bring a lot of new insight, since it can be expected that a plane that a delay on take-off will result on a similar delay upon landing,\n",
    "- It depends on information that we can only obtain right before the flight takes off, while we would prefer to make predictions on information we have beforehand."
   ]
  },
  {
   "cell_type": "markdown",
   "metadata": {
    "nbpresent": {
     "id": "88515e06-a264-4856-ab51-756ae5f22941"
    }
   },
   "source": [
    "# 5.1.2. Logistic regression : only focus on whether the plane is late or not\n",
    "\n",
    "In this final section, we introduce the variable `DELAYED`, that takes the value 1 if the plane has been delayed by 15 minutes or more, 0 otherwise. Our aim will therefore to be to classify flights into two categories:\n",
    "- Flights that have arrived early or on time,\n",
    "- Flights that were late.\n",
    "\n",
    "We will do this with logistic regression."
   ]
  },
  {
   "cell_type": "code",
   "execution_count": 72,
   "metadata": {
    "collapsed": true,
    "nbpresent": {
     "id": "5340f42f-4b97-483d-88d6-865e80dc3059"
    }
   },
   "outputs": [],
   "source": [
    "flights[\"DEYLAYED\"] = flights.ARRIVAL_DELAY > 15\n",
    "flights_train[\"DELAYED\"] = (flights_train.ARRIVAL_DELAY > 15)\n",
    "flights_test[\"DELAYED\"] = (flights_test.ARRIVAL_DELAY > 15)"
   ]
  },
  {
   "cell_type": "markdown",
   "metadata": {
    "nbpresent": {
     "id": "1c9786c8-bbd5-46b0-b839-058dfa3b3f65"
    }
   },
   "source": [
    "The first step will be to define our baseline model for the logistic regression. In this case, it will be: \"Every plane arrives on time\"."
   ]
  },
  {
   "cell_type": "code",
   "execution_count": 73,
   "metadata": {
    "nbpresent": {
     "id": "238f4ca4-ec70-4deb-8985-061150286e00"
    }
   },
   "outputs": [
    {
     "name": "stdout",
     "output_type": "stream",
     "text": [
      "Base model accuracy: 81.9166818894%\n"
     ]
    }
   ],
   "source": [
    "base_log_model = 0\n",
    "\n",
    "base_log_perf = sum(flights_test.DELAYED == base_log_model)/len(flights_test)\n",
    "\n",
    "print('Base model accuracy:', str(base_log_perf * 100) + '%')\n"
   ]
  },
  {
   "cell_type": "markdown",
   "metadata": {
    "nbpresent": {
     "id": "ad047788-d665-4551-9918-e0fbe7c3ac91"
    }
   },
   "source": [
    "This model has almost 82% accuracy, and we will be comparing the performance of our models to that baseline."
   ]
  },
  {
   "cell_type": "markdown",
   "metadata": {
    "collapsed": true,
    "nbpresent": {
     "id": "ceae939e-614f-42c7-a7e6-2094342b8cb0"
    }
   },
   "source": [
    "### 5.2.2. \"Basic\" logistic regression"
   ]
  },
  {
   "cell_type": "markdown",
   "metadata": {
    "nbpresent": {
     "id": "7d522762-bbfd-4d8c-a492-831662fc2f9c"
    }
   },
   "source": [
    "\"Basic\" means that we will not apply any polynomial modifierer to our variables.\n",
    "For this attempt, we are going to use all numeric variables that were already available in the dataset, plus the categorical variables that were transformed as numeric variables (`ORIGIN_AIRPORT_RANK`, `DESTINATION_AIRPORT_RANK`, and `AIRLINE_RANK`)."
   ]
  },
  {
   "cell_type": "code",
   "execution_count": 74,
   "metadata": {
    "nbpresent": {
     "id": "070b526d-2c47-4f97-9d63-29efeed7e16e"
    }
   },
   "outputs": [
    {
     "name": "stdout",
     "output_type": "stream",
     "text": [
      "Model accuracy: 81.9166818894%\n"
     ]
    }
   ],
   "source": [
    "X = X_maker(flights_train, MONTH = 1, DAY = 1, SCHEDULED_TIME = 1, DISTANCE = 1,\n",
    "           DAY_OF_WEEK = 1, HOUR = 1, ORIGIN_AIRPORT_RANK = 1, DESTINATION_AIRPORT_RANK = 1,\n",
    "           AIRLINE_RANK = 1)\n",
    "\n",
    "X_test = X_maker(flights_test, MONTH = 1, DAY = 1, SCHEDULED_TIME = 1, DISTANCE = 1,\n",
    "           DAY_OF_WEEK = 1, HOUR = 1, ORIGIN_AIRPORT_RANK = 1, DESTINATION_AIRPORT_RANK = 1,\n",
    "           AIRLINE_RANK = 1)\n",
    "\n",
    "logistic = LogisticRegression()\n",
    "logistic.fit(X, flights_train.DELAYED)\n",
    "\n",
    "print('Model accuracy:', str(sum(logistic.predict(X_test) == flights_test.DELAYED)/len(flights_test.DELAYED) * 100) + '%')"
   ]
  },
  {
   "cell_type": "markdown",
   "metadata": {
    "collapsed": true,
    "nbpresent": {
     "id": "c361b622-992e-46db-9ed2-47b409cebb2a"
    }
   },
   "source": [
    "This model has the exact same accuracy as the base model. Besides, if we take a look at the confusion matrix, we can see that they make the same predictions (i.e. they always predict that the plane will be on time)."
   ]
  },
  {
   "cell_type": "markdown",
   "metadata": {
    "nbpresent": {
     "id": "a87113eb-a3b1-45cb-b141-86b40cd73c44"
    }
   },
   "source": [
    "### 5.2.3. Logistic regression with polynomial degrees"
   ]
  },
  {
   "cell_type": "code",
   "execution_count": 75,
   "metadata": {
    "nbpresent": {
     "id": "10df3063-2be6-4e09-9be5-ba9ec7cb190f"
    }
   },
   "outputs": [
    {
     "name": "stdout",
     "output_type": "stream",
     "text": [
      "Model accuracy: 81.8760663995%\n"
     ]
    }
   ],
   "source": [
    "pw = 4\n",
    "\n",
    "X = X_maker(flights_train, MONTH = pw, DAY = pw, SCHEDULED_TIME = pw, DISTANCE = pw,\n",
    "           DAY_OF_WEEK = pw, HOUR = pw, ORIGIN_AIRPORT_RANK = pw, DESTINATION_AIRPORT_RANK = pw,\n",
    "           AIRLINE_RANK = pw)\n",
    "\n",
    "X_test = X_maker(flights_test, MONTH = pw, DAY = pw, SCHEDULED_TIME = pw, DISTANCE = pw,\n",
    "           DAY_OF_WEEK = pw, HOUR = pw, ORIGIN_AIRPORT_RANK = pw, DESTINATION_AIRPORT_RANK = pw,\n",
    "           AIRLINE_RANK = pw)\n",
    "\n",
    "logistic = LogisticRegression()\n",
    "logistic.fit(X, flights_train.DELAYED)\n",
    "\n",
    "print('Model accuracy:', str(sum(logistic.predict(X_test) == flights_test.DELAYED)/len(flights_test.DELAYED) * 100) + '%')"
   ]
  },
  {
   "cell_type": "markdown",
   "metadata": {
    "nbpresent": {
     "id": "19a56e69-8cad-4fb6-8491-f798c813ccae"
    }
   },
   "source": [
    "Despite the added complexity and the better fit of the model, we find that this new model actually performs *worse* than the base model."
   ]
  },
  {
   "cell_type": "markdown",
   "metadata": {
    "nbpresent": {
     "id": "a2460c7b-3801-4a81-bd9d-807769f1ee1f"
    }
   },
   "source": [
    "### 5.2.4. Logistic regression with one hot encoding"
   ]
  },
  {
   "cell_type": "code",
   "execution_count": 76,
   "metadata": {
    "collapsed": true,
    "nbpresent": {
     "id": "81ea23b4-d4e0-4ef0-accf-97941688864e"
    }
   },
   "outputs": [],
   "source": [
    "#Set numerical dataset and categorical datset respectively \n",
    "sampleflights = flights.sample(frac=1)\n",
    "num_df = sampleflights[['DURATION','DISTANCE']].astype('float') # Numerical features\n",
    "\n",
    "categ_df = sampleflights[['DEPARTURE_HOUR','DAY_OF_WEEK','MONTH','ORIGIN_AIRPORT_RANK','DESTINATION_AIRPORT_RANK','AIRLINE_RANK']] #categorical, nostring\n",
    "\n",
    "\n",
    "# Turn the categorical variable to one hot encoding \n",
    "    \n",
    "encoder = OneHotEncoder() # Create encoder object\n",
    "categ_df_encoded = encoder.fit_transform(categ_df) \n",
    "\n",
    "#since the dataset is massive, have to create array sparse for the numerical ones to combine with categorical one \n",
    "num_df_sparse = sparse.csr_matrix(num_df)\n",
    "\n",
    "# num_df_sparse and categ_df_encoded are sparse matric which can be combined \n",
    "x_final=sparse.hstack((num_df_sparse, categ_df_encoded))"
   ]
  },
  {
   "cell_type": "code",
   "execution_count": 77,
   "metadata": {
    "collapsed": true,
    "nbpresent": {
     "id": "e4e84566-94c5-46fe-9ab4-ad5ec7213357"
    }
   },
   "outputs": [],
   "source": [
    "# we set dummy variables for ARRIVAL_DELAY\n",
    "y = sampleflights['ARRIVAL_DELAY'].values\n",
    "y_final = np.where(y > 15, 1, 0)"
   ]
  },
  {
   "cell_type": "code",
   "execution_count": 78,
   "metadata": {
    "nbpresent": {
     "id": "60317bcd-fd7f-49ee-b0b0-624c0785a033"
    }
   },
   "outputs": [
    {
     "data": {
      "text/plain": [
       "LogisticRegression(C=1, class_weight=None, dual=False, fit_intercept=True,\n",
       "          intercept_scaling=1, max_iter=100, multi_class='ovr', n_jobs=1,\n",
       "          penalty='l2', random_state=None, solver='liblinear', tol=0.0001,\n",
       "          verbose=0, warm_start=False)"
      ]
     },
     "execution_count": 78,
     "metadata": {},
     "output_type": "execute_result"
    }
   ],
   "source": [
    "x_train, x_test, y_train, y_test = train_test_split(x_final,y_final,test_size = 0.2,random_state = 0) \n",
    "\n",
    "model = LogisticRegression(penalty = 'l2', C=1)\n",
    "model.fit(x_train,y_train)"
   ]
  },
  {
   "cell_type": "code",
   "execution_count": 79,
   "metadata": {
    "nbpresent": {
     "id": "9f02695c-c54a-4c51-9ebb-dfefeb470360"
    }
   },
   "outputs": [
    {
     "name": "stdout",
     "output_type": "stream",
     "text": [
      "Accuracy of logistic regression classifier on test set: 0.819405\n"
     ]
    }
   ],
   "source": [
    "y_pred = model.predict(x_test)\n",
    "print('Accuracy of logistic regression classifier on test set: {:.6f}'.format(model.score(x_test, y_test)))"
   ]
  },
  {
   "cell_type": "code",
   "execution_count": 80,
   "metadata": {
    "nbpresent": {
     "id": "2f730d32-e47b-4523-af79-0f3fc8b9fabd"
    }
   },
   "outputs": [
    {
     "name": "stdout",
     "output_type": "stream",
     "text": [
      "[[843266     14]\n",
      " [185848     36]]\n"
     ]
    }
   ],
   "source": [
    "confusion_matrix = confusion_matrix(y_test, y_pred)\n",
    "print(confusion_matrix)"
   ]
  },
  {
   "cell_type": "code",
   "execution_count": 81,
   "metadata": {
    "nbpresent": {
     "id": "9f4f72ea-90f8-437b-93e2-ce77c9696c06"
    }
   },
   "outputs": [
    {
     "data": {
      "image/png": "[encoded data removed]",
      "text/plain": [
       "<matplotlib.figure.Figure at 0x18000953780>"
      ]
     },
     "metadata": {},
     "output_type": "display_data"
    }
   ],
   "source": [
    "logit_roc_auc = roc_auc_score(y_test, model.predict(x_test))\n",
    "fpr, tpr, thresholds = roc_curve(y_test, model.predict_proba(x_test)[:,1])\n",
    "plt.figure()\n",
    "plt.plot(fpr, tpr, label='Logistic Regression (area = %0.4f)' % logit_roc_auc)\n",
    "plt.xlim([0.0, 1.0])\n",
    "plt.ylim([0.0, 1.0])\n",
    "plt.xlabel('False Positive Rate')\n",
    "plt.ylabel('True Positive Rate')\n",
    "plt.title('Flight Delays')\n",
    "plt.savefig('Log_ROC')\n",
    "plt.plot([0, 1], [0, 1],'r--')\n",
    "plt.show()"
   ]
  },
  {
   "cell_type": "markdown",
   "metadata": {
    "nbpresent": {
     "id": "15b6964a-4363-467e-a5d6-065d87df79f3"
    }
   },
   "source": [
    "We draw the receiver operating characteristic (ROC) curve and find that our classifier is good. The dotted red line represents the ROC curve caused from a random classifier and our classifier (the blue solid line) toward the top-left corner and far away from the red line."
   ]
  },
  {
   "cell_type": "markdown",
   "metadata": {
    "nbpresent": {
     "id": "c0fbc392-8219-478f-bbf5-97fb763a88c3"
    }
   },
   "source": [
    "# Conclusion\n",
    "No matter the technique, the results we obtained from our regressions were generally not that conclusive, with the exception of the models where we included the departure delay as a variable, which greatly reduces the practical interest of such model.\n",
    "\n",
    "In order to make better predictions, we would need more pieces of external information:\n",
    "- Weather: It would be much more precise if the model is integrated with weather data since the weather conditions tend to be the most significant factors that influence the departure delay (arrival delay) due to the origin airport (destination airport). \n",
    "- Holidays:It is reasonable that airlines are likely to be under stress around holidays, so the model would be more precise with this decent predictor.\n",
    "- Interaction effects: In practice, the interaction effects between time and weekend, distance and weekend or holiday, etc might be investigated by adding interaction terms in the model."
   ]
  }
 ],
 "metadata": {
  "anaconda-cloud": {},
  "celltoolbar": "Raw Cell Format",
  "kernelspec": {
   "display_name": "Python 3",
   "language": "python",
   "name": "python3"
  },
  "language_info": {
   "codemirror_mode": {
    "name": "ipython",
    "version": 3
   },
   "file_extension": ".py",
   "mimetype": "text/x-python",
   "name": "python",
   "nbconvert_exporter": "python",
   "pygments_lexer": "ipython3",
   "version": "3.6.3"
  },
  "nbpresent": {
   "slides": {
    "0116c512-e478-4cc3-a6f6-10b320c134f5": {
     "id": "0116c512-e478-4cc3-a6f6-10b320c134f5",
     "prev": "05551eb4-8ebc-4890-8e31-2bef03e29078",
     "regions": {
      "a31e1da8-cc9d-4132-8ee3-33b10f0fb545": {
       "attrs": {
        "height": 0.8,
        "width": 0.8,
        "x": 0.1,
        "y": 0.1
       },
       "content": {
        "cell": "868722ee-fc1c-4cce-b4d7-2af6ce9e1799",
        "part": "whole"
       },
       "id": "a31e1da8-cc9d-4132-8ee3-33b10f0fb545"
      }
     }
    },
    "02f8c614-a948-4adb-b813-8f315a880310": {
     "id": "02f8c614-a948-4adb-b813-8f315a880310",
     "prev": "8ce0ce7c-df5d-4f7a-8f31-7d45375c9c74",
     "regions": {
      "811e376b-8c97-4dfa-8ede-f8e992aec69d": {
       "attrs": {
        "height": 0.8,
        "width": 0.8,
        "x": 0.1,
        "y": 0.1
       },
       "content": {
        "cell": "e843f68c-b018-46aa-a7c6-d7320f31c92f",
        "part": "whole"
       },
       "id": "811e376b-8c97-4dfa-8ede-f8e992aec69d"
      }
     }
    },
    "05551eb4-8ebc-4890-8e31-2bef03e29078": {
     "id": "05551eb4-8ebc-4890-8e31-2bef03e29078",
     "prev": "02f8c614-a948-4adb-b813-8f315a880310",
     "regions": {
      "4666cb1c-0d59-4128-9c53-1b920e071cea": {
       "attrs": {
        "height": 0.8,
        "width": 0.8,
        "x": 0.1,
        "y": 0.1
       },
       "content": {
        "cell": "66157c04-f8ae-42d6-9eba-d52638574e16",
        "part": "whole"
       },
       "id": "4666cb1c-0d59-4128-9c53-1b920e071cea"
      }
     }
    },
    "07072d28-2915-47cc-8b58-e820ef8d8fb9": {
     "id": "07072d28-2915-47cc-8b58-e820ef8d8fb9",
     "prev": "917b94c2-f6ab-4f83-be2f-3b96d66a1a71",
     "regions": {
      "6adc8c2c-fdce-45af-8be0-1be2b57d1464": {
       "attrs": {
        "height": 0.8,
        "width": 0.8,
        "x": 0.1,
        "y": 0.1
       },
       "content": {
        "cell": "882fe211-1509-42fa-9aad-637812f9c56b",
        "part": "whole"
       },
       "id": "6adc8c2c-fdce-45af-8be0-1be2b57d1464"
      }
     }
    },
    "07a54594-899c-45e6-85bd-d34f86048be4": {
     "id": "07a54594-899c-45e6-85bd-d34f86048be4",
     "prev": "d5aa6ddd-b8de-4ba8-bceb-2a72f8ed5cd6",
     "regions": {
      "dbed3a95-a21f-4971-8f8f-c767d020ac4a": {
       "attrs": {
        "height": 0.8,
        "width": 0.8,
        "x": 0.1,
        "y": 0.1
       },
       "content": {
        "cell": "cf5ceb34-0371-40d6-97eb-5265ba37314d",
        "part": "whole"
       },
       "id": "dbed3a95-a21f-4971-8f8f-c767d020ac4a"
      }
     }
    },
    "0b6f2368-3da1-4ab3-be55-72a2816be0b1": {
     "id": "0b6f2368-3da1-4ab3-be55-72a2816be0b1",
     "prev": "9f34e51a-8d17-4d45-977f-765c10e8af60",
     "regions": {
      "1ec44645-fe78-4f12-990b-c76e9c3d21c0": {
       "attrs": {
        "height": 0.8,
        "width": 0.8,
        "x": 0.1,
        "y": 0.1
       },
       "content": {
        "cell": "a492e978-e12f-4b9b-92ff-ad6df186c3cc",
        "part": "whole"
       },
       "id": "1ec44645-fe78-4f12-990b-c76e9c3d21c0"
      }
     }
    },
    "0c3a78c5-0613-4d5e-b38a-011e2f67a3f8": {
     "id": "0c3a78c5-0613-4d5e-b38a-011e2f67a3f8",
     "prev": "c8af94a5-7b25-40ed-8bc7-88f5cd1c5f69",
     "regions": {
      "9596554e-e1eb-4905-93c6-27de7c39e88c": {
       "attrs": {
        "height": 0.8,
        "width": 0.8,
        "x": 0.1,
        "y": 0.1
       },
       "content": {
        "cell": "995b9bb4-5f09-4480-85b1-7530fa6ab54c",
        "part": "whole"
       },
       "id": "9596554e-e1eb-4905-93c6-27de7c39e88c"
      }
     }
    },
    "0ee585bc-099f-46c8-94c2-54bf611db434": {
     "id": "0ee585bc-099f-46c8-94c2-54bf611db434",
     "prev": "bdfbe9a6-224b-4fa1-8517-281553b2dcd6",
     "regions": {
      "d6838e25-a6d0-4eb6-bf61-4bcdfc447797": {
       "attrs": {
        "height": 0.8,
        "width": 0.8,
        "x": 0.1,
        "y": 0.1
       },
       "content": {
        "cell": "3a863ce0-d349-471b-850c-fd50b3ed3843",
        "part": "whole"
       },
       "id": "d6838e25-a6d0-4eb6-bf61-4bcdfc447797"
      }
     }
    },
    "10b11abb-3a0b-4aa1-8b19-66e07875a697": {
     "id": "10b11abb-3a0b-4aa1-8b19-66e07875a697",
     "prev": "73c34006-8290-4499-85bd-512010d2350e",
     "regions": {
      "d2a38fa5-bfa9-469f-99cc-7007ee8382e4": {
       "attrs": {
        "height": 0.8,
        "width": 0.8,
        "x": 0.1,
        "y": 0.1
       },
       "content": {
        "cell": "8aea2123-c9ec-4cf0-8930-936e1425ae2b",
        "part": "whole"
       },
       "id": "d2a38fa5-bfa9-469f-99cc-7007ee8382e4"
      }
     }
    },
    "11da370f-95f9-4c90-a2dc-658b67f3b2a5": {
     "id": "11da370f-95f9-4c90-a2dc-658b67f3b2a5",
     "prev": "e02c5282-7c4e-44ce-b7e1-6dc041567545",
     "regions": {
      "a8d3d4c7-660b-424f-9f62-c4bea97a246c": {
       "attrs": {
        "height": 0.8,
        "width": 0.8,
        "x": 0.1,
        "y": 0.1
       },
       "content": {
        "cell": "e3ddc2b6-0522-43f0-a1c6-fa6091698d75",
        "part": "whole"
       },
       "id": "a8d3d4c7-660b-424f-9f62-c4bea97a246c"
      }
     }
    },
    "167e7a28-4126-4c2c-9374-1f1c8f0b51bb": {
     "id": "167e7a28-4126-4c2c-9374-1f1c8f0b51bb",
     "prev": "a00c00b5-3264-4668-9ae5-f37fe9d5a5d5",
     "regions": {
      "561a90b1-5fe9-4910-a5e4-2f5edf004560": {
       "attrs": {
        "height": 0.8,
        "width": 0.8,
        "x": 0.1,
        "y": 0.1
       },
       "content": {
        "cell": "d836eede-ff31-4ebd-ada4-44cf8a9b1e5f",
        "part": "whole"
       },
       "id": "561a90b1-5fe9-4910-a5e4-2f5edf004560"
      }
     }
    },
    "16dc1be2-ffb4-46f3-80ee-c0636e0a900a": {
     "id": "16dc1be2-ffb4-46f3-80ee-c0636e0a900a",
     "prev": "474494cf-8ddc-412b-bc12-1b7cbc352fa6",
     "regions": {
      "150f8fa9-40b3-4812-97c8-ca377ff3cdba": {
       "attrs": {
        "height": 0.8,
        "width": 0.8,
        "x": 0.1,
        "y": 0.1
       },
       "content": {
        "cell": "7043f365-cad0-4d63-ad18-9f22a3c300fe",
        "part": "whole"
       },
       "id": "150f8fa9-40b3-4812-97c8-ca377ff3cdba"
      }
     }
    },
    "1b156bfa-80b7-4ae3-a6da-9707dfbfddd7": {
     "id": "1b156bfa-80b7-4ae3-a6da-9707dfbfddd7",
     "prev": "54f219da-8f1b-407f-b18d-1a4b5e352fa0",
     "regions": {
      "45205ace-b397-460f-aa46-67f5f447073d": {
       "attrs": {
        "height": 0.8,
        "width": 0.8,
        "x": 0.1,
        "y": 0.1
       },
       "content": {
        "cell": "66c74017-e32f-49f1-aeb7-20f2f948312e",
        "part": "whole"
       },
       "id": "45205ace-b397-460f-aa46-67f5f447073d"
      }
     }
    },
    "20a8d5b2-5b23-4c86-9ca9-dd5f0687e83a": {
     "id": "20a8d5b2-5b23-4c86-9ca9-dd5f0687e83a",
     "prev": "80662fee-07b3-488d-819e-acb30adc65fd",
     "regions": {
      "6ca1cad6-f3fa-4031-b6d9-154fd55fc831": {
       "attrs": {
        "height": 0.8,
        "width": 0.8,
        "x": 0.1,
        "y": 0.1
       },
       "content": {
        "cell": "0f0f42e4-73fe-4b1d-ba28-509b5220b9c6",
        "part": "whole"
       },
       "id": "6ca1cad6-f3fa-4031-b6d9-154fd55fc831"
      }
     }
    },
    "21785b9d-5af6-432f-9238-6cda4d025025": {
     "id": "21785b9d-5af6-432f-9238-6cda4d025025",
     "prev": "7d1dcd2f-83d3-4bf0-8c8a-aa5afc850fb2",
     "regions": {
      "31af9786-a858-4797-be6d-3cdf6c3691fa": {
       "attrs": {
        "height": 0.8,
        "width": 0.8,
        "x": 0.1,
        "y": 0.1
       },
       "content": {
        "cell": "580a8c06-245d-49c6-901f-2aa95fa5b45f",
        "part": "whole"
       },
       "id": "31af9786-a858-4797-be6d-3cdf6c3691fa"
      }
     }
    },
    "230d56a1-52e8-4181-b886-16105a11b344": {
     "id": "230d56a1-52e8-4181-b886-16105a11b344",
     "prev": "5a34268e-e053-4f25-9230-19589848d4de",
     "regions": {
      "db188a6b-6fcc-4815-8b9b-efd73d6ce07b": {
       "attrs": {
        "height": 0.8,
        "width": 0.8,
        "x": 0.1,
        "y": 0.1
       },
       "content": {
        "cell": "7152b98d-4175-460a-8c35-c583c3bda660",
        "part": "whole"
       },
       "id": "db188a6b-6fcc-4815-8b9b-efd73d6ce07b"
      }
     }
    },
    "23eea186-7170-4583-82d3-b92c1a7d2715": {
     "id": "23eea186-7170-4583-82d3-b92c1a7d2715",
     "prev": "c0d26678-6f9e-491a-a366-786e4cf39f21",
     "regions": {
      "56ba3a1b-d4b7-4aec-bf39-17e159254c6f": {
       "attrs": {
        "height": 0.8,
        "width": 0.8,
        "x": 0.1,
        "y": 0.1
       },
       "content": {
        "cell": "893afa73-2d25-4f01-a695-34ecad0ad171",
        "part": "whole"
       },
       "id": "56ba3a1b-d4b7-4aec-bf39-17e159254c6f"
      }
     }
    },
    "26390cc9-6e70-4dc3-91db-6b92948ade55": {
     "id": "26390cc9-6e70-4dc3-91db-6b92948ade55",
     "prev": "7c06c436-bfef-406f-be92-54b3058e474a",
     "regions": {
      "abb77d61-9369-4ab3-8241-ac31fa34c28e": {
       "attrs": {
        "height": 0.8,
        "width": 0.8,
        "x": 0.1,
        "y": 0.1
       },
       "content": {
        "cell": "7f9303d3-2fb4-4be6-ab79-fcfb520165f4",
        "part": "whole"
       },
       "id": "abb77d61-9369-4ab3-8241-ac31fa34c28e"
      }
     }
    },
    "2671b924-162a-4202-ac0c-d7b94fd22872": {
     "id": "2671b924-162a-4202-ac0c-d7b94fd22872",
     "prev": "f6e64197-0b61-48c6-b0c7-34ea0b2278a3",
     "regions": {
      "635a9a2e-2271-407d-9105-519671a641ae": {
       "attrs": {
        "height": 0.8,
        "width": 0.8,
        "x": 0.1,
        "y": 0.1
       },
       "content": {
        "cell": "c53da744-1dcc-4ace-a33c-f88dad00b000",
        "part": "whole"
       },
       "id": "635a9a2e-2271-407d-9105-519671a641ae"
      }
     }
    },
    "2827665c-81b7-4a3f-8023-c1df74c35f37": {
     "id": "2827665c-81b7-4a3f-8023-c1df74c35f37",
     "prev": "4f02186b-a9a3-4894-9339-0a6d8425c540",
     "regions": {
      "b3262ad7-be3c-4b1d-871e-473964fc24dd": {
       "attrs": {
        "height": 0.8,
        "width": 0.8,
        "x": 0.1,
        "y": 0.1
       },
       "content": {
        "cell": "9509fc3e-00ac-4c41-be10-a155f8e73a89",
        "part": "whole"
       },
       "id": "b3262ad7-be3c-4b1d-871e-473964fc24dd"
      }
     }
    },
    "2b1fc9a5-c3ac-48fc-95aa-5e152b5117f1": {
     "id": "2b1fc9a5-c3ac-48fc-95aa-5e152b5117f1",
     "prev": "40883e17-ea45-41c5-8537-a8b352ec5f26",
     "regions": {
      "4ccdaaaa-ee6b-4745-9fe2-19b37042905e": {
       "attrs": {
        "height": 0.8,
        "width": 0.8,
        "x": 0.1,
        "y": 0.1
       },
       "content": {
        "cell": "7de071a8-c85c-4d10-8367-8e7bbf3cf783",
        "part": "whole"
       },
       "id": "4ccdaaaa-ee6b-4745-9fe2-19b37042905e"
      }
     }
    },
    "2da3e757-190f-4d7d-ae76-c3db93a89052": {
     "id": "2da3e757-190f-4d7d-ae76-c3db93a89052",
     "prev": "8a2aebbf-8e37-46f8-b819-c7e1befa9e32",
     "regions": {
      "78791426-9d4f-4049-b361-8dc227df774a": {
       "attrs": {
        "height": 0.8,
        "width": 0.8,
        "x": 0.1,
        "y": 0.1
       },
       "content": {
        "cell": "07bf08ac-a0f2-441f-aa54-8fb325a1e357",
        "part": "whole"
       },
       "id": "78791426-9d4f-4049-b361-8dc227df774a"
      }
     }
    },
    "2e6f005c-7429-416c-b8ea-b7194c4ca975": {
     "id": "2e6f005c-7429-416c-b8ea-b7194c4ca975",
     "prev": "5d8e510f-9bca-4e7c-89e4-522e5a41b0d9",
     "regions": {
      "381590fa-f226-4301-af5a-31e3c533beb3": {
       "attrs": {
        "height": 0.8,
        "width": 0.8,
        "x": 0.1,
        "y": 0.1
       },
       "content": {
        "cell": "238f4ca4-ec70-4deb-8985-061150286e00",
        "part": "whole"
       },
       "id": "381590fa-f226-4301-af5a-31e3c533beb3"
      }
     }
    },
    "31b43104-d1b1-4195-b018-fd616930c7c9": {
     "id": "31b43104-d1b1-4195-b018-fd616930c7c9",
     "prev": "cce7e02e-48af-48c9-a9e7-7191efbc9ff0",
     "regions": {
      "31a242bb-be5b-4c9c-8c47-2e5f645b2122": {
       "attrs": {
        "height": 0.8,
        "width": 0.8,
        "x": 0.1,
        "y": 0.1
       },
       "content": {
        "cell": "ceae939e-614f-42c7-a7e6-2094342b8cb0",
        "part": "whole"
       },
       "id": "31a242bb-be5b-4c9c-8c47-2e5f645b2122"
      }
     }
    },
    "35f8d034-2270-41b5-86b3-943e8a6e9d7d": {
     "id": "35f8d034-2270-41b5-86b3-943e8a6e9d7d",
     "prev": "aa8297a7-c3fc-451b-ba09-5808b4444889",
     "regions": {
      "bc4f2e58-e3ac-4ad7-849b-31096291afa2": {
       "attrs": {
        "height": 0.8,
        "width": 0.8,
        "x": 0.1,
        "y": 0.1
       },
       "content": {
        "cell": "732d79c3-f029-4e80-8622-2bdb039e3cc3",
        "part": "whole"
       },
       "id": "bc4f2e58-e3ac-4ad7-849b-31096291afa2"
      }
     }
    },
    "37fd5a4a-56be-4cb4-ba1c-c13496ae1dcf": {
     "id": "37fd5a4a-56be-4cb4-ba1c-c13496ae1dcf",
     "prev": "5d8000bd-be29-47f4-937d-316339dfdb7c",
     "regions": {
      "205e6f70-8c63-455b-a60d-e332ecb70fa0": {
       "attrs": {
        "height": 0.8,
        "width": 0.8,
        "x": 0.1,
        "y": 0.1
       },
       "content": {
        "cell": "1d9238ce-579f-4065-99fa-de3655bf25ea",
        "part": "whole"
       },
       "id": "205e6f70-8c63-455b-a60d-e332ecb70fa0"
      }
     }
    },
    "3809727f-50f9-4500-8296-c1bb451aa275": {
     "id": "3809727f-50f9-4500-8296-c1bb451aa275",
     "prev": "60167e7b-3e97-4a12-87e8-60266f07eae4",
     "regions": {
      "2744d407-196b-4d09-9b04-13888f557517": {
       "attrs": {
        "height": 0.8,
        "width": 0.8,
        "x": 0.1,
        "y": 0.1
       },
       "content": {
        "cell": "e21468a5-0f6d-416b-83f5-253fc923c9be",
        "part": "whole"
       },
       "id": "2744d407-196b-4d09-9b04-13888f557517"
      }
     }
    },
    "39f86d2c-5d43-4b84-bd62-07777ddb0baa": {
     "id": "39f86d2c-5d43-4b84-bd62-07777ddb0baa",
     "prev": "07072d28-2915-47cc-8b58-e820ef8d8fb9",
     "regions": {
      "e49504b7-3b11-420d-a204-0cea0eb4a852": {
       "attrs": {
        "height": 0.8,
        "width": 0.8,
        "x": 0.1,
        "y": 0.1
       },
       "content": {
        "cell": "7021c4e6-8001-420a-bbd0-ab31d2717bb7",
        "part": "whole"
       },
       "id": "e49504b7-3b11-420d-a204-0cea0eb4a852"
      }
     }
    },
    "3a4c1435-fa0f-4698-98f0-ce423ec8709c": {
     "id": "3a4c1435-fa0f-4698-98f0-ce423ec8709c",
     "prev": "77ec66e0-451e-4b7d-98ef-ef6335d59bd1",
     "regions": {
      "8ad5b269-0835-43e4-942f-7816497f94a8": {
       "attrs": {
        "height": 0.8,
        "width": 0.8,
        "x": 0.1,
        "y": 0.1
       },
       "content": {
        "cell": "fbdbb46b-4385-441b-93e3-88f5a20a836e",
        "part": "whole"
       },
       "id": "8ad5b269-0835-43e4-942f-7816497f94a8"
      }
     }
    },
    "40883e17-ea45-41c5-8537-a8b352ec5f26": {
     "id": "40883e17-ea45-41c5-8537-a8b352ec5f26",
     "prev": "6b0d58a7-93b1-4deb-aabd-cc705afff1ff",
     "regions": {
      "90e07469-c961-44eb-9597-5d20042d6d77": {
       "attrs": {
        "height": 0.8,
        "width": 0.8,
        "x": 0.1,
        "y": 0.1
       },
       "content": {
        "cell": "b587fbe6-dcec-4201-a459-d5d17d5226d9",
        "part": "whole"
       },
       "id": "90e07469-c961-44eb-9597-5d20042d6d77"
      }
     }
    },
    "40d2de1c-52a9-4fbb-aa8f-595eb866cdac": {
     "id": "40d2de1c-52a9-4fbb-aa8f-595eb866cdac",
     "prev": "7dcf19b3-21b8-42e3-9d87-073b69c12377",
     "regions": {
      "46f32eb0-bf95-4503-81d1-243fe6025160": {
       "attrs": {
        "height": 0.8,
        "width": 0.8,
        "x": 0.1,
        "y": 0.1
       },
       "content": {
        "cell": "a87113eb-a3b1-45cb-b141-86b40cd73c44",
        "part": "whole"
       },
       "id": "46f32eb0-bf95-4503-81d1-243fe6025160"
      }
     }
    },
    "41bcb621-41db-42b7-b0ed-c5c5db127dff": {
     "id": "41bcb621-41db-42b7-b0ed-c5c5db127dff",
     "prev": "96b2f4af-4a65-4ed8-b9ca-dc2977bc4a46",
     "regions": {
      "57e10e2d-ca94-4ee5-8f21-4a8c413fcccc": {
       "attrs": {
        "height": 0.8,
        "width": 0.8,
        "x": 0.1,
        "y": 0.1
       },
       "content": {
        "cell": "81ea23b4-d4e0-4ef0-accf-97941688864e",
        "part": "whole"
       },
       "id": "57e10e2d-ca94-4ee5-8f21-4a8c413fcccc"
      }
     }
    },
    "449e1125-8448-4fc3-8c38-eeb0754f84b3": {
     "id": "449e1125-8448-4fc3-8c38-eeb0754f84b3",
     "prev": "9a2bcf5d-27f8-4198-bdb5-b878f1866e4f",
     "regions": {
      "b18e7587-e7af-48e4-b821-89ef3fec06a2": {
       "attrs": {
        "height": 0.8,
        "width": 0.8,
        "x": 0.1,
        "y": 0.1
       },
       "content": {
        "cell": "2ccd2a24-5411-4af3-a7f2-19adc06edd2c",
        "part": "whole"
       },
       "id": "b18e7587-e7af-48e4-b821-89ef3fec06a2"
      }
     }
    },
    "4592185e-0caf-478d-b86d-4d15d607eb31": {
     "id": "4592185e-0caf-478d-b86d-4d15d607eb31",
     "prev": "449e1125-8448-4fc3-8c38-eeb0754f84b3",
     "regions": {
      "7b670137-3e2f-4c00-be7e-3b18a52b1f2b": {
       "attrs": {
        "height": 0.8,
        "width": 0.8,
        "x": 0.1,
        "y": 0.1
       },
       "content": {
        "cell": "e4911b3a-f234-4cea-b583-4901122dd117",
        "part": "whole"
       },
       "id": "7b670137-3e2f-4c00-be7e-3b18a52b1f2b"
      }
     }
    },
    "474494cf-8ddc-412b-bc12-1b7cbc352fa6": {
     "id": "474494cf-8ddc-412b-bc12-1b7cbc352fa6",
     "prev": "6d84c70d-9b59-4659-be99-aed0f2dcdeee",
     "regions": {
      "1d8cb8cc-4c07-447b-92cf-87950330e593": {
       "attrs": {
        "height": 0.8,
        "width": 0.8,
        "x": 0.1,
        "y": 0.1
       },
       "content": {
        "cell": "016cdc44-b336-48b2-9353-186699aaf84e",
        "part": "whole"
       },
       "id": "1d8cb8cc-4c07-447b-92cf-87950330e593"
      }
     }
    },
    "4882ca12-6a87-4c08-9f1e-69e1d4949586": {
     "id": "4882ca12-6a87-4c08-9f1e-69e1d4949586",
     "prev": "d639d628-8cb6-4b6f-b6ee-e6cd29b89016",
     "regions": {
      "d2cdf5c0-71df-451c-8ab7-32fcf465fb6d": {
       "attrs": {
        "height": 0.8,
        "width": 0.8,
        "x": 0.1,
        "y": 0.1
       },
       "content": {
        "cell": "19a56e69-8cad-4fb6-8491-f798c813ccae",
        "part": "whole"
       },
       "id": "d2cdf5c0-71df-451c-8ab7-32fcf465fb6d"
      }
     }
    },
    "49cfce6d-e326-4b25-8e80-63890c856c8d": {
     "id": "49cfce6d-e326-4b25-8e80-63890c856c8d",
     "prev": "7a8a2170-e518-4f02-937f-c17a5b7b246c",
     "regions": {
      "13f5e894-d328-4fdf-9ed6-c1acc2427c7d": {
       "attrs": {
        "height": 0.8,
        "width": 0.8,
        "x": 0.1,
        "y": 0.1
       },
       "content": {
        "cell": "e02a73e9-abea-4ffa-ba55-7b85829755ff",
        "part": "whole"
       },
       "id": "13f5e894-d328-4fdf-9ed6-c1acc2427c7d"
      }
     }
    },
    "4ce5174c-6ecb-40af-8e2f-8c759bcf5d75": {
     "id": "4ce5174c-6ecb-40af-8e2f-8c759bcf5d75",
     "prev": "e70f1d40-5601-4382-b293-ad2ba7a38feb",
     "regions": {
      "c5b4bc25-703c-43a4-bd63-2b577edaaba6": {
       "attrs": {
        "height": 0.8,
        "width": 0.8,
        "x": 0.1,
        "y": 0.1
       },
       "content": {
        "cell": "17706bbd-8e4f-44fc-a915-7d2626c23428",
        "part": "whole"
       },
       "id": "c5b4bc25-703c-43a4-bd63-2b577edaaba6"
      }
     }
    },
    "4f02186b-a9a3-4894-9339-0a6d8425c540": {
     "id": "4f02186b-a9a3-4894-9339-0a6d8425c540",
     "prev": "be1478ba-cfa0-46e6-bb9a-6deabc4688a3",
     "regions": {
      "e8362895-3ca8-4c6c-a5f2-ae59e072aa48": {
       "attrs": {
        "height": 0.8,
        "width": 0.8,
        "x": 0.1,
        "y": 0.1
       },
       "content": {
        "cell": "d0e122d1-7c2b-47f1-911b-6a14b81e6875",
        "part": "whole"
       },
       "id": "e8362895-3ca8-4c6c-a5f2-ae59e072aa48"
      }
     }
    },
    "5398e76e-bbfa-499e-9dc8-6293d8ab43b2": {
     "id": "5398e76e-bbfa-499e-9dc8-6293d8ab43b2",
     "prev": "b85a4af6-fd6c-4baf-bbbf-455fe1bc1589",
     "regions": {
      "e7e60b02-c087-4534-a15d-69826da70cac": {
       "attrs": {
        "height": 0.8,
        "width": 0.8,
        "x": 0.1,
        "y": 0.1
       },
       "content": {
        "cell": "f99c703f-74e5-49c4-99d8-17ec18bfc72f",
        "part": "whole"
       },
       "id": "e7e60b02-c087-4534-a15d-69826da70cac"
      }
     }
    },
    "5477ea46-bf58-48fb-a1bb-86e54fe9cbdb": {
     "id": "5477ea46-bf58-48fb-a1bb-86e54fe9cbdb",
     "prev": "2671b924-162a-4202-ac0c-d7b94fd22872",
     "regions": {
      "d21a64d7-7edb-49e2-a204-b03b0a19c211": {
       "attrs": {
        "height": 0.8,
        "width": 0.8,
        "x": 0.1,
        "y": 0.1
       },
       "content": {
        "cell": "e953963c-63f8-45f4-8746-5701abb561a0",
        "part": "whole"
       },
       "id": "d21a64d7-7edb-49e2-a204-b03b0a19c211"
      }
     }
    },
    "54f219da-8f1b-407f-b18d-1a4b5e352fa0": {
     "id": "54f219da-8f1b-407f-b18d-1a4b5e352fa0",
     "prev": "c7356ded-751e-48f5-a426-970bab96d044",
     "regions": {
      "78aa2381-033e-4973-bc00-bbbbf927df55": {
       "attrs": {
        "height": 0.8,
        "width": 0.8,
        "x": 0.1,
        "y": 0.1
       },
       "content": {
        "cell": "b365d13d-bbf3-4b0f-8354-aa1469c617aa",
        "part": "whole"
       },
       "id": "78aa2381-033e-4973-bc00-bbbbf927df55"
      }
     }
    },
    "57861a13-e5b1-4546-9613-d7523cb1b9ee": {
     "id": "57861a13-e5b1-4546-9613-d7523cb1b9ee",
     "prev": "c9b7fdb1-87ba-4179-acdb-86e0dba58bb7",
     "regions": {
      "28477e1a-868a-4d7d-91eb-7276ee0fbc56": {
       "attrs": {
        "height": 0.8,
        "width": 0.8,
        "x": 0.1,
        "y": 0.1
       },
       "content": {
        "cell": "563ae7cc-381c-4ca2-a225-9c52098a9593",
        "part": "whole"
       },
       "id": "28477e1a-868a-4d7d-91eb-7276ee0fbc56"
      }
     }
    },
    "57fd6d87-a1ad-4f23-b769-8f36551aaba6": {
     "id": "57fd6d87-a1ad-4f23-b769-8f36551aaba6",
     "prev": "82f287f3-387b-4c2a-813f-dacaca78cdb8",
     "regions": {
      "83f8776b-cec1-42ed-836d-150cee0dbeb0": {
       "attrs": {
        "height": 0.8,
        "width": 0.8,
        "x": 0.1,
        "y": 0.1
       },
       "content": {
        "cell": "ef3ac359-f3d7-48e3-a2f7-2781710f4153",
        "part": "whole"
       },
       "id": "83f8776b-cec1-42ed-836d-150cee0dbeb0"
      }
     }
    },
    "5a34268e-e053-4f25-9230-19589848d4de": {
     "id": "5a34268e-e053-4f25-9230-19589848d4de",
     "prev": "167e7a28-4126-4c2c-9374-1f1c8f0b51bb",
     "regions": {
      "c093aa39-f60d-492d-8243-b367a19e2e95": {
       "attrs": {
        "height": 0.8,
        "width": 0.8,
        "x": 0.1,
        "y": 0.1
       },
       "content": {
        "cell": "5cb27d30-fd2f-4a5d-ad4a-d38d0aa9bae3",
        "part": "whole"
       },
       "id": "c093aa39-f60d-492d-8243-b367a19e2e95"
      }
     }
    },
    "5bad6cc0-5fd5-433b-a019-f62425eac0dd": {
     "id": "5bad6cc0-5fd5-433b-a019-f62425eac0dd",
     "prev": "8e3912c4-8433-4e63-ade3-471dca28091f",
     "regions": {
      "7e1db5a2-096a-48d2-b018-a13a8228fc24": {
       "attrs": {
        "height": 0.8,
        "width": 0.8,
        "x": 0.1,
        "y": 0.1
       },
       "content": {
        "cell": "9f4f72ea-90f8-437b-93e2-ce77c9696c06",
        "part": "whole"
       },
       "id": "7e1db5a2-096a-48d2-b018-a13a8228fc24"
      }
     }
    },
    "5d1ea4b5-f5a9-4c65-a55e-53e1435224c2": {
     "id": "5d1ea4b5-f5a9-4c65-a55e-53e1435224c2",
     "prev": "88b4fd84-b931-496c-9a5b-3f251bcf70f9",
     "regions": {
      "8a6178ec-05f0-43e6-9769-60949e54b761": {
       "attrs": {
        "height": 0.8,
        "width": 0.8,
        "x": 0.1,
        "y": 0.1
       },
       "content": {
        "cell": "5ad99c0c-6f89-49ed-bd0d-cd4e71770957",
        "part": "whole"
       },
       "id": "8a6178ec-05f0-43e6-9769-60949e54b761"
      }
     }
    },
    "5d637c73-3c64-4234-a87c-00ac31454d0b": {
     "id": "5d637c73-3c64-4234-a87c-00ac31454d0b",
     "prev": "c08c0d17-51bc-4977-8128-b6a713717b07",
     "regions": {
      "a48bb740-921d-4b35-b8f0-207118be1c6a": {
       "attrs": {
        "height": 0.8,
        "width": 0.8,
        "x": 0.1,
        "y": 0.1
       },
       "content": {
        "cell": "070b526d-2c47-4f97-9d63-29efeed7e16e",
        "part": "whole"
       },
       "id": "a48bb740-921d-4b35-b8f0-207118be1c6a"
      }
     }
    },
    "5d8000bd-be29-47f4-937d-316339dfdb7c": {
     "id": "5d8000bd-be29-47f4-937d-316339dfdb7c",
     "prev": "ebf12b5f-8161-4546-bc64-1f37cb0e96ac",
     "regions": {
      "d987fa8c-28f2-49c2-83e5-6b71b6980410": {
       "attrs": {
        "height": 0.8,
        "width": 0.8,
        "x": 0.1,
        "y": 0.1
       },
       "content": {
        "cell": "6a526511-7247-4770-ac86-f03acfb3bc91",
        "part": "whole"
       },
       "id": "d987fa8c-28f2-49c2-83e5-6b71b6980410"
      }
     }
    },
    "5d8e510f-9bca-4e7c-89e4-522e5a41b0d9": {
     "id": "5d8e510f-9bca-4e7c-89e4-522e5a41b0d9",
     "prev": "b67b1c18-7421-4907-b74c-3d2d9f72d694",
     "regions": {
      "64d8a437-c01d-4a36-951e-a6299d3f2917": {
       "attrs": {
        "height": 0.8,
        "width": 0.8,
        "x": 0.1,
        "y": 0.1
       },
       "content": {
        "cell": "1c9786c8-bbd5-46b0-b839-058dfa3b3f65",
        "part": "whole"
       },
       "id": "64d8a437-c01d-4a36-951e-a6299d3f2917"
      }
     }
    },
    "5dcdfe44-491d-481d-a352-976cd56d1764": {
     "id": "5dcdfe44-491d-481d-a352-976cd56d1764",
     "prev": "0c3a78c5-0613-4d5e-b38a-011e2f67a3f8",
     "regions": {
      "5244bc86-488e-4f13-acc6-345893f1c244": {
       "attrs": {
        "height": 0.8,
        "width": 0.8,
        "x": 0.1,
        "y": 0.1
       },
       "content": {
        "cell": "8a17352c-ce30-44ec-a149-b2093742eab4",
        "part": "whole"
       },
       "id": "5244bc86-488e-4f13-acc6-345893f1c244"
      }
     }
    },
    "600a014d-8ecb-4a14-a424-96744bed9fec": {
     "id": "600a014d-8ecb-4a14-a424-96744bed9fec",
     "prev": "ad558413-cef6-4a6a-85fb-fa228cd0419d",
     "regions": {
      "5a31329a-9253-464c-b356-a2bd76d812a7": {
       "attrs": {
        "height": 0.8,
        "width": 0.8,
        "x": 0.1,
        "y": 0.1
       },
       "content": {
        "cell": "e5c4b7fa-4200-485f-b99d-b16317492c1a",
        "part": "whole"
       },
       "id": "5a31329a-9253-464c-b356-a2bd76d812a7"
      }
     }
    },
    "60167e7b-3e97-4a12-87e8-60266f07eae4": {
     "id": "60167e7b-3e97-4a12-87e8-60266f07eae4",
     "prev": "61551c7b-7f16-476b-89a4-1339971f09c9",
     "regions": {
      "34bc599c-41ae-469f-9064-1c6b32d0dd4c": {
       "attrs": {
        "height": 0.8,
        "width": 0.8,
        "x": 0.1,
        "y": 0.1
       },
       "content": {
        "cell": "d1bbc3f5-b416-4475-9ee3-55eb4698c7d1",
        "part": "whole"
       },
       "id": "34bc599c-41ae-469f-9064-1c6b32d0dd4c"
      }
     }
    },
    "61551c7b-7f16-476b-89a4-1339971f09c9": {
     "id": "61551c7b-7f16-476b-89a4-1339971f09c9",
     "prev": "b7c0fbb8-2231-44e5-84e7-7b25959bd836",
     "regions": {
      "4ffa130b-74bc-4264-aa08-6ce5b17902ea": {
       "attrs": {
        "height": 0.8,
        "width": 0.8,
        "x": 0.1,
        "y": 0.1
       },
       "content": {
        "cell": "c661b898-1c5d-4cf3-85cb-21293b181d38",
        "part": "whole"
       },
       "id": "4ffa130b-74bc-4264-aa08-6ce5b17902ea"
      }
     }
    },
    "65830ea1-87ff-4874-9f78-bd460879d466": {
     "id": "65830ea1-87ff-4874-9f78-bd460879d466",
     "prev": "6a0f6a48-b001-4e45-a469-9b962c67c2de",
     "regions": {
      "a008775c-8291-4efb-a8fc-9d5e4bae9446": {
       "attrs": {
        "height": 0.8,
        "width": 0.8,
        "x": 0.1,
        "y": 0.1
       },
       "content": {
        "cell": "e01866f1-7c44-4ab7-897b-bfa4c545d8c6",
        "part": "whole"
       },
       "id": "a008775c-8291-4efb-a8fc-9d5e4bae9446"
      }
     }
    },
    "65994f7c-8804-4dff-bafc-f497da248f27": {
     "id": "65994f7c-8804-4dff-bafc-f497da248f27",
     "prev": "b84336d3-e739-47a1-9d15-d02c796b7e27",
     "regions": {
      "502cd374-1735-4c2f-985a-b3e6883d454f": {
       "attrs": {
        "height": 0.8,
        "width": 0.8,
        "x": 0.1,
        "y": 0.1
       },
       "content": {
        "cell": "a90e45e5-a6ff-4bf6-9338-e6bf3dd6fd8a",
        "part": "whole"
       },
       "id": "502cd374-1735-4c2f-985a-b3e6883d454f"
      }
     }
    },
    "667a7c6f-bf05-4800-93ee-a8469a9a9eed": {
     "id": "667a7c6f-bf05-4800-93ee-a8469a9a9eed",
     "prev": "41bcb621-41db-42b7-b0ed-c5c5db127dff",
     "regions": {
      "48384856-9f4c-4462-86c6-160cba7bef10": {
       "attrs": {
        "height": 0.8,
        "width": 0.8,
        "x": 0.1,
        "y": 0.1
       },
       "content": {
        "cell": "e4e84566-94c5-46fe-9ab4-ad5ec7213357",
        "part": "whole"
       },
       "id": "48384856-9f4c-4462-86c6-160cba7bef10"
      }
     }
    },
    "69bd23a8-3533-4ed4-ba64-4ae785cbbe50": {
     "id": "69bd23a8-3533-4ed4-ba64-4ae785cbbe50",
     "prev": "20a8d5b2-5b23-4c86-9ca9-dd5f0687e83a",
     "regions": {
      "f7c8a7ea-0652-4b7d-b112-f7c4c6cbbd0f": {
       "attrs": {
        "height": 0.8,
        "width": 0.8,
        "x": 0.1,
        "y": 0.1
       },
       "content": {
        "cell": "8d942ac9-5d6b-42ad-9070-270efed42782",
        "part": "whole"
       },
       "id": "f7c8a7ea-0652-4b7d-b112-f7c4c6cbbd0f"
      }
     }
    },
    "69e3f461-36e7-4c17-ba1d-f1094d6f465b": {
     "id": "69e3f461-36e7-4c17-ba1d-f1094d6f465b",
     "prev": "b654c310-7139-417c-bccb-755e78838b86",
     "regions": {
      "14958398-88dc-4c25-884b-706309c6412e": {
       "attrs": {
        "height": 0.8,
        "width": 0.8,
        "x": 0.1,
        "y": 0.1
       },
       "content": {
        "cell": "88515e06-a264-4856-ab51-756ae5f22941",
        "part": "whole"
       },
       "id": "14958398-88dc-4c25-884b-706309c6412e"
      }
     }
    },
    "6a0f6a48-b001-4e45-a469-9b962c67c2de": {
     "id": "6a0f6a48-b001-4e45-a469-9b962c67c2de",
     "prev": "a3add95b-578c-40bd-96b3-9d7f3ff3b960",
     "regions": {
      "e35f710c-4b56-4e63-abc3-81a6c34e8531": {
       "attrs": {
        "height": 0.8,
        "width": 0.8,
        "x": 0.1,
        "y": 0.1
       },
       "content": {
        "cell": "684a5ae0-aaab-4f64-b90f-bf8aeb48b91e",
        "part": "whole"
       },
       "id": "e35f710c-4b56-4e63-abc3-81a6c34e8531"
      }
     }
    },
    "6b0d58a7-93b1-4deb-aabd-cc705afff1ff": {
     "id": "6b0d58a7-93b1-4deb-aabd-cc705afff1ff",
     "prev": "b0d0aafb-4dfd-4bde-a710-33ba1f93ce29",
     "regions": {
      "81dece19-ac2d-438d-8319-468bec98707b": {
       "attrs": {
        "height": 0.8,
        "width": 0.8,
        "x": 0.1,
        "y": 0.1
       },
       "content": {
        "cell": "e71f8777-e0ce-4367-b28d-68fab3016001",
        "part": "whole"
       },
       "id": "81dece19-ac2d-438d-8319-468bec98707b"
      }
     }
    },
    "6b7695af-a043-46c3-bff7-a8942f5a0cd1": {
     "id": "6b7695af-a043-46c3-bff7-a8942f5a0cd1",
     "prev": "4ce5174c-6ecb-40af-8e2f-8c759bcf5d75",
     "regions": {
      "37d80271-65c4-4aea-aa56-9e315dd738a6": {
       "attrs": {
        "height": 0.8,
        "width": 0.8,
        "x": 0.1,
        "y": 0.1
       },
       "content": {
        "cell": "73293818-0146-4ab9-8711-dd510f1b0cf0",
        "part": "whole"
       },
       "id": "37d80271-65c4-4aea-aa56-9e315dd738a6"
      }
     }
    },
    "6cd59d6e-a0a3-468c-bfa7-9f9ae81f34d8": {
     "id": "6cd59d6e-a0a3-468c-bfa7-9f9ae81f34d8",
     "prev": "5dcdfe44-491d-481d-a352-976cd56d1764",
     "regions": {
      "e36b93d3-e5f5-4cfb-a4e4-3b88977e1ddf": {
       "attrs": {
        "height": 0.8,
        "width": 0.8,
        "x": 0.1,
        "y": 0.1
       },
       "content": {
        "cell": "dfbae236-c631-49ab-980e-2aa07b237d5f",
        "part": "whole"
       },
       "id": "e36b93d3-e5f5-4cfb-a4e4-3b88977e1ddf"
      }
     }
    },
    "6cfd9dc5-81f0-4d32-9110-a9d3425d53a9": {
     "id": "6cfd9dc5-81f0-4d32-9110-a9d3425d53a9",
     "prev": "febed544-9a84-4165-805a-c1fd80a7f798",
     "regions": {
      "3d43a55a-1c36-45f2-930a-e622685c9493": {
       "attrs": {
        "height": 0.8,
        "width": 0.8,
        "x": 0.1,
        "y": 0.1
       },
       "content": {
        "cell": "08ee1807-997d-444d-88ce-04796900355e",
        "part": "whole"
       },
       "id": "3d43a55a-1c36-45f2-930a-e622685c9493"
      }
     }
    },
    "6d126ca6-1cf4-4a1b-aa71-9bf68ba32f05": {
     "id": "6d126ca6-1cf4-4a1b-aa71-9bf68ba32f05",
     "prev": "65830ea1-87ff-4874-9f78-bd460879d466",
     "regions": {
      "4f7a8654-382b-420c-8993-f89997f94d8c": {
       "attrs": {
        "height": 0.8,
        "width": 0.8,
        "x": 0.1,
        "y": 0.1
       },
       "content": {
        "cell": "baa99db8-3e98-4976-801c-03a6bcbb7330",
        "part": "whole"
       },
       "id": "4f7a8654-382b-420c-8993-f89997f94d8c"
      }
     }
    },
    "6d13d547-3775-4132-bb59-f75382aa9704": {
     "id": "6d13d547-3775-4132-bb59-f75382aa9704",
     "prev": "e031431d-2acd-4d00-8e3e-655b7d354f11",
     "regions": {
      "f161fa58-25ce-4a14-aed3-eb289d5f570b": {
       "attrs": {
        "height": 0.8,
        "width": 0.8,
        "x": 0.1,
        "y": 0.1
       },
       "content": {
        "cell": "f53e18d4-a5c5-4e74-9147-81aade6bb578",
        "part": "whole"
       },
       "id": "f161fa58-25ce-4a14-aed3-eb289d5f570b"
      }
     }
    },
    "6d84c70d-9b59-4659-be99-aed0f2dcdeee": {
     "id": "6d84c70d-9b59-4659-be99-aed0f2dcdeee",
     "prev": "37fd5a4a-56be-4cb4-ba1c-c13496ae1dcf",
     "regions": {
      "50d9f4d1-7296-49d1-9318-cf6fad8702af": {
       "attrs": {
        "height": 0.8,
        "width": 0.8,
        "x": 0.1,
        "y": 0.1
       },
       "content": {
        "cell": "524db1ba-f5fc-494c-b1c2-385123ec7500",
        "part": "whole"
       },
       "id": "50d9f4d1-7296-49d1-9318-cf6fad8702af"
      }
     }
    },
    "6f8ae936-4dae-44c8-8ffb-ab8e18d09de6": {
     "id": "6f8ae936-4dae-44c8-8ffb-ab8e18d09de6",
     "prev": "c1f17d1c-a270-439b-8180-159688bd91a1",
     "regions": {
      "31856fd8-1ef8-49d6-b567-b74fb63e4a63": {
       "attrs": {
        "height": 0.8,
        "width": 0.8,
        "x": 0.1,
        "y": 0.1
       },
       "content": {
        "cell": "2bc190b7-28e9-4e7c-9086-16af49346393",
        "part": "whole"
       },
       "id": "31856fd8-1ef8-49d6-b567-b74fb63e4a63"
      }
     }
    },
    "71f49712-3d94-4efa-b08b-baec354d96eb": {
     "id": "71f49712-3d94-4efa-b08b-baec354d96eb",
     "prev": "5477ea46-bf58-48fb-a1bb-86e54fe9cbdb",
     "regions": {
      "470e6f16-ef14-4bd9-82b8-06ae3729bb16": {
       "attrs": {
        "height": 0.8,
        "width": 0.8,
        "x": 0.1,
        "y": 0.1
       },
       "content": {
        "cell": "04ec921f-f7a6-4ec3-b637-ce61ec624729",
        "part": "whole"
       },
       "id": "470e6f16-ef14-4bd9-82b8-06ae3729bb16"
      }
     }
    },
    "728a3342-5e18-40a9-8c5b-3b2f3cc14c56": {
     "id": "728a3342-5e18-40a9-8c5b-3b2f3cc14c56",
     "prev": "69bd23a8-3533-4ed4-ba64-4ae785cbbe50",
     "regions": {
      "0fa1e3e9-635a-4f41-9a94-6ad893594b2d": {
       "attrs": {
        "height": 0.8,
        "width": 0.8,
        "x": 0.1,
        "y": 0.1
       },
       "content": {
        "cell": "e194d41a-294b-43f7-a7d5-8c872731048a",
        "part": "whole"
       },
       "id": "0fa1e3e9-635a-4f41-9a94-6ad893594b2d"
      }
     }
    },
    "73a9cc8e-487f-4fdb-94bf-02b17638834d": {
     "id": "73a9cc8e-487f-4fdb-94bf-02b17638834d",
     "prev": "b604b92f-4ef8-4677-98fd-e27a85eb708b",
     "regions": {
      "e78917c9-43d3-4c7e-9e9e-b32d31a7b120": {
       "attrs": {
        "height": 0.8,
        "width": 0.8,
        "x": 0.1,
        "y": 0.1
       },
       "content": {
        "cell": "8d2a15d8-de98-4b8c-a631-029fd7d0cb6a",
        "part": "whole"
       },
       "id": "e78917c9-43d3-4c7e-9e9e-b32d31a7b120"
      }
     }
    },
    "73c34006-8290-4499-85bd-512010d2350e": {
     "id": "73c34006-8290-4499-85bd-512010d2350e",
     "prev": "73a9cc8e-487f-4fdb-94bf-02b17638834d",
     "regions": {
      "aed24a72-e701-42d5-9e61-9eaf3a97f9b5": {
       "attrs": {
        "height": 0.8,
        "width": 0.8,
        "x": 0.1,
        "y": 0.1
       },
       "content": {
        "cell": "7616e538-8e9c-41b3-bd88-9499c0ee9da7",
        "part": "whole"
       },
       "id": "aed24a72-e701-42d5-9e61-9eaf3a97f9b5"
      }
     }
    },
    "75b4f55b-12e4-44d5-9a16-b672e47459b7": {
     "id": "75b4f55b-12e4-44d5-9a16-b672e47459b7",
     "prev": "7bae4523-6be4-4d76-9358-e43d7b4089f8",
     "regions": {
      "e527e1c3-1386-4c7b-a7e5-1871e3d1eaa2": {
       "attrs": {
        "height": 0.8,
        "width": 0.8,
        "x": 0.1,
        "y": 0.1
       },
       "content": {
        "cell": "d7c05c49-1bad-44b1-9eaf-1568eced5b38",
        "part": "whole"
       },
       "id": "e527e1c3-1386-4c7b-a7e5-1871e3d1eaa2"
      }
     }
    },
    "775b75c5-7991-43d7-bf78-e11330b5d750": {
     "id": "775b75c5-7991-43d7-bf78-e11330b5d750",
     "prev": "5d1ea4b5-f5a9-4c65-a55e-53e1435224c2",
     "regions": {
      "62c32ee0-5d98-4ad9-9596-1a05fdd0fb41": {
       "attrs": {
        "height": 0.8,
        "width": 0.8,
        "x": 0.1,
        "y": 0.1
       },
       "content": {
        "cell": "8d6ef136-b7fe-4c39-8e47-2724ed634583",
        "part": "whole"
       },
       "id": "62c32ee0-5d98-4ad9-9596-1a05fdd0fb41"
      }
     }
    },
    "77ec66e0-451e-4b7d-98ef-ef6335d59bd1": {
     "id": "77ec66e0-451e-4b7d-98ef-ef6335d59bd1",
     "prev": "6d126ca6-1cf4-4a1b-aa71-9bf68ba32f05",
     "regions": {
      "c5c60488-1a91-431e-a205-f2f94de88898": {
       "attrs": {
        "height": 0.8,
        "width": 0.8,
        "x": 0.1,
        "y": 0.1
       },
       "content": {
        "cell": "d1b18918-0c07-4234-8f2b-0b4120ed3dc8",
        "part": "whole"
       },
       "id": "c5c60488-1a91-431e-a205-f2f94de88898"
      }
     }
    },
    "7a053e0f-f92b-4b1c-bec1-8cd6c33ae85c": {
     "id": "7a053e0f-f92b-4b1c-bec1-8cd6c33ae85c",
     "prev": "98ebd254-d91c-42c2-9ebe-7755ed90c71b",
     "regions": {
      "4dab9f66-f4e7-4508-87e7-dc26e77e6115": {
       "attrs": {
        "height": 0.8,
        "width": 0.8,
        "x": 0.1,
        "y": 0.1
       },
       "content": {
        "cell": "1225c75f-3f6d-4cda-8ad9-c010df251969",
        "part": "whole"
       },
       "id": "4dab9f66-f4e7-4508-87e7-dc26e77e6115"
      }
     }
    },
    "7a8a2170-e518-4f02-937f-c17a5b7b246c": {
     "id": "7a8a2170-e518-4f02-937f-c17a5b7b246c",
     "prev": "aac00ac1-557e-48ec-ae51-111a61e951bd",
     "regions": {
      "ad5438a8-aa5f-4123-bae1-32ea8b463029": {
       "attrs": {
        "height": 0.8,
        "width": 0.8,
        "x": 0.1,
        "y": 0.1
       },
       "content": {
        "cell": "d6fb25de-855d-44ec-95e8-0f3438ccba98",
        "part": "whole"
       },
       "id": "ad5438a8-aa5f-4123-bae1-32ea8b463029"
      }
     }
    },
    "7bae4523-6be4-4d76-9358-e43d7b4089f8": {
     "id": "7bae4523-6be4-4d76-9358-e43d7b4089f8",
     "prev": "f21566b4-0ac2-4ca4-88ac-f17eed93a593",
     "regions": {
      "358ae07e-d19e-4e86-aa7b-bc58bc2fe660": {
       "attrs": {
        "height": 0.8,
        "width": 0.8,
        "x": 0.1,
        "y": 0.1
       },
       "content": {
        "cell": "320e7454-f277-4660-a1fa-ace70820cd8c",
        "part": "whole"
       },
       "id": "358ae07e-d19e-4e86-aa7b-bc58bc2fe660"
      }
     }
    },
    "7c06c436-bfef-406f-be92-54b3058e474a": {
     "id": "7c06c436-bfef-406f-be92-54b3058e474a",
     "prev": "5398e76e-bbfa-499e-9dc8-6293d8ab43b2",
     "regions": {
      "ccac112f-c11f-43e3-a41d-e0472d89baa0": {
       "attrs": {
        "height": 0.8,
        "width": 0.8,
        "x": 0.1,
        "y": 0.1
       },
       "content": {
        "cell": "e1bcb4c7-2681-47f3-b90d-b9d5e143f0a6",
        "part": "whole"
       },
       "id": "ccac112f-c11f-43e3-a41d-e0472d89baa0"
      }
     }
    },
    "7d1dcd2f-83d3-4bf0-8c8a-aa5afc850fb2": {
     "id": "7d1dcd2f-83d3-4bf0-8c8a-aa5afc850fb2",
     "prev": "d4a2d24d-617b-481a-9431-5b5a4aa75fe3",
     "regions": {
      "2af202fe-0fea-4e2b-b306-fbebc3583d9f": {
       "attrs": {
        "height": 0.8,
        "width": 0.8,
        "x": 0.1,
        "y": 0.1
       },
       "content": {
        "cell": "6369fc09-ab2f-4812-b194-e37df6e66e1f",
        "part": "whole"
       },
       "id": "2af202fe-0fea-4e2b-b306-fbebc3583d9f"
      }
     }
    },
    "7dcf19b3-21b8-42e3-9d87-073b69c12377": {
     "id": "7dcf19b3-21b8-42e3-9d87-073b69c12377",
     "prev": "5d637c73-3c64-4234-a87c-00ac31454d0b",
     "regions": {
      "11cd874b-9606-4142-a6bc-e4f5b150a18a": {
       "attrs": {
        "height": 0.8,
        "width": 0.8,
        "x": 0.1,
        "y": 0.1
       },
       "content": {
        "cell": "c361b622-992e-46db-9ed2-47b409cebb2a",
        "part": "whole"
       },
       "id": "11cd874b-9606-4142-a6bc-e4f5b150a18a"
      }
     }
    },
    "802e0791-6b37-4e14-a4a4-29fdf7c502cb": {
     "id": "802e0791-6b37-4e14-a4a4-29fdf7c502cb",
     "prev": "b69a3224-a541-4fb4-b7fd-48f095902670",
     "regions": {
      "3a606975-a348-4ed5-b00b-771a74973e82": {
       "attrs": {
        "height": 0.8,
        "width": 0.8,
        "x": 0.1,
        "y": 0.1
       },
       "content": {
        "cell": "33552f86-364d-4321-add5-157f2a0656b5",
        "part": "whole"
       },
       "id": "3a606975-a348-4ed5-b00b-771a74973e82"
      }
     }
    },
    "80662fee-07b3-488d-819e-acb30adc65fd": {
     "id": "80662fee-07b3-488d-819e-acb30adc65fd",
     "prev": "bea26909-e66a-46b9-9769-350d74199b9a",
     "regions": {
      "1639f63a-ea34-4ea9-9cd2-7ae341378486": {
       "attrs": {
        "height": 0.8,
        "width": 0.8,
        "x": 0.1,
        "y": 0.1
       },
       "content": {
        "cell": "3d770001-2b2c-4046-8614-bcc5b4f25541",
        "part": "whole"
       },
       "id": "1639f63a-ea34-4ea9-9cd2-7ae341378486"
      }
     }
    },
    "82f287f3-387b-4c2a-813f-dacaca78cdb8": {
     "id": "82f287f3-387b-4c2a-813f-dacaca78cdb8",
     "prev": "95949ee1-40b8-4c1a-bf8c-b9fdcf1ce0b9",
     "regions": {
      "ae12c41a-f9f5-4edc-b1fa-02af1aa0e6fe": {
       "attrs": {
        "height": 0.8,
        "width": 0.8,
        "x": 0.1,
        "y": 0.1
       },
       "content": {
        "cell": "08ace2ec-b866-4fe7-86dd-db4ede4b849d",
        "part": "whole"
       },
       "id": "ae12c41a-f9f5-4edc-b1fa-02af1aa0e6fe"
      }
     }
    },
    "86296ac8-9f39-4d49-b941-a3d916577a40": {
     "id": "86296ac8-9f39-4d49-b941-a3d916577a40",
     "prev": null,
     "regions": {
      "c94a9642-cffe-4bc1-8aca-6cab87300f2b": {
       "attrs": {
        "height": 0.8,
        "width": 0.8,
        "x": 0.1,
        "y": 0.1
       },
       "content": {
        "cell": "2e79b67e-54af-4355-a4f7-501a84ba97ab",
        "part": "whole"
       },
       "id": "c94a9642-cffe-4bc1-8aca-6cab87300f2b"
      }
     }
    },
    "88b4fd84-b931-496c-9a5b-3f251bcf70f9": {
     "id": "88b4fd84-b931-496c-9a5b-3f251bcf70f9",
     "prev": "c6d386a7-e2e1-4432-935c-1668249af9bc",
     "regions": {
      "87f0c33b-9954-4c42-bc17-6b07594f7f94": {
       "attrs": {
        "height": 0.8,
        "width": 0.8,
        "x": 0.1,
        "y": 0.1
       },
       "content": {
        "cell": "9d3741bd-7a0c-4fb3-aa7f-b41888d7ddfd",
        "part": "whole"
       },
       "id": "87f0c33b-9954-4c42-bc17-6b07594f7f94"
      }
     }
    },
    "8a2aebbf-8e37-46f8-b819-c7e1befa9e32": {
     "id": "8a2aebbf-8e37-46f8-b819-c7e1befa9e32",
     "prev": "26390cc9-6e70-4dc3-91db-6b92948ade55",
     "regions": {
      "cba48ff1-2d2b-4e6f-ab9c-117c9a89809b": {
       "attrs": {
        "height": 0.8,
        "width": 0.8,
        "x": 0.1,
        "y": 0.1
       },
       "content": {
        "cell": "3a842c62-3e53-4281-9a1b-0a602d3f400d",
        "part": "whole"
       },
       "id": "cba48ff1-2d2b-4e6f-ab9c-117c9a89809b"
      }
     }
    },
    "8ad0b2bc-32c4-4c4b-8464-2bfd188b87a1": {
     "id": "8ad0b2bc-32c4-4c4b-8464-2bfd188b87a1",
     "prev": "bd834391-0cea-454a-b267-e266bd35318a",
     "regions": {
      "3f209dd2-465d-403a-a44f-65ce7f817eda": {
       "attrs": {
        "height": 0.8,
        "width": 0.8,
        "x": 0.1,
        "y": 0.1
       },
       "content": {
        "cell": "8895f3ea-613a-435b-895d-7e2cada2f6f0",
        "part": "whole"
       },
       "id": "3f209dd2-465d-403a-a44f-65ce7f817eda"
      }
     }
    },
    "8ce0ce7c-df5d-4f7a-8f31-7d45375c9c74": {
     "id": "8ce0ce7c-df5d-4f7a-8f31-7d45375c9c74",
     "prev": "6d13d547-3775-4132-bb59-f75382aa9704",
     "regions": {
      "460a7fe8-f9d4-4e94-9965-dc71aeac9730": {
       "attrs": {
        "height": 0.8,
        "width": 0.8,
        "x": 0.1,
        "y": 0.1
       },
       "content": {
        "cell": "c3323987-f7bc-4daa-992a-de5bb25cd95d",
        "part": "whole"
       },
       "id": "460a7fe8-f9d4-4e94-9965-dc71aeac9730"
      }
     }
    },
    "8e3912c4-8433-4e63-ade3-471dca28091f": {
     "id": "8e3912c4-8433-4e63-ade3-471dca28091f",
     "prev": "c37877de-2155-4180-ac9e-40eda7a5926b",
     "regions": {
      "b18ab051-de7c-4153-b30c-3c1626073fea": {
       "attrs": {
        "height": 0.8,
        "width": 0.8,
        "x": 0.1,
        "y": 0.1
       },
       "content": {
        "cell": "2f730d32-e47b-4523-af79-0f3fc8b9fabd",
        "part": "whole"
       },
       "id": "b18ab051-de7c-4153-b30c-3c1626073fea"
      }
     }
    },
    "90aa268a-f8f9-48d0-911b-12940974eb66": {
     "id": "90aa268a-f8f9-48d0-911b-12940974eb66",
     "prev": "600a014d-8ecb-4a14-a424-96744bed9fec",
     "regions": {
      "dbb30941-5fda-4f8f-b700-ea2f01834562": {
       "attrs": {
        "height": 0.8,
        "width": 0.8,
        "x": 0.1,
        "y": 0.1
       },
       "content": {
        "cell": "7b7ea581-0cd7-4bf1-9506-9034e6398382",
        "part": "whole"
       },
       "id": "dbb30941-5fda-4f8f-b700-ea2f01834562"
      }
     }
    },
    "917b94c2-f6ab-4f83-be2f-3b96d66a1a71": {
     "id": "917b94c2-f6ab-4f83-be2f-3b96d66a1a71",
     "prev": "6f8ae936-4dae-44c8-8ffb-ab8e18d09de6",
     "regions": {
      "35658245-9130-46a1-8bd4-e1bf8443c4f6": {
       "attrs": {
        "height": 0.8,
        "width": 0.8,
        "x": 0.1,
        "y": 0.1
       },
       "content": {
        "cell": "a07a5c97-fd0a-4cfe-b05d-dadd62b87c5a",
        "part": "whole"
       },
       "id": "35658245-9130-46a1-8bd4-e1bf8443c4f6"
      }
     }
    },
    "91dccd58-7bfb-4858-a607-09d1f7602abd": {
     "id": "91dccd58-7bfb-4858-a607-09d1f7602abd",
     "prev": "0ee585bc-099f-46c8-94c2-54bf611db434",
     "regions": {
      "cd39ec11-b039-4107-b7c2-871e03dcd063": {
       "attrs": {
        "height": 0.8,
        "width": 0.8,
        "x": 0.1,
        "y": 0.1
       },
       "content": {
        "cell": "6773c08b-588a-4da4-9788-b7924d9bc0dd",
        "part": "whole"
       },
       "id": "cd39ec11-b039-4107-b7c2-871e03dcd063"
      }
     }
    },
    "95949ee1-40b8-4c1a-bf8c-b9fdcf1ce0b9": {
     "id": "95949ee1-40b8-4c1a-bf8c-b9fdcf1ce0b9",
     "prev": "11da370f-95f9-4c90-a2dc-658b67f3b2a5",
     "regions": {
      "7601212c-36b9-4f8c-b292-3bad1c052a4e": {
       "attrs": {
        "height": 0.8,
        "width": 0.8,
        "x": 0.1,
        "y": 0.1
       },
       "content": {
        "cell": "a9df4cea-561a-47a2-a031-c2474e874910",
        "part": "whole"
       },
       "id": "7601212c-36b9-4f8c-b292-3bad1c052a4e"
      }
     }
    },
    "96b2f4af-4a65-4ed8-b9ca-dc2977bc4a46": {
     "id": "96b2f4af-4a65-4ed8-b9ca-dc2977bc4a46",
     "prev": "4882ca12-6a87-4c08-9f1e-69e1d4949586",
     "regions": {
      "1c193aa8-f676-43cc-a0b7-371062b9e26b": {
       "attrs": {
        "height": 0.8,
        "width": 0.8,
        "x": 0.1,
        "y": 0.1
       },
       "content": {
        "cell": "a2460c7b-3801-4a81-bd9d-807769f1ee1f",
        "part": "whole"
       },
       "id": "1c193aa8-f676-43cc-a0b7-371062b9e26b"
      }
     }
    },
    "98ebd254-d91c-42c2-9ebe-7755ed90c71b": {
     "id": "98ebd254-d91c-42c2-9ebe-7755ed90c71b",
     "prev": "07a54594-899c-45e6-85bd-d34f86048be4",
     "regions": {
      "77bafba4-cc09-45d3-9251-9af871e1a414": {
       "attrs": {
        "height": 0.8,
        "width": 0.8,
        "x": 0.1,
        "y": 0.1
       },
       "content": {
        "cell": "9e166195-305e-49e7-8d5c-9735ce66e541",
        "part": "whole"
       },
       "id": "77bafba4-cc09-45d3-9251-9af871e1a414"
      }
     }
    },
    "9a2bcf5d-27f8-4198-bdb5-b878f1866e4f": {
     "id": "9a2bcf5d-27f8-4198-bdb5-b878f1866e4f",
     "prev": "c318c7a4-6aca-4c6b-ad49-ce5c0a2cbcc4",
     "regions": {
      "a43368e7-8a21-415b-a4f7-3e1b83379d1e": {
       "attrs": {
        "height": 0.8,
        "width": 0.8,
        "x": 0.1,
        "y": 0.1
       },
       "content": {
        "cell": "e547c76f-868a-43e5-a539-763f575fd275",
        "part": "whole"
       },
       "id": "a43368e7-8a21-415b-a4f7-3e1b83379d1e"
      }
     }
    },
    "9ae3166a-154e-49e1-aecb-8ed7fc244793": {
     "id": "9ae3166a-154e-49e1-aecb-8ed7fc244793",
     "prev": "775b75c5-7991-43d7-bf78-e11330b5d750",
     "regions": {
      "a75f39e0-b8aa-40d3-a4d4-b8957f1db51d": {
       "attrs": {
        "height": 0.8,
        "width": 0.8,
        "x": 0.1,
        "y": 0.1
       },
       "content": {
        "cell": "ca31ea3c-fbb8-4e9b-b306-f6fc3e4860b5",
        "part": "whole"
       },
       "id": "a75f39e0-b8aa-40d3-a4d4-b8957f1db51d"
      }
     }
    },
    "9e40b754-fdea-4ff0-ba43-6f645938e70f": {
     "id": "9e40b754-fdea-4ff0-ba43-6f645938e70f",
     "prev": "8ad0b2bc-32c4-4c4b-8464-2bfd188b87a1",
     "regions": {
      "80df3b1a-8860-4105-8a7d-e31998c42849": {
       "attrs": {
        "height": 0.8,
        "width": 0.8,
        "x": 0.1,
        "y": 0.1
       },
       "content": {
        "cell": "0847db54-9348-465a-9cd1-4389aeaa917e",
        "part": "whole"
       },
       "id": "80df3b1a-8860-4105-8a7d-e31998c42849"
      }
     }
    },
    "9f34e51a-8d17-4d45-977f-765c10e8af60": {
     "id": "9f34e51a-8d17-4d45-977f-765c10e8af60",
     "prev": "39f86d2c-5d43-4b84-bd62-07777ddb0baa",
     "regions": {
      "ad2f5eb9-d358-47ad-ae84-6a00a517a1c6": {
       "attrs": {
        "height": 0.8,
        "width": 0.8,
        "x": 0.1,
        "y": 0.1
       },
       "content": {
        "cell": "440ab9d5-527c-4598-9a56-162a35f4bf7e",
        "part": "whole"
       },
       "id": "ad2f5eb9-d358-47ad-ae84-6a00a517a1c6"
      }
     }
    },
    "9f8df769-5268-42f0-bd48-759d65156b6d": {
     "id": "9f8df769-5268-42f0-bd48-759d65156b6d",
     "prev": "dfe9e737-5bf3-4477-beb7-77a49c53b662",
     "regions": {
      "98a0766b-4ee4-432e-bff2-76b851411cfd": {
       "attrs": {
        "height": 0.8,
        "width": 0.8,
        "x": 0.1,
        "y": 0.1
       },
       "content": {
        "cell": "dba00d03-4e0b-4a2a-959e-d512b47a6602",
        "part": "whole"
       },
       "id": "98a0766b-4ee4-432e-bff2-76b851411cfd"
      }
     }
    },
    "a00c00b5-3264-4668-9ae5-f37fe9d5a5d5": {
     "id": "a00c00b5-3264-4668-9ae5-f37fe9d5a5d5",
     "prev": "c5b7aad6-edc6-4233-a518-7c2a841646f7",
     "regions": {
      "07d549a4-5e8c-4485-bc54-bcf81de961f5": {
       "attrs": {
        "height": 0.8,
        "width": 0.8,
        "x": 0.1,
        "y": 0.1
       },
       "content": {
        "cell": "c1c443d7-93b5-42c1-bef1-1c0991b6d5b2",
        "part": "whole"
       },
       "id": "07d549a4-5e8c-4485-bc54-bcf81de961f5"
      }
     }
    },
    "a37599fb-c73f-4a08-935d-8acf4c600240": {
     "id": "a37599fb-c73f-4a08-935d-8acf4c600240",
     "prev": "667a7c6f-bf05-4800-93ee-a8469a9a9eed",
     "regions": {
      "e71cb719-13c1-42f1-b2e2-eef2bb90d2ad": {
       "attrs": {
        "height": 0.8,
        "width": 0.8,
        "x": 0.1,
        "y": 0.1
       },
       "content": {
        "cell": "60317bcd-fd7f-49ee-b0b0-624c0785a033",
        "part": "whole"
       },
       "id": "e71cb719-13c1-42f1-b2e2-eef2bb90d2ad"
      }
     }
    },
    "a3add95b-578c-40bd-96b3-9d7f3ff3b960": {
     "id": "a3add95b-578c-40bd-96b3-9d7f3ff3b960",
     "prev": "fdad048e-0e9e-4064-bb74-134e57433afa",
     "regions": {
      "5136182f-e131-48a9-b5e9-fac536ebb98b": {
       "attrs": {
        "height": 0.8,
        "width": 0.8,
        "x": 0.1,
        "y": 0.1
       },
       "content": {
        "cell": "70a83224-165b-4d09-b3c8-773948105cb3",
        "part": "whole"
       },
       "id": "5136182f-e131-48a9-b5e9-fac536ebb98b"
      }
     }
    },
    "aa8297a7-c3fc-451b-ba09-5808b4444889": {
     "id": "aa8297a7-c3fc-451b-ba09-5808b4444889",
     "prev": "49cfce6d-e326-4b25-8e80-63890c856c8d",
     "regions": {
      "3ef07d22-f63b-492a-82ca-37870cf5b6ce": {
       "attrs": {
        "height": 0.8,
        "width": 0.8,
        "x": 0.1,
        "y": 0.1
       },
       "content": {
        "cell": "5e536b61-25c8-4284-895f-3140a68fd122",
        "part": "whole"
       },
       "id": "3ef07d22-f63b-492a-82ca-37870cf5b6ce"
      }
     }
    },
    "aac00ac1-557e-48ec-ae51-111a61e951bd": {
     "id": "aac00ac1-557e-48ec-ae51-111a61e951bd",
     "prev": "6b7695af-a043-46c3-bff7-a8942f5a0cd1",
     "regions": {
      "bad9f097-7020-4e34-be29-f1f0a7136220": {
       "attrs": {
        "height": 0.8,
        "width": 0.8,
        "x": 0.1,
        "y": 0.1
       },
       "content": {
        "cell": "4effd43f-1888-44d4-9997-40f9118e09f2",
        "part": "whole"
       },
       "id": "bad9f097-7020-4e34-be29-f1f0a7136220"
      }
     }
    },
    "aafe4058-469e-4441-9e85-7d6326c7687b": {
     "id": "aafe4058-469e-4441-9e85-7d6326c7687b",
     "prev": "3a4c1435-fa0f-4698-98f0-ce423ec8709c",
     "regions": {
      "da57c1cb-e2c2-47ef-9f5b-49e5b01b6376": {
       "attrs": {
        "height": 0.8,
        "width": 0.8,
        "x": 0.1,
        "y": 0.1
       },
       "content": {
        "cell": "bcbd2927-0849-4c62-a677-a0ce168cd4b2",
        "part": "whole"
       },
       "id": "da57c1cb-e2c2-47ef-9f5b-49e5b01b6376"
      }
     }
    },
    "ad072831-3c1c-400e-b3f2-27e03a031266": {
     "id": "ad072831-3c1c-400e-b3f2-27e03a031266",
     "prev": "23eea186-7170-4583-82d3-b92c1a7d2715",
     "regions": {
      "71b729a5-8a36-4bcc-8ace-834300be1a04": {
       "attrs": {
        "height": 0.8,
        "width": 0.8,
        "x": 0.1,
        "y": 0.1
       },
       "content": {
        "cell": "c0759959-709f-45a4-b7eb-232f7d723fb3",
        "part": "whole"
       },
       "id": "71b729a5-8a36-4bcc-8ace-834300be1a04"
      }
     }
    },
    "ad558413-cef6-4a6a-85fb-fa228cd0419d": {
     "id": "ad558413-cef6-4a6a-85fb-fa228cd0419d",
     "prev": "aafe4058-469e-4441-9e85-7d6326c7687b",
     "regions": {
      "55981476-9ec5-4213-9975-bb3e8c4a65a2": {
       "attrs": {
        "height": 0.8,
        "width": 0.8,
        "x": 0.1,
        "y": 0.1
       },
       "content": {
        "cell": "cb99675c-6718-43d8-92ad-0d84b706aa99",
        "part": "whole"
       },
       "id": "55981476-9ec5-4213-9975-bb3e8c4a65a2"
      }
     }
    },
    "af68aeee-d7bd-461d-82df-ca8f2867362c": {
     "id": "af68aeee-d7bd-461d-82df-ca8f2867362c",
     "prev": "ca2b4c33-b138-4c8f-9256-184bfc31fa06",
     "regions": {
      "6f13eb4e-a63f-4b99-9546-595bc067e7aa": {
       "attrs": {
        "height": 0.8,
        "width": 0.8,
        "x": 0.1,
        "y": 0.1
       },
       "content": {
        "cell": "4cc7f2bf-d8cd-4bd8-8e00-98c0b5f71422",
        "part": "whole"
       },
       "id": "6f13eb4e-a63f-4b99-9546-595bc067e7aa"
      }
     }
    },
    "b0d0aafb-4dfd-4bde-a710-33ba1f93ce29": {
     "id": "b0d0aafb-4dfd-4bde-a710-33ba1f93ce29",
     "prev": "d6a83da8-750d-43e9-9b7b-8eb4050cd7c1",
     "regions": {
      "7b381b0a-c8a7-4e14-894e-f8799284d028": {
       "attrs": {
        "height": 0.8,
        "width": 0.8,
        "x": 0.1,
        "y": 0.1
       },
       "content": {
        "cell": "5347b652-c9de-4121-a89f-13a968701288",
        "part": "whole"
       },
       "id": "7b381b0a-c8a7-4e14-894e-f8799284d028"
      }
     }
    },
    "b604b92f-4ef8-4677-98fd-e27a85eb708b": {
     "id": "b604b92f-4ef8-4677-98fd-e27a85eb708b",
     "prev": "3809727f-50f9-4500-8296-c1bb451aa275",
     "regions": {
      "9ea81543-1e75-4945-9285-970a4159290e": {
       "attrs": {
        "height": 0.8,
        "width": 0.8,
        "x": 0.1,
        "y": 0.1
       },
       "content": {
        "cell": "bf633890-b77c-4583-822d-bcebdcdeee76",
        "part": "whole"
       },
       "id": "9ea81543-1e75-4945-9285-970a4159290e"
      }
     }
    },
    "b654c310-7139-417c-bccb-755e78838b86": {
     "id": "b654c310-7139-417c-bccb-755e78838b86",
     "prev": "16dc1be2-ffb4-46f3-80ee-c0636e0a900a",
     "regions": {
      "3d8569f1-4cc0-49e5-b9cf-0974bfcd162e": {
       "attrs": {
        "height": 0.8,
        "width": 0.8,
        "x": 0.1,
        "y": 0.1
       },
       "content": {
        "cell": "2a915291-d117-4916-8be5-3cab3361860c",
        "part": "whole"
       },
       "id": "3d8569f1-4cc0-49e5-b9cf-0974bfcd162e"
      }
     }
    },
    "b67b1c18-7421-4907-b74c-3d2d9f72d694": {
     "id": "b67b1c18-7421-4907-b74c-3d2d9f72d694",
     "prev": "69e3f461-36e7-4c17-ba1d-f1094d6f465b",
     "regions": {
      "f001e079-1b92-4916-99e2-8cba10f15da0": {
       "attrs": {
        "height": 0.8,
        "width": 0.8,
        "x": 0.1,
        "y": 0.1
       },
       "content": {
        "cell": "5340f42f-4b97-483d-88d6-865e80dc3059",
        "part": "whole"
       },
       "id": "f001e079-1b92-4916-99e2-8cba10f15da0"
      }
     }
    },
    "b69a3224-a541-4fb4-b7fd-48f095902670": {
     "id": "b69a3224-a541-4fb4-b7fd-48f095902670",
     "prev": "d9497fb7-7b59-4633-9b4f-749ad81562a9",
     "regions": {
      "2a780813-0f6b-4eaa-9189-6022f07b3bee": {
       "attrs": {
        "height": 0.8,
        "width": 0.8,
        "x": 0.1,
        "y": 0.1
       },
       "content": {
        "cell": "99276576-3e6a-413f-b4f1-4649967250d4",
        "part": "whole"
       },
       "id": "2a780813-0f6b-4eaa-9189-6022f07b3bee"
      }
     }
    },
    "b7c0fbb8-2231-44e5-84e7-7b25959bd836": {
     "id": "b7c0fbb8-2231-44e5-84e7-7b25959bd836",
     "prev": "af68aeee-d7bd-461d-82df-ca8f2867362c",
     "regions": {
      "2cb9ab1e-6ce7-4431-86cd-76dbda61c7dd": {
       "attrs": {
        "height": 0.8,
        "width": 0.8,
        "x": 0.1,
        "y": 0.1
       },
       "content": {
        "cell": "43d0ab00-e7e1-44aa-8d97-e687fbea531f",
        "part": "whole"
       },
       "id": "2cb9ab1e-6ce7-4431-86cd-76dbda61c7dd"
      }
     }
    },
    "b84336d3-e739-47a1-9d15-d02c796b7e27": {
     "id": "b84336d3-e739-47a1-9d15-d02c796b7e27",
     "prev": "c72c7a24-034d-48f9-9323-71f169ddc3b6",
     "regions": {
      "f7201309-acb8-4a1e-8e3d-12ac77e6544e": {
       "attrs": {
        "height": 0.8,
        "width": 0.8,
        "x": 0.1,
        "y": 0.1
       },
       "content": {
        "cell": "87149527-ba22-4102-88d0-8788597b7cd8",
        "part": "whole"
       },
       "id": "f7201309-acb8-4a1e-8e3d-12ac77e6544e"
      }
     }
    },
    "b85a4af6-fd6c-4baf-bbbf-455fe1bc1589": {
     "id": "b85a4af6-fd6c-4baf-bbbf-455fe1bc1589",
     "prev": "728a3342-5e18-40a9-8c5b-3b2f3cc14c56",
     "regions": {
      "33afc73c-9e51-4be0-94b4-94934349eced": {
       "attrs": {
        "height": 0.8,
        "width": 0.8,
        "x": 0.1,
        "y": 0.1
       },
       "content": {
        "cell": "2863744b-c3d3-4c36-829a-73c47a3f13ca",
        "part": "whole"
       },
       "id": "33afc73c-9e51-4be0-94b4-94934349eced"
      }
     }
    },
    "b87910b2-e2e0-447c-8ef4-972d525cf0aa": {
     "id": "b87910b2-e2e0-447c-8ef4-972d525cf0aa",
     "prev": "57861a13-e5b1-4546-9613-d7523cb1b9ee",
     "regions": {
      "dd911c1c-f804-4bdd-ad73-eb87758bc18b": {
       "attrs": {
        "height": 0.8,
        "width": 0.8,
        "x": 0.1,
        "y": 0.1
       },
       "content": {
        "cell": "af235e46-59c0-4b03-a55a-f60ada640b93",
        "part": "whole"
       },
       "id": "dd911c1c-f804-4bdd-ad73-eb87758bc18b"
      }
     }
    },
    "bb330e6b-fa21-481e-88d9-6a13d5eeff89": {
     "id": "bb330e6b-fa21-481e-88d9-6a13d5eeff89",
     "prev": "f23cacb3-3f61-4752-814f-decbf5727b7c",
     "regions": {
      "69f7a8e1-2a41-4ff8-8be9-eea77e381c78": {
       "attrs": {
        "height": 0.8,
        "width": 0.8,
        "x": 0.1,
        "y": 0.1
       },
       "content": {
        "cell": "c0fbc392-8219-478f-bbf5-97fb763a88c3",
        "part": "whole"
       },
       "id": "69f7a8e1-2a41-4ff8-8be9-eea77e381c78"
      }
     }
    },
    "bcf1afde-0991-4efc-a1b8-c7f821886641": {
     "id": "bcf1afde-0991-4efc-a1b8-c7f821886641",
     "prev": "9e40b754-fdea-4ff0-ba43-6f645938e70f",
     "regions": {
      "e7030886-da90-4a5c-b3ac-9184c2105e2b": {
       "attrs": {
        "height": 0.8,
        "width": 0.8,
        "x": 0.1,
        "y": 0.1
       },
       "content": {
        "cell": "ce329407-714b-493b-aa63-ffe579f39892",
        "part": "whole"
       },
       "id": "e7030886-da90-4a5c-b3ac-9184c2105e2b"
      }
     }
    },
    "bd834391-0cea-454a-b267-e266bd35318a": {
     "id": "bd834391-0cea-454a-b267-e266bd35318a",
     "prev": "75b4f55b-12e4-44d5-9a16-b672e47459b7",
     "regions": {
      "b83c1b6a-6ba6-4e12-9fa1-cdea88124598": {
       "attrs": {
        "height": 0.8,
        "width": 0.8,
        "x": 0.1,
        "y": 0.1
       },
       "content": {
        "cell": "7c89e41e-61dd-4d24-8657-38da7c2f2206",
        "part": "whole"
       },
       "id": "b83c1b6a-6ba6-4e12-9fa1-cdea88124598"
      }
     }
    },
    "bdfbe9a6-224b-4fa1-8517-281553b2dcd6": {
     "id": "bdfbe9a6-224b-4fa1-8517-281553b2dcd6",
     "prev": "7a053e0f-f92b-4b1c-bec1-8cd6c33ae85c",
     "regions": {
      "6573459c-a8ff-4eb7-bf70-df253d83b708": {
       "attrs": {
        "height": 0.8,
        "width": 0.8,
        "x": 0.1,
        "y": 0.1
       },
       "content": {
        "cell": "5dbbd0c1-bb30-44d7-acbe-2c54063412aa",
        "part": "whole"
       },
       "id": "6573459c-a8ff-4eb7-bf70-df253d83b708"
      }
     }
    },
    "be1478ba-cfa0-46e6-bb9a-6deabc4688a3": {
     "id": "be1478ba-cfa0-46e6-bb9a-6deabc4688a3",
     "prev": "4592185e-0caf-478d-b86d-4d15d607eb31",
     "regions": {
      "10619a5d-2780-447e-a7f7-bc32e3ff6855": {
       "attrs": {
        "height": 0.8,
        "width": 0.8,
        "x": 0.1,
        "y": 0.1
       },
       "content": {
        "cell": "64fb14fc-bc30-4d70-b678-1b943e7bc8fd",
        "part": "whole"
       },
       "id": "10619a5d-2780-447e-a7f7-bc32e3ff6855"
      }
     }
    },
    "bea26909-e66a-46b9-9769-350d74199b9a": {
     "id": "bea26909-e66a-46b9-9769-350d74199b9a",
     "prev": "f049aa19-0dc7-4715-b2c8-f111b7fea484",
     "regions": {
      "418a6209-557d-49e0-94cb-cced4b625a78": {
       "attrs": {
        "height": 0.8,
        "width": 0.8,
        "x": 0.1,
        "y": 0.1
       },
       "content": {
        "cell": "4d31a26c-3b00-421f-b571-5d873ea8a908",
        "part": "whole"
       },
       "id": "418a6209-557d-49e0-94cb-cced4b625a78"
      }
     }
    },
    "c08c0d17-51bc-4977-8128-b6a713717b07": {
     "id": "c08c0d17-51bc-4977-8128-b6a713717b07",
     "prev": "31b43104-d1b1-4195-b018-fd616930c7c9",
     "regions": {
      "9b410d83-ca45-4fae-8b29-3e605c0b2ec0": {
       "attrs": {
        "height": 0.8,
        "width": 0.8,
        "x": 0.1,
        "y": 0.1
       },
       "content": {
        "cell": "7d522762-bbfd-4d8c-a492-831662fc2f9c",
        "part": "whole"
       },
       "id": "9b410d83-ca45-4fae-8b29-3e605c0b2ec0"
      }
     }
    },
    "c0d26678-6f9e-491a-a366-786e4cf39f21": {
     "id": "c0d26678-6f9e-491a-a366-786e4cf39f21",
     "prev": "cb791a93-5954-46d8-9095-1f94d1601fe6",
     "regions": {
      "4c78f066-0aa9-4a74-81cc-ecb45c192d92": {
       "attrs": {
        "height": 0.8,
        "width": 0.8,
        "x": 0.1,
        "y": 0.1
       },
       "content": {
        "cell": "dd3c2e52-3596-43d3-97a2-52210f7d2070",
        "part": "whole"
       },
       "id": "4c78f066-0aa9-4a74-81cc-ecb45c192d92"
      }
     }
    },
    "c1f17d1c-a270-439b-8180-159688bd91a1": {
     "id": "c1f17d1c-a270-439b-8180-159688bd91a1",
     "prev": "d1050486-e447-4f3b-a707-abb9281a41c7",
     "regions": {
      "73a23d7d-f77e-441b-a5cb-8a4adc9c2a9b": {
       "attrs": {
        "height": 0.8,
        "width": 0.8,
        "x": 0.1,
        "y": 0.1
       },
       "content": {
        "cell": "40a60e12-23d4-4aed-b8ff-8cee21b44e7b",
        "part": "whole"
       },
       "id": "73a23d7d-f77e-441b-a5cb-8a4adc9c2a9b"
      }
     }
    },
    "c318c7a4-6aca-4c6b-ad49-ce5c0a2cbcc4": {
     "id": "c318c7a4-6aca-4c6b-ad49-ce5c0a2cbcc4",
     "prev": "9ae3166a-154e-49e1-aecb-8ed7fc244793",
     "regions": {
      "3abdb594-8a72-49b7-b251-8b59b1b66565": {
       "attrs": {
        "height": 0.8,
        "width": 0.8,
        "x": 0.1,
        "y": 0.1
       },
       "content": {
        "cell": "f9ae93b3-39cd-4e7c-aa15-1e35cb427412",
        "part": "whole"
       },
       "id": "3abdb594-8a72-49b7-b251-8b59b1b66565"
      }
     }
    },
    "c37877de-2155-4180-ac9e-40eda7a5926b": {
     "id": "c37877de-2155-4180-ac9e-40eda7a5926b",
     "prev": "a37599fb-c73f-4a08-935d-8acf4c600240",
     "regions": {
      "33fea95c-d314-47f5-92a6-e0819e2c0b01": {
       "attrs": {
        "height": 0.8,
        "width": 0.8,
        "x": 0.1,
        "y": 0.1
       },
       "content": {
        "cell": "9f02695c-c54a-4c51-9ebb-dfefeb470360",
        "part": "whole"
       },
       "id": "33fea95c-d314-47f5-92a6-e0819e2c0b01"
      }
     }
    },
    "c3b92eec-1c83-4efb-bf9f-8c02d9bc87ef": {
     "id": "c3b92eec-1c83-4efb-bf9f-8c02d9bc87ef",
     "prev": "d91a43c5-a845-4466-8323-d5252338b280",
     "regions": {
      "e6d8a017-e7f1-49a0-8233-68f39cdbca30": {
       "attrs": {
        "height": 0.8,
        "width": 0.8,
        "x": 0.1,
        "y": 0.1
       },
       "content": {
        "cell": "7e0a2ed5-652c-4a0a-80ae-b21188ad9b9c",
        "part": "whole"
       },
       "id": "e6d8a017-e7f1-49a0-8233-68f39cdbca30"
      }
     }
    },
    "c5b7aad6-edc6-4233-a518-7c2a841646f7": {
     "id": "c5b7aad6-edc6-4233-a518-7c2a841646f7",
     "prev": "fc0f86c1-07d6-47cc-b566-09ae5836307e",
     "regions": {
      "b6b0b8e4-79c9-4250-aa88-afcc82fedcb7": {
       "attrs": {
        "height": 0.8,
        "width": 0.8,
        "x": 0.1,
        "y": 0.1
       },
       "content": {
        "cell": "b497c5f1-9b5b-4d3d-999f-e120c8731b00",
        "part": "whole"
       },
       "id": "b6b0b8e4-79c9-4250-aa88-afcc82fedcb7"
      }
     }
    },
    "c6d386a7-e2e1-4432-935c-1668249af9bc": {
     "id": "c6d386a7-e2e1-4432-935c-1668249af9bc",
     "prev": "6cfd9dc5-81f0-4d32-9110-a9d3425d53a9",
     "regions": {
      "4b92980d-cdec-4ee8-86ed-fd39d477e6cb": {
       "attrs": {
        "height": 0.8,
        "width": 0.8,
        "x": 0.1,
        "y": 0.1
       },
       "content": {
        "cell": "e5176a0a-c148-46ab-85ef-ee9aa297501a",
        "part": "whole"
       },
       "id": "4b92980d-cdec-4ee8-86ed-fd39d477e6cb"
      }
     }
    },
    "c72c7a24-034d-48f9-9323-71f169ddc3b6": {
     "id": "c72c7a24-034d-48f9-9323-71f169ddc3b6",
     "prev": "f739f9de-29fc-43a5-9f11-88a4dc02f6c3",
     "regions": {
      "ce0dfa0b-bbb7-4a3e-a90a-79d7258d9c6e": {
       "attrs": {
        "height": 0.8,
        "width": 0.8,
        "x": 0.1,
        "y": 0.1
       },
       "content": {
        "cell": "67786727-f613-4aa9-bd61-14cbadf21ee7",
        "part": "whole"
       },
       "id": "ce0dfa0b-bbb7-4a3e-a90a-79d7258d9c6e"
      }
     }
    },
    "c7356ded-751e-48f5-a426-970bab96d044": {
     "id": "c7356ded-751e-48f5-a426-970bab96d044",
     "prev": "2b1fc9a5-c3ac-48fc-95aa-5e152b5117f1",
     "regions": {
      "20e127f0-55c9-4d2a-9b39-74e7a1725c80": {
       "attrs": {
        "height": 0.8,
        "width": 0.8,
        "x": 0.1,
        "y": 0.1
       },
       "content": {
        "cell": "f50d19a8-ee6d-4ec0-9ee5-d737034ca571",
        "part": "whole"
       },
       "id": "20e127f0-55c9-4d2a-9b39-74e7a1725c80"
      }
     }
    },
    "c8af94a5-7b25-40ed-8bc7-88f5cd1c5f69": {
     "id": "c8af94a5-7b25-40ed-8bc7-88f5cd1c5f69",
     "prev": "2da3e757-190f-4d7d-ae76-c3db93a89052",
     "regions": {
      "4496e2b2-9edc-4269-a372-a7bd6d3fccc1": {
       "attrs": {
        "height": 0.8,
        "width": 0.8,
        "x": 0.1,
        "y": 0.1
       },
       "content": {
        "cell": "f5179ae6-71f8-4785-a9c0-22c44f8fca3e",
        "part": "whole"
       },
       "id": "4496e2b2-9edc-4269-a372-a7bd6d3fccc1"
      }
     }
    },
    "c8d537fb-0386-4e2a-858e-5f0a9ec7c566": {
     "id": "c8d537fb-0386-4e2a-858e-5f0a9ec7c566",
     "prev": "f47fd671-6dae-4afa-ade4-87e85afc3153",
     "regions": {
      "f950345b-cd28-42cb-a0e3-ceb919a6cd08": {
       "attrs": {
        "height": 0.8,
        "width": 0.8,
        "x": 0.1,
        "y": 0.1
       },
       "content": {
        "cell": "5f8c0a43-dcc5-4bc4-beec-557bde2a4be2",
        "part": "whole"
       },
       "id": "f950345b-cd28-42cb-a0e3-ceb919a6cd08"
      }
     }
    },
    "c9b7fdb1-87ba-4179-acdb-86e0dba58bb7": {
     "id": "c9b7fdb1-87ba-4179-acdb-86e0dba58bb7",
     "prev": "0116c512-e478-4cc3-a6f6-10b320c134f5",
     "regions": {
      "b2e22ee7-6031-45cc-aa8a-ee92354b69ee": {
       "attrs": {
        "height": 0.8,
        "width": 0.8,
        "x": 0.1,
        "y": 0.1
       },
       "content": {
        "cell": "19ba4f47-9d62-42f9-b312-cd914cc52a8b",
        "part": "whole"
       },
       "id": "b2e22ee7-6031-45cc-aa8a-ee92354b69ee"
      }
     }
    },
    "ca2b4c33-b138-4c8f-9256-184bfc31fa06": {
     "id": "ca2b4c33-b138-4c8f-9256-184bfc31fa06",
     "prev": "57fd6d87-a1ad-4f23-b769-8f36551aaba6",
     "regions": {
      "a4356bae-e225-4718-90c9-0a1925c5d5eb": {
       "attrs": {
        "height": 0.8,
        "width": 0.8,
        "x": 0.1,
        "y": 0.1
       },
       "content": {
        "cell": "dd4534cf-2d30-4990-bd71-8efef4ccd067",
        "part": "whole"
       },
       "id": "a4356bae-e225-4718-90c9-0a1925c5d5eb"
      }
     }
    },
    "cb791a93-5954-46d8-9095-1f94d1601fe6": {
     "id": "cb791a93-5954-46d8-9095-1f94d1601fe6",
     "prev": "dfb8f425-f6e2-4dcc-9d99-d5c6242b116a",
     "regions": {
      "685aa4a7-6d4d-47f5-b93c-5cd83dfcc04e": {
       "attrs": {
        "height": 0.8,
        "width": 0.8,
        "x": 0.1,
        "y": 0.1
       },
       "content": {
        "cell": "e2bc7b6c-f52f-420f-aab8-6009efd538ef",
        "part": "whole"
       },
       "id": "685aa4a7-6d4d-47f5-b93c-5cd83dfcc04e"
      }
     }
    },
    "cce7e02e-48af-48c9-a9e7-7191efbc9ff0": {
     "id": "cce7e02e-48af-48c9-a9e7-7191efbc9ff0",
     "prev": "2e6f005c-7429-416c-b8ea-b7194c4ca975",
     "regions": {
      "80e515d9-5b9d-4216-ba33-c2d53f521e63": {
       "attrs": {
        "height": 0.8,
        "width": 0.8,
        "x": 0.1,
        "y": 0.1
       },
       "content": {
        "cell": "ad047788-d665-4551-9918-e0fbe7c3ac91",
        "part": "whole"
       },
       "id": "80e515d9-5b9d-4216-ba33-c2d53f521e63"
      }
     }
    },
    "d1050486-e447-4f3b-a707-abb9281a41c7": {
     "id": "d1050486-e447-4f3b-a707-abb9281a41c7",
     "prev": "fe2cb6f4-ef92-420d-9f11-b0dc1ffc31a6",
     "regions": {
      "465c3e87-b2cd-4a6b-80fb-e05dac6a15c6": {
       "attrs": {
        "height": 0.8,
        "width": 0.8,
        "x": 0.1,
        "y": 0.1
       },
       "content": {
        "cell": "dbf0f436-3894-43df-a50b-443724cbf66c",
        "part": "whole"
       },
       "id": "465c3e87-b2cd-4a6b-80fb-e05dac6a15c6"
      }
     }
    },
    "d4a2d24d-617b-481a-9431-5b5a4aa75fe3": {
     "id": "d4a2d24d-617b-481a-9431-5b5a4aa75fe3",
     "prev": "bcf1afde-0991-4efc-a1b8-c7f821886641",
     "regions": {
      "f79ad6de-8689-44d8-bf10-3c58b220b10e": {
       "attrs": {
        "height": 0.8,
        "width": 0.8,
        "x": 0.1,
        "y": 0.1
       },
       "content": {
        "cell": "da49ba20-fced-42bc-837c-40fa836c6cbf",
        "part": "whole"
       },
       "id": "f79ad6de-8689-44d8-bf10-3c58b220b10e"
      }
     }
    },
    "d5aa6ddd-b8de-4ba8-bceb-2a72f8ed5cd6": {
     "id": "d5aa6ddd-b8de-4ba8-bceb-2a72f8ed5cd6",
     "prev": "65994f7c-8804-4dff-bafc-f497da248f27",
     "regions": {
      "838e923c-871c-4755-9c00-65ef63f9e828": {
       "attrs": {
        "height": 0.8,
        "width": 0.8,
        "x": 0.1,
        "y": 0.1
       },
       "content": {
        "cell": "f6e581bf-a027-4947-b6da-0a700a17af5f",
        "part": "whole"
       },
       "id": "838e923c-871c-4755-9c00-65ef63f9e828"
      }
     }
    },
    "d632da1a-6d99-4758-a6e5-72712acf2b04": {
     "id": "d632da1a-6d99-4758-a6e5-72712acf2b04",
     "prev": "2827665c-81b7-4a3f-8023-c1df74c35f37",
     "regions": {
      "5a9dcc69-450b-44dd-a515-570a542e338b": {
       "attrs": {
        "height": 0.8,
        "width": 0.8,
        "x": 0.1,
        "y": 0.1
       },
       "content": {
        "cell": "e3261167-8a20-4d4d-ba10-8806a7573ad9",
        "part": "whole"
       },
       "id": "5a9dcc69-450b-44dd-a515-570a542e338b"
      }
     }
    },
    "d639d628-8cb6-4b6f-b6ee-e6cd29b89016": {
     "id": "d639d628-8cb6-4b6f-b6ee-e6cd29b89016",
     "prev": "40d2de1c-52a9-4fbb-aa8f-595eb866cdac",
     "regions": {
      "7788c466-35c7-4468-b712-ab4ec1b40422": {
       "attrs": {
        "height": 0.8,
        "width": 0.8,
        "x": 0.1,
        "y": 0.1
       },
       "content": {
        "cell": "10df3063-2be6-4e09-9be5-ba9ec7cb190f",
        "part": "whole"
       },
       "id": "7788c466-35c7-4468-b712-ab4ec1b40422"
      }
     }
    },
    "d6a83da8-750d-43e9-9b7b-8eb4050cd7c1": {
     "id": "d6a83da8-750d-43e9-9b7b-8eb4050cd7c1",
     "prev": "10b11abb-3a0b-4aa1-8b19-66e07875a697",
     "regions": {
      "e9f1a48f-b355-453c-bf15-cc9cb54ac653": {
       "attrs": {
        "height": 0.8,
        "width": 0.8,
        "x": 0.1,
        "y": 0.1
       },
       "content": {
        "cell": "d0447670-c0fb-42b3-bcdf-6e4356b64551",
        "part": "whole"
       },
       "id": "e9f1a48f-b355-453c-bf15-cc9cb54ac653"
      }
     }
    },
    "d91a43c5-a845-4466-8323-d5252338b280": {
     "id": "d91a43c5-a845-4466-8323-d5252338b280",
     "prev": "0b6f2368-3da1-4ab3-be55-72a2816be0b1",
     "regions": {
      "4ae53a1d-e3b5-4681-bc15-fbb8fd4eb858": {
       "attrs": {
        "height": 0.8,
        "width": 0.8,
        "x": 0.1,
        "y": 0.1
       },
       "content": {
        "cell": "18b9cfd7-c9a3-4be7-881f-7c9350927ad9",
        "part": "whole"
       },
       "id": "4ae53a1d-e3b5-4681-bc15-fbb8fd4eb858"
      }
     }
    },
    "d9497fb7-7b59-4633-9b4f-749ad81562a9": {
     "id": "d9497fb7-7b59-4633-9b4f-749ad81562a9",
     "prev": "86296ac8-9f39-4d49-b941-a3d916577a40",
     "regions": {
      "0d436fd0-7f1c-4fca-9ca5-db0170cb5656": {
       "attrs": {
        "height": 0.8,
        "width": 0.8,
        "x": 0.1,
        "y": 0.1
       },
       "content": {
        "cell": "3c91fb7c-2c5c-4265-93c0-6f7dc15a6db1",
        "part": "whole"
       },
       "id": "0d436fd0-7f1c-4fca-9ca5-db0170cb5656"
      }
     }
    },
    "daa2aa55-d7ef-44ea-9bb9-be0e7851549c": {
     "id": "daa2aa55-d7ef-44ea-9bb9-be0e7851549c",
     "prev": "c3b92eec-1c83-4efb-bf9f-8c02d9bc87ef",
     "regions": {
      "05061138-e896-484d-82e3-8169e8c8b765": {
       "attrs": {
        "height": 0.8,
        "width": 0.8,
        "x": 0.1,
        "y": 0.1
       },
       "content": {
        "cell": "5cefc101-2dda-41c9-8632-f8a3797721ac",
        "part": "whole"
       },
       "id": "05061138-e896-484d-82e3-8169e8c8b765"
      }
     }
    },
    "deddb29d-2ca7-46ab-b422-83d4980c401b": {
     "id": "deddb29d-2ca7-46ab-b422-83d4980c401b",
     "prev": "c8d537fb-0386-4e2a-858e-5f0a9ec7c566",
     "regions": {
      "f96ff05f-c2e0-4f5b-bd08-c3a7b930e2ed": {
       "attrs": {
        "height": 0.8,
        "width": 0.8,
        "x": 0.1,
        "y": 0.1
       },
       "content": {
        "cell": "f7d20e2f-45be-4955-88f3-6ae73a5b66d2",
        "part": "whole"
       },
       "id": "f96ff05f-c2e0-4f5b-bd08-c3a7b930e2ed"
      }
     }
    },
    "dfb8f425-f6e2-4dcc-9d99-d5c6242b116a": {
     "id": "dfb8f425-f6e2-4dcc-9d99-d5c6242b116a",
     "prev": "daa2aa55-d7ef-44ea-9bb9-be0e7851549c",
     "regions": {
      "c99fad7e-294b-411a-94ad-0f6a78641e26": {
       "attrs": {
        "height": 0.8,
        "width": 0.8,
        "x": 0.1,
        "y": 0.1
       },
       "content": {
        "cell": "76dcbd04-592d-428b-9a7e-5c1c557eeea5",
        "part": "whole"
       },
       "id": "c99fad7e-294b-411a-94ad-0f6a78641e26"
      }
     }
    },
    "dfe9e737-5bf3-4477-beb7-77a49c53b662": {
     "id": "dfe9e737-5bf3-4477-beb7-77a49c53b662",
     "prev": "90aa268a-f8f9-48d0-911b-12940974eb66",
     "regions": {
      "22e46bb5-16fb-4543-9e4f-a5b90ee8c28e": {
       "attrs": {
        "height": 0.8,
        "width": 0.8,
        "x": 0.1,
        "y": 0.1
       },
       "content": {
        "cell": "8cf2b82f-d6a2-4fcd-9557-c0b09b344025",
        "part": "whole"
       },
       "id": "22e46bb5-16fb-4543-9e4f-a5b90ee8c28e"
      }
     }
    },
    "e02c5282-7c4e-44ce-b7e1-6dc041567545": {
     "id": "e02c5282-7c4e-44ce-b7e1-6dc041567545",
     "prev": "21785b9d-5af6-432f-9238-6cda4d025025",
     "regions": {
      "a3259a38-a37f-4c64-a92d-99714c601875": {
       "attrs": {
        "height": 0.8,
        "width": 0.8,
        "x": 0.1,
        "y": 0.1
       },
       "content": {
        "cell": "0c9d0ff5-38b7-4519-9410-23649e305bc5",
        "part": "whole"
       },
       "id": "a3259a38-a37f-4c64-a92d-99714c601875"
      }
     }
    },
    "e031431d-2acd-4d00-8e3e-655b7d354f11": {
     "id": "e031431d-2acd-4d00-8e3e-655b7d354f11",
     "prev": "ad072831-3c1c-400e-b3f2-27e03a031266",
     "regions": {
      "d48f3fb3-2bb9-4997-8332-672b56cef5ee": {
       "attrs": {
        "height": 0.8,
        "width": 0.8,
        "x": 0.1,
        "y": 0.1
       },
       "content": {
        "cell": "641eb748-27ec-42f3-b948-390efd79ec8b",
        "part": "whole"
       },
       "id": "d48f3fb3-2bb9-4997-8332-672b56cef5ee"
      }
     }
    },
    "e70f1d40-5601-4382-b293-ad2ba7a38feb": {
     "id": "e70f1d40-5601-4382-b293-ad2ba7a38feb",
     "prev": "deddb29d-2ca7-46ab-b422-83d4980c401b",
     "regions": {
      "4ca02a16-18df-48b9-9026-c45142ca43c8": {
       "attrs": {
        "height": 0.8,
        "width": 0.8,
        "x": 0.1,
        "y": 0.1
       },
       "content": {
        "cell": "c0f36f46-edd9-441a-8aa1-7b0b209dc582",
        "part": "whole"
       },
       "id": "4ca02a16-18df-48b9-9026-c45142ca43c8"
      }
     }
    },
    "ebf12b5f-8161-4546-bc64-1f37cb0e96ac": {
     "id": "ebf12b5f-8161-4546-bc64-1f37cb0e96ac",
     "prev": "9f8df769-5268-42f0-bd48-759d65156b6d",
     "regions": {
      "c3f0a7d1-3948-404a-abf6-e01238afada6": {
       "attrs": {
        "height": 0.8,
        "width": 0.8,
        "x": 0.1,
        "y": 0.1
       },
       "content": {
        "cell": "52a62202-19a5-48ac-a344-d160dfe5a46d",
        "part": "whole"
       },
       "id": "c3f0a7d1-3948-404a-abf6-e01238afada6"
      }
     }
    },
    "f049aa19-0dc7-4715-b2c8-f111b7fea484": {
     "id": "f049aa19-0dc7-4715-b2c8-f111b7fea484",
     "prev": "b87910b2-e2e0-447c-8ef4-972d525cf0aa",
     "regions": {
      "4a3a5735-7296-453d-b3dc-2213f8709175": {
       "attrs": {
        "height": 0.8,
        "width": 0.8,
        "x": 0.1,
        "y": 0.1
       },
       "content": {
        "cell": "c0ba1516-4cc6-4b92-a498-56a96550b968",
        "part": "whole"
       },
       "id": "4a3a5735-7296-453d-b3dc-2213f8709175"
      }
     }
    },
    "f21566b4-0ac2-4ca4-88ac-f17eed93a593": {
     "id": "f21566b4-0ac2-4ca4-88ac-f17eed93a593",
     "prev": "91dccd58-7bfb-4858-a607-09d1f7602abd",
     "regions": {
      "204b1925-fa9d-48d0-9a0c-2a188173d378": {
       "attrs": {
        "height": 0.8,
        "width": 0.8,
        "x": 0.1,
        "y": 0.1
       },
       "content": {
        "cell": "e5b62bc2-5c52-455f-b7db-7402041b8ebf",
        "part": "whole"
       },
       "id": "204b1925-fa9d-48d0-9a0c-2a188173d378"
      }
     }
    },
    "f23cacb3-3f61-4752-814f-decbf5727b7c": {
     "id": "f23cacb3-3f61-4752-814f-decbf5727b7c",
     "prev": "5bad6cc0-5fd5-433b-a019-f62425eac0dd",
     "regions": {
      "e29e17a1-8ebd-4f0d-a02c-4b76eaa4dc7e": {
       "attrs": {
        "height": 0.8,
        "width": 0.8,
        "x": 0.1,
        "y": 0.1
       },
       "content": {
        "cell": "15b6964a-4363-467e-a5d6-065d87df79f3",
        "part": "whole"
       },
       "id": "e29e17a1-8ebd-4f0d-a02c-4b76eaa4dc7e"
      }
     }
    },
    "f47fd671-6dae-4afa-ade4-87e85afc3153": {
     "id": "f47fd671-6dae-4afa-ade4-87e85afc3153",
     "prev": "d632da1a-6d99-4758-a6e5-72712acf2b04",
     "regions": {
      "79251a8b-9453-4a66-acd6-dac61f37b191": {
       "attrs": {
        "height": 0.8,
        "width": 0.8,
        "x": 0.1,
        "y": 0.1
       },
       "content": {
        "cell": "48565cbd-56bd-4e1c-83a3-cf75537836dc",
        "part": "whole"
       },
       "id": "79251a8b-9453-4a66-acd6-dac61f37b191"
      }
     }
    },
    "f6e64197-0b61-48c6-b0c7-34ea0b2278a3": {
     "id": "f6e64197-0b61-48c6-b0c7-34ea0b2278a3",
     "prev": "6cd59d6e-a0a3-468c-bfa7-9f9ae81f34d8",
     "regions": {
      "59e5c220-235b-4784-8f9c-1a92b32df108": {
       "attrs": {
        "height": 0.8,
        "width": 0.8,
        "x": 0.1,
        "y": 0.1
       },
       "content": {
        "cell": "490db2d3-b0d2-4b43-9211-9a72525c8aed",
        "part": "whole"
       },
       "id": "59e5c220-235b-4784-8f9c-1a92b32df108"
      }
     }
    },
    "f739f9de-29fc-43a5-9f11-88a4dc02f6c3": {
     "id": "f739f9de-29fc-43a5-9f11-88a4dc02f6c3",
     "prev": "71f49712-3d94-4efa-b08b-baec354d96eb",
     "regions": {
      "8db5abef-8bb0-4825-afc7-6ac6ff2ccbc2": {
       "attrs": {
        "height": 0.8,
        "width": 0.8,
        "x": 0.1,
        "y": 0.1
       },
       "content": {
        "cell": "c6fce9c1-e5e3-4ce4-9699-a2465774362c",
        "part": "whole"
       },
       "id": "8db5abef-8bb0-4825-afc7-6ac6ff2ccbc2"
      }
     }
    },
    "fc0f86c1-07d6-47cc-b566-09ae5836307e": {
     "id": "fc0f86c1-07d6-47cc-b566-09ae5836307e",
     "prev": "35f8d034-2270-41b5-86b3-943e8a6e9d7d",
     "regions": {
      "684a8f26-26a4-4f74-a915-dfa894a23cf4": {
       "attrs": {
        "height": 0.8,
        "width": 0.8,
        "x": 0.1,
        "y": 0.1
       },
       "content": {
        "cell": "5dc87e7d-2de0-4254-bb0b-95adf415460e",
        "part": "whole"
       },
       "id": "684a8f26-26a4-4f74-a915-dfa894a23cf4"
      }
     }
    },
    "fdad048e-0e9e-4064-bb74-134e57433afa": {
     "id": "fdad048e-0e9e-4064-bb74-134e57433afa",
     "prev": "1b156bfa-80b7-4ae3-a6da-9707dfbfddd7",
     "regions": {
      "03e03309-85d9-4c32-9a48-2561460f8dce": {
       "attrs": {
        "height": 0.8,
        "width": 0.8,
        "x": 0.1,
        "y": 0.1
       },
       "content": {
        "cell": "4b66f455-c679-49cd-b7ca-7ae7a55ef8aa",
        "part": "whole"
       },
       "id": "03e03309-85d9-4c32-9a48-2561460f8dce"
      }
     }
    },
    "fe2cb6f4-ef92-420d-9f11-b0dc1ffc31a6": {
     "id": "fe2cb6f4-ef92-420d-9f11-b0dc1ffc31a6",
     "prev": "230d56a1-52e8-4181-b886-16105a11b344",
     "regions": {
      "ffe1b8b3-97e5-41fb-8579-11f8597c7abe": {
       "attrs": {
        "height": 0.8,
        "width": 0.8,
        "x": 0.1,
        "y": 0.1
       },
       "content": {
        "cell": "6005266d-fc44-4cd6-9dfc-99f6917012f1",
        "part": "whole"
       },
       "id": "ffe1b8b3-97e5-41fb-8579-11f8597c7abe"
      }
     }
    },
    "febed544-9a84-4165-805a-c1fd80a7f798": {
     "id": "febed544-9a84-4165-805a-c1fd80a7f798",
     "prev": "802e0791-6b37-4e14-a4a4-29fdf7c502cb",
     "regions": {
      "a88f0ed7-d4d0-46f2-b27d-f0372c677d5c": {
       "attrs": {
        "height": 0.8,
        "width": 0.8,
        "x": 0.1,
        "y": 0.1
       },
       "content": {
        "cell": "ba28e0bc-3211-4999-ac60-1276dab0bf4b",
        "part": "whole"
       },
       "id": "a88f0ed7-d4d0-46f2-b27d-f0372c677d5c"
      }
     }
    }
   },
   "themes": {}
  }
 },
 "nbformat": 4,
 "nbformat_minor": 1
}
